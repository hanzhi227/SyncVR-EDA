{
 "cells": [
  {
   "cell_type": "code",
   "metadata": {
    "tags": [],
    "cell_id": "00000-3b9ccbb5-700b-4fc4-8034-3c49ba126879",
    "deepnote_to_be_reexecuted": false,
    "source_hash": "b623e53d",
    "execution_start": 1627330047163,
    "execution_millis": 2,
    "deepnote_cell_type": "code"
   },
   "source": "",
   "execution_count": 0,
   "outputs": []
  },
  {
   "cell_type": "code",
   "metadata": {
    "tags": [],
    "cell_id": "00000-2267f9a8-83ba-4bd3-91b6-56d961f21004",
    "deepnote_to_be_reexecuted": false,
    "source_hash": "f25bd425",
    "execution_start": 1627330053157,
    "execution_millis": 2,
    "deepnote_cell_type": "code"
   },
   "source": "import numpy as np\nimport pandas as pd\n",
   "execution_count": 2,
   "outputs": []
  },
  {
   "cell_type": "code",
   "metadata": {
    "tags": [],
    "cell_id": "00002-7428d2d5-137a-4532-a7fc-b557e27b8901",
    "deepnote_to_be_reexecuted": false,
    "source_hash": "4d4b7f07",
    "execution_start": 1627330095104,
    "execution_millis": 6748,
    "deepnote_cell_type": "code"
   },
   "source": "!pip install geopy\n!pip install geopandas\nfrom geopy.geocoders import Nominatim\nimport geopandas as gpd\nimport matplotlib.pyplot as plt\nfrom datetime import date",
   "execution_count": 6,
   "outputs": [
    {
     "name": "stdout",
     "text": "Requirement already satisfied: geopy in /root/venv/lib/python3.7/site-packages (2.2.0)\nRequirement already satisfied: geographiclib<2,>=1.49 in /root/venv/lib/python3.7/site-packages (from geopy) (1.52)\n\u001b[33mWARNING: You are using pip version 21.1.3; however, version 21.2.1 is available.\nYou should consider upgrading via the '/root/venv/bin/python -m pip install --upgrade pip' command.\u001b[0m\nCollecting geopandas\n  Downloading geopandas-0.9.0-py2.py3-none-any.whl (994 kB)\n\u001b[K     |████████████████████████████████| 994 kB 27.7 MB/s \n\u001b[?25hCollecting pyproj>=2.2.0\n  Downloading pyproj-3.1.0-cp37-cp37m-manylinux2010_x86_64.whl (6.6 MB)\n\u001b[K     |████████████████████████████████| 6.6 MB 92.7 MB/s \n\u001b[?25hRequirement already satisfied: pandas>=0.24.0 in /shared-libs/python3.7/py/lib/python3.7/site-packages (from geopandas) (1.2.5)\nCollecting shapely>=1.6\n  Downloading Shapely-1.7.1-cp37-cp37m-manylinux1_x86_64.whl (1.0 MB)\n\u001b[K     |████████████████████████████████| 1.0 MB 81.0 MB/s \n\u001b[?25hRequirement already satisfied: fiona>=1.8 in /shared-libs/python3.7/py/lib/python3.7/site-packages (from geopandas) (1.8.20)\nRequirement already satisfied: setuptools in /root/venv/lib/python3.7/site-packages (from fiona>=1.8->geopandas) (57.1.0)\nRequirement already satisfied: click>=4.0 in /shared-libs/python3.7/py/lib/python3.7/site-packages (from fiona>=1.8->geopandas) (7.1.2)\nRequirement already satisfied: certifi in /shared-libs/python3.7/py/lib/python3.7/site-packages (from fiona>=1.8->geopandas) (2021.5.30)\nRequirement already satisfied: cligj>=0.5 in /shared-libs/python3.7/py/lib/python3.7/site-packages (from fiona>=1.8->geopandas) (0.7.2)\nRequirement already satisfied: click-plugins>=1.0 in /shared-libs/python3.7/py/lib/python3.7/site-packages (from fiona>=1.8->geopandas) (1.1.1)\nRequirement already satisfied: six>=1.7 in /shared-libs/python3.7/py-core/lib/python3.7/site-packages (from fiona>=1.8->geopandas) (1.16.0)\nRequirement already satisfied: attrs>=17 in /shared-libs/python3.7/py-core/lib/python3.7/site-packages (from fiona>=1.8->geopandas) (21.2.0)\nRequirement already satisfied: munch in /shared-libs/python3.7/py/lib/python3.7/site-packages (from fiona>=1.8->geopandas) (2.5.0)\nRequirement already satisfied: numpy>=1.16.5 in /shared-libs/python3.7/py/lib/python3.7/site-packages (from pandas>=0.24.0->geopandas) (1.19.5)\nRequirement already satisfied: python-dateutil>=2.7.3 in /shared-libs/python3.7/py-core/lib/python3.7/site-packages (from pandas>=0.24.0->geopandas) (2.8.2)\nRequirement already satisfied: pytz>=2017.3 in /shared-libs/python3.7/py/lib/python3.7/site-packages (from pandas>=0.24.0->geopandas) (2021.1)\nInstalling collected packages: shapely, pyproj, geopandas\nSuccessfully installed geopandas-0.9.0 pyproj-3.1.0 shapely-1.7.1\n\u001b[33mWARNING: You are using pip version 21.1.3; however, version 21.2.1 is available.\nYou should consider upgrading via the '/root/venv/bin/python -m pip install --upgrade pip' command.\u001b[0m\n",
     "output_type": "stream"
    }
   ]
  },
  {
   "cell_type": "code",
   "metadata": {
    "tags": [],
    "cell_id": "00001-a28aef5d-c210-45ac-b758-94b332404d8d",
    "deepnote_to_be_reexecuted": false,
    "source_hash": "b7be2a99",
    "execution_start": 1627332976255,
    "execution_millis": 1781,
    "deepnote_cell_type": "code"
   },
   "source": "df = pd.read_csv('/work/SyncVR-EDA/data/Derelict_Vehicle_Dispositions_-_Vehicles.csv')",
   "execution_count": 108,
   "outputs": []
  },
  {
   "cell_type": "code",
   "metadata": {
    "tags": [],
    "cell_id": "00003-de5b27cf-6d2e-40eb-b90c-747f62705133",
    "deepnote_to_be_reexecuted": false,
    "source_hash": "f804c160",
    "execution_start": 1627334438783,
    "execution_millis": 709,
    "deepnote_cell_type": "code"
   },
   "source": "df",
   "execution_count": 147,
   "outputs": [
    {
     "output_type": "execute_result",
     "execution_count": 147,
     "data": {
      "application/vnd.deepnote.dataframe.v2+json": {
       "row_count": 688766,
       "column_count": 22,
       "columns": [
        {
         "name": "ISN",
         "dtype": "int64"
        },
        {
         "name": "DISTRICT_CD",
         "dtype": "object"
        },
        {
         "name": "TAG_LOC1",
         "dtype": "object"
        },
        {
         "name": "TAG_LOC2",
         "dtype": "object"
        },
        {
         "name": "YEAR",
         "dtype": "float64"
        },
        {
         "name": "MAKE",
         "dtype": "object"
        },
        {
         "name": "TYPE",
         "dtype": "object"
        },
        {
         "name": "COLOR",
         "dtype": "object"
        },
        {
         "name": "TAG_REMARKS",
         "dtype": "object"
        },
        {
         "name": "TAG_NO",
         "dtype": "int64"
        },
        {
         "name": "TAG_DATE",
         "dtype": "int64"
        },
        {
         "name": "TAG_TIME",
         "dtype": "datetime64[ns]"
        },
        {
         "name": "TIMESTMP",
         "dtype": "datetime64[ns]"
        },
        {
         "name": "CHECKED_DATE",
         "dtype": "float64"
        },
        {
         "name": "TIMESTMP_UPD",
         "dtype": "float64"
        },
        {
         "name": "FINAL_DISP_DATE",
         "dtype": "int64"
        },
        {
         "name": "FINAL_DISP_CD",
         "dtype": "object"
        },
        {
         "name": "SE_STATUS",
         "dtype": "object"
        },
        {
         "name": "CITY",
         "dtype": "object"
        },
        {
         "name": "STATE",
         "dtype": "object"
        },
        {
         "name": "STOLEN_INDIC",
         "dtype": "bool"
        },
        {
         "name": "DOT",
         "dtype": "float64"
        },
        {
         "name": "_deepnote_index_column",
         "dtype": "int64"
        }
       ],
       "rows_top": [
        {
         "ISN": 1648,
         "DISTRICT_CD": "QN",
         "TAG_LOC1": "N/S 41 AVE BET MAIN ST &",
         "TAG_LOC2": "COLLEGE PT BLVD",
         "YEAR": 1984,
         "MAKE": "MERCUR",
         "TYPE": "4D",
         "COLOR": "RED",
         "TAG_REMARKS": "CVDASH#EK652957 NOB/UNICB",
         "TAG_NO": 4109185,
         "TAG_DATE": 19950905,
         "TAG_TIME": "1900-01-01T09:00:00.000000",
         "TIMESTMP": "1995-09-05T10:50:15.000000",
         "CHECKED_DATE": 19950906,
         "TIMESTMP_UPD": 19951005141214,
         "FINAL_DISP_DATE": 19950906,
         "FINAL_DISP_CD": "RTC",
         "SE_STATUS": "N",
         "CITY": "nan",
         "STATE": "nan",
         "STOLEN_INDIC": "False",
         "DOT": "nan",
         "_deepnote_index_column": 0
        },
        {
         "ISN": 1649,
         "DISTRICT_CD": "QW",
         "TAG_LOC1": "W/S 38 AVE BET 108 & 111",
         "TAG_LOC2": "nan",
         "YEAR": 1978,
         "MAKE": "FORD",
         "TYPE": "2D",
         "COLOR": "BROWN",
         "TAG_REMARKS": "nan",
         "TAG_NO": 391103,
         "TAG_DATE": 19891220,
         "TAG_TIME": "1900-01-01T10:15:00.000000",
         "TIMESTMP": "1989-12-21T08:29:38.000000",
         "CHECKED_DATE": 19891221,
         "TIMESTMP_UPD": "nan",
         "FINAL_DISP_DATE": 19891221,
         "FINAL_DISP_CD": "RTC",
         "SE_STATUS": "nan",
         "CITY": "nan",
         "STATE": "nan",
         "STOLEN_INDIC": "False",
         "DOT": "nan",
         "_deepnote_index_column": 1
        },
        {
         "ISN": 1650,
         "DISTRICT_CD": "QW",
         "TAG_LOC1": "IN LOT 14ST AND 34ST",
         "TAG_LOC2": "nan",
         "YEAR": 1982,
         "MAKE": "NISSAN",
         "TYPE": "2D",
         "COLOR": "GREY",
         "TAG_REMARKS": "nan",
         "TAG_NO": 391252,
         "TAG_DATE": 19891220,
         "TAG_TIME": "1900-01-01T12:30:00.000000",
         "TIMESTMP": "1989-12-21T08:30:43.000000",
         "CHECKED_DATE": 19891221,
         "TIMESTMP_UPD": "nan",
         "FINAL_DISP_DATE": 19891221,
         "FINAL_DISP_CD": "RTC",
         "SE_STATUS": "nan",
         "CITY": "nan",
         "STATE": "nan",
         "STOLEN_INDIC": "False",
         "DOT": "nan",
         "_deepnote_index_column": 2
        },
        {
         "ISN": 1651,
         "DISTRICT_CD": "QW",
         "TAG_LOC1": "S/S 39 AVE  BET 112 & 111",
         "TAG_LOC2": "STREET",
         "YEAR": 1980,
         "MAKE": "TOYOTA",
         "TYPE": "2D",
         "COLOR": "GREY",
         "TAG_REMARKS": "nan",
         "TAG_NO": 391104,
         "TAG_DATE": 19891220,
         "TAG_TIME": "1900-01-01T10:20:00.000000",
         "TIMESTMP": "1989-12-21T08:35:10.000000",
         "CHECKED_DATE": 19891221,
         "TIMESTMP_UPD": "nan",
         "FINAL_DISP_DATE": 19891221,
         "FINAL_DISP_CD": "RTC",
         "SE_STATUS": "nan",
         "CITY": "nan",
         "STATE": "nan",
         "STOLEN_INDIC": "False",
         "DOT": "nan",
         "_deepnote_index_column": 3
        },
        {
         "ISN": 1652,
         "DISTRICT_CD": "QW",
         "TAG_LOC1": "W/S 91 STREET BET 35 & 34",
         "TAG_LOC2": "AVE",
         "YEAR": 1982,
         "MAKE": "DODGE",
         "TYPE": "4D",
         "COLOR": "GREY",
         "TAG_REMARKS": "nan",
         "TAG_NO": 391105,
         "TAG_DATE": 19891220,
         "TAG_TIME": "1900-01-01T11:00:00.000000",
         "TIMESTMP": "1989-12-21T08:37:09.000000",
         "CHECKED_DATE": 19891221,
         "TIMESTMP_UPD": "nan",
         "FINAL_DISP_DATE": 19891221,
         "FINAL_DISP_CD": "RTC",
         "SE_STATUS": "nan",
         "CITY": "nan",
         "STATE": "nan",
         "STOLEN_INDIC": "False",
         "DOT": "nan",
         "_deepnote_index_column": 4
        },
        {
         "ISN": 1653,
         "DISTRICT_CD": "QW",
         "TAG_LOC1": "IFO 41-03 99 ST B/T 42 AV",
         "TAG_LOC2": "AND 41 AV",
         "YEAR": 1978,
         "MAKE": "CADILL",
         "TYPE": "4D",
         "COLOR": "BLUE",
         "TAG_REMARKS": "nan",
         "TAG_NO": 391839,
         "TAG_DATE": 19891220,
         "TAG_TIME": "1900-01-01T08:45:00.000000",
         "TIMESTMP": "1989-12-21T08:38:19.000000",
         "CHECKED_DATE": 19891222,
         "TIMESTMP_UPD": "nan",
         "FINAL_DISP_DATE": 19891222,
         "FINAL_DISP_CD": "RTC",
         "SE_STATUS": "nan",
         "CITY": "nan",
         "STATE": "nan",
         "STOLEN_INDIC": "False",
         "DOT": "nan",
         "_deepnote_index_column": 5
        },
        {
         "ISN": 1654,
         "DISTRICT_CD": "QW",
         "TAG_LOC1": "NORTHERN BLVD BET 85 & 86",
         "TAG_LOC2": "ST C/O OF 85ST",
         "YEAR": 1983,
         "MAKE": "PONTIA",
         "TYPE": "4D",
         "COLOR": "BLUE",
         "TAG_REMARKS": "nan",
         "TAG_NO": 391056,
         "TAG_DATE": 19891220,
         "TAG_TIME": "1900-01-01T11:20:00.000000",
         "TIMESTMP": "1989-12-21T08:38:51.000000",
         "CHECKED_DATE": 19891222,
         "TIMESTMP_UPD": "nan",
         "FINAL_DISP_DATE": 19891222,
         "FINAL_DISP_CD": "RTC",
         "SE_STATUS": "nan",
         "CITY": "nan",
         "STATE": "nan",
         "STOLEN_INDIC": "False",
         "DOT": "nan",
         "_deepnote_index_column": 6
        },
        {
         "ISN": 1655,
         "DISTRICT_CD": "QW",
         "TAG_LOC1": "98 ST B/T 55 AVE AND",
         "TAG_LOC2": "CHRISTIE AVE",
         "YEAR": 1980,
         "MAKE": "CHEVY",
         "TYPE": "4D",
         "COLOR": "BROWN",
         "TAG_REMARKS": "nan",
         "TAG_NO": 391840,
         "TAG_DATE": 19891220,
         "TAG_TIME": "1900-01-01T09:05:00.000000",
         "TIMESTMP": "1989-12-21T08:39:33.000000",
         "CHECKED_DATE": 19891221,
         "TIMESTMP_UPD": "nan",
         "FINAL_DISP_DATE": 19891221,
         "FINAL_DISP_CD": "RTC",
         "SE_STATUS": "nan",
         "CITY": "nan",
         "STATE": "nan",
         "STOLEN_INDIC": "False",
         "DOT": "nan",
         "_deepnote_index_column": 7
        },
        {
         "ISN": 1656,
         "DISTRICT_CD": "MW",
         "TAG_LOC1": "EDGECOMBE AVENUE @ JUMEL",
         "TAG_LOC2": "PLACE.",
         "YEAR": 1988,
         "MAKE": "CHEVRO",
         "TYPE": "2D",
         "COLOR": "BLUE",
         "TAG_REMARKS": "TAGGED BY DVO.",
         "TAG_NO": 1012048,
         "TAG_DATE": 19910715,
         "TAG_TIME": "1900-01-01T07:50:00.000000",
         "TIMESTMP": "1991-07-15T11:32:33.000000",
         "CHECKED_DATE": 19910716,
         "TIMESTMP_UPD": 19910716102922,
         "FINAL_DISP_DATE": 19910716,
         "FINAL_DISP_CD": "RTC",
         "SE_STATUS": "A",
         "CITY": "nan",
         "STATE": "nan",
         "STOLEN_INDIC": "False",
         "DOT": "nan",
         "_deepnote_index_column": 8
        },
        {
         "ISN": 1657,
         "DISTRICT_CD": "QW",
         "TAG_LOC1": "R/S 60 AV B/T 99 ST AND",
         "TAG_LOC2": "CALLOWAY ST",
         "YEAR": "nan",
         "MAKE": "CHEVY",
         "TYPE": "4D",
         "COLOR": "RED",
         "TAG_REMARKS": "nan",
         "TAG_NO": 391851,
         "TAG_DATE": 19891220,
         "TAG_TIME": "1900-01-01T09:15:00.000000",
         "TIMESTMP": "1989-12-22T12:26:23.000000",
         "CHECKED_DATE": "nan",
         "TIMESTMP_UPD": "nan",
         "FINAL_DISP_DATE": 19891222,
         "FINAL_DISP_CD": "NOL",
         "SE_STATUS": "nan",
         "CITY": "nan",
         "STATE": "nan",
         "STOLEN_INDIC": "False",
         "DOT": "nan",
         "_deepnote_index_column": 9
        },
        {
         "ISN": 1658,
         "DISTRICT_CD": "QW",
         "TAG_LOC1": "100 ST B/ET 57 AVE AND",
         "TAG_LOC2": "LEWIS AVE",
         "YEAR": 1979,
         "MAKE": "CHEVY",
         "TYPE": "4D",
         "COLOR": "RED",
         "TAG_REMARKS": "nan",
         "TAG_NO": 391852,
         "TAG_DATE": 19891220,
         "TAG_TIME": "1900-01-01T09:30:00.000000",
         "TIMESTMP": "1989-12-21T08:41:52.000000",
         "CHECKED_DATE": 19891221,
         "TIMESTMP_UPD": "nan",
         "FINAL_DISP_DATE": 19891221,
         "FINAL_DISP_CD": "RTC",
         "SE_STATUS": "nan",
         "CITY": "nan",
         "STATE": "nan",
         "STOLEN_INDIC": "False",
         "DOT": "nan",
         "_deepnote_index_column": 10
        },
        {
         "ISN": 1659,
         "DISTRICT_CD": "QW",
         "TAG_LOC1": "101 ST B/ET LEWIS AND",
         "TAG_LOC2": "MARTENSE AVE",
         "YEAR": 1987,
         "MAKE": "FORD",
         "TYPE": "2D",
         "COLOR": "WHITE",
         "TAG_REMARKS": "nan",
         "TAG_NO": 391853,
         "TAG_DATE": 19891220,
         "TAG_TIME": "1900-01-01T09:35:00.000000",
         "TIMESTMP": "1989-12-21T08:42:44.000000",
         "CHECKED_DATE": 19891221,
         "TIMESTMP_UPD": "nan",
         "FINAL_DISP_DATE": 19891221,
         "FINAL_DISP_CD": "RTC",
         "SE_STATUS": "nan",
         "CITY": "nan",
         "STATE": "nan",
         "STOLEN_INDIC": "False",
         "DOT": "nan",
         "_deepnote_index_column": 11
        },
        {
         "ISN": 1660,
         "DISTRICT_CD": "QW",
         "TAG_LOC1": "R/S 51 AVE 97 ST.TO 96 ST",
         "TAG_LOC2": ".",
         "YEAR": 1984,
         "MAKE": "PLYMOU",
         "TYPE": "4D",
         "COLOR": "WHITE",
         "TAG_REMARKS": "nan",
         "TAG_NO": 4104257,
         "TAG_DATE": 19940909,
         "TAG_TIME": "1900-01-01T09:50:00.000000",
         "TIMESTMP": "1994-09-12T09:15:57.000000",
         "CHECKED_DATE": 19940912,
         "TIMESTMP_UPD": 19940913100858,
         "FINAL_DISP_DATE": 19940912,
         "FINAL_DISP_CD": "RTC",
         "SE_STATUS": "A",
         "CITY": "CORONA",
         "STATE": "NY",
         "STOLEN_INDIC": "False",
         "DOT": "nan",
         "_deepnote_index_column": 12
        },
        {
         "ISN": 1661,
         "DISTRICT_CD": "QW",
         "TAG_LOC1": "RADCLIFF AVE B/ET 101 ST",
         "TAG_LOC2": "102 ST",
         "YEAR": 1984,
         "MAKE": "HONDA",
         "TYPE": "4D",
         "COLOR": "GRAY",
         "TAG_REMARKS": "nan",
         "TAG_NO": 391854,
         "TAG_DATE": 19891220,
         "TAG_TIME": "1900-01-01T09:45:00.000000",
         "TIMESTMP": "1989-12-21T08:43:54.000000",
         "CHECKED_DATE": 19891221,
         "TIMESTMP_UPD": "nan",
         "FINAL_DISP_DATE": 19891221,
         "FINAL_DISP_CD": "RTC",
         "SE_STATUS": "nan",
         "CITY": "nan",
         "STATE": "nan",
         "STOLEN_INDIC": "False",
         "DOT": "nan",
         "_deepnote_index_column": 13
        },
        {
         "ISN": 1662,
         "DISTRICT_CD": "QW",
         "TAG_LOC1": "S/S 53 AVE B/ET 108 AND",
         "TAG_LOC2": "106 ST",
         "YEAR": 1981,
         "MAKE": "NISSAN",
         "TYPE": "2D",
         "COLOR": "RED",
         "TAG_REMARKS": "nan",
         "TAG_NO": 391855,
         "TAG_DATE": 19891220,
         "TAG_TIME": "1900-01-01T09:50:00.000000",
         "TIMESTMP": "1989-12-21T08:45:13.000000",
         "CHECKED_DATE": 19891222,
         "TIMESTMP_UPD": "nan",
         "FINAL_DISP_DATE": 19891222,
         "FINAL_DISP_CD": "RTC",
         "SE_STATUS": "nan",
         "CITY": "nan",
         "STATE": "nan",
         "STOLEN_INDIC": "False",
         "DOT": "nan",
         "_deepnote_index_column": 14
        },
        {
         "ISN": 1663,
         "DISTRICT_CD": "QW",
         "TAG_LOC1": "S/S 46 AVE B/T 108 AND",
         "TAG_LOC2": "109 ST",
         "YEAR": 1982,
         "MAKE": "DATSUN",
         "TYPE": "4D",
         "COLOR": "RED",
         "TAG_REMARKS": "=",
         "TAG_NO": 391856,
         "TAG_DATE": 19891220,
         "TAG_TIME": "1900-01-01T10:10:00.000000",
         "TIMESTMP": "1989-12-21T08:46:14.000000",
         "CHECKED_DATE": 19891221,
         "TIMESTMP_UPD": "nan",
         "FINAL_DISP_DATE": 19891221,
         "FINAL_DISP_CD": "RTC",
         "SE_STATUS": "nan",
         "CITY": "nan",
         "STATE": "nan",
         "STOLEN_INDIC": "False",
         "DOT": "nan",
         "_deepnote_index_column": 15
        },
        {
         "ISN": 1664,
         "DISTRICT_CD": "QW",
         "TAG_LOC1": "N/S 46 AVE B/ET 111 AND",
         "TAG_LOC2": "109 ST",
         "YEAR": 1977,
         "MAKE": "DATSUN",
         "TYPE": "2D",
         "COLOR": "RED",
         "TAG_REMARKS": "nan",
         "TAG_NO": 391857,
         "TAG_DATE": 19891220,
         "TAG_TIME": "1900-01-01T10:15:00.000000",
         "TIMESTMP": "1989-12-21T08:48:30.000000",
         "CHECKED_DATE": 19891222,
         "TIMESTMP_UPD": "nan",
         "FINAL_DISP_DATE": 19891222,
         "FINAL_DISP_CD": "RTC",
         "SE_STATUS": "nan",
         "CITY": "nan",
         "STATE": "nan",
         "STOLEN_INDIC": "False",
         "DOT": "nan",
         "_deepnote_index_column": 16
        },
        {
         "ISN": 1665,
         "DISTRICT_CD": "QW",
         "TAG_LOC1": "L/S 48 AVE B/T 108 AND",
         "TAG_LOC2": "111 ST",
         "YEAR": 1989,
         "MAKE": "CHEVY",
         "TYPE": "4D",
         "COLOR": "BLACK",
         "TAG_REMARKS": "nan",
         "TAG_NO": 391858,
         "TAG_DATE": 19891220,
         "TAG_TIME": "1900-01-01T10:25:00.000000",
         "TIMESTMP": "1989-12-21T08:50:56.000000",
         "CHECKED_DATE": 19891221,
         "TIMESTMP_UPD": "nan",
         "FINAL_DISP_DATE": 19891221,
         "FINAL_DISP_CD": "RTC",
         "SE_STATUS": "nan",
         "CITY": "nan",
         "STATE": "nan",
         "STOLEN_INDIC": "False",
         "DOT": "nan",
         "_deepnote_index_column": 17
        },
        {
         "ISN": 1666,
         "DISTRICT_CD": "QW",
         "TAG_LOC1": "N/S 55 AVE B/T 96 ST",
         "TAG_LOC2": "AND JUNCTION",
         "YEAR": 1980,
         "MAKE": "CHEVY",
         "TYPE": "2D",
         "COLOR": "RED",
         "TAG_REMARKS": "nan",
         "TAG_NO": 391859,
         "TAG_DATE": 19891220,
         "TAG_TIME": "1900-01-01T10:50:00.000000",
         "TIMESTMP": "1989-12-21T08:52:31.000000",
         "CHECKED_DATE": 19891221,
         "TIMESTMP_UPD": "nan",
         "FINAL_DISP_DATE": 19891221,
         "FINAL_DISP_CD": "RTC",
         "SE_STATUS": "nan",
         "CITY": "nan",
         "STATE": "nan",
         "STOLEN_INDIC": "False",
         "DOT": "nan",
         "_deepnote_index_column": 18
        },
        {
         "ISN": 1667,
         "DISTRICT_CD": "QN",
         "TAG_LOC1": "S/S CLEARVIEW X-WAY_73 AV",
         "TAG_LOC2": "EXIT  73 AVE",
         "YEAR": 1983,
         "MAKE": "TOYOTA",
         "TYPE": "4D",
         "COLOR": "GRAY",
         "TAG_REMARKS": "& BLUE",
         "TAG_NO": 385769,
         "TAG_DATE": 19891220,
         "TAG_TIME": "1900-01-01T18:50:00.000000",
         "TIMESTMP": "1989-12-21T08:52:41.000000",
         "CHECKED_DATE": 19891222,
         "TIMESTMP_UPD": "nan",
         "FINAL_DISP_DATE": 19891222,
         "FINAL_DISP_CD": "RTC",
         "SE_STATUS": "nan",
         "CITY": "nan",
         "STATE": "nan",
         "STOLEN_INDIC": "False",
         "DOT": "nan",
         "_deepnote_index_column": 19
        },
        {
         "ISN": 1668,
         "DISTRICT_CD": "QN",
         "TAG_LOC1": "E/S COLLEGE PT BLVD BET",
         "TAG_LOC2": "KING RD & NORTHERN BLVD",
         "YEAR": "nan",
         "MAKE": "CHEVY",
         "TYPE": "VN",
         "COLOR": "BLUE",
         "TAG_REMARKS": "& WHITE",
         "TAG_NO": 385217,
         "TAG_DATE": 19891220,
         "TAG_TIME": "1900-01-01T18:25:00.000000",
         "TIMESTMP": "1989-12-26T13:44:09.000000",
         "CHECKED_DATE": "nan",
         "TIMESTMP_UPD": "nan",
         "FINAL_DISP_DATE": 19891226,
         "FINAL_DISP_CD": "NOL",
         "SE_STATUS": "nan",
         "CITY": "nan",
         "STATE": "nan",
         "STOLEN_INDIC": "False",
         "DOT": "nan",
         "_deepnote_index_column": 20
        },
        {
         "ISN": 1669,
         "DISTRICT_CD": "QN",
         "TAG_LOC1": "W/S 127 ST BET 25 & 26",
         "TAG_LOC2": "AVES",
         "YEAR": 1980,
         "MAKE": "BUICK",
         "TYPE": "2D",
         "COLOR": "WHITE",
         "TAG_REMARKS": "nan",
         "TAG_NO": 385218,
         "TAG_DATE": 19891220,
         "TAG_TIME": "1900-01-01T18:45:00.000000",
         "TIMESTMP": "1989-12-21T08:55:23.000000",
         "CHECKED_DATE": 19891221,
         "TIMESTMP_UPD": "nan",
         "FINAL_DISP_DATE": 19891221,
         "FINAL_DISP_CD": "RTC",
         "SE_STATUS": "nan",
         "CITY": "nan",
         "STATE": "nan",
         "STOLEN_INDIC": "False",
         "DOT": "nan",
         "_deepnote_index_column": 21
        }
       ],
       "rows_bottom": [
        {
         "ISN": 688720,
         "DISTRICT_CD": "QS",
         "TAG_LOC1": "OPP 189-08_99TH AVENUE",
         "TAG_LOC2": "nan",
         "YEAR": "nan",
         "MAKE": "FREIGH",
         "TYPE": "TR",
         "COLOR": "BLACK",
         "TAG_REMARKS": "nan",
         "TAG_NO": 4225413,
         "TAG_DATE": 20190905,
         "TAG_TIME": "1900-01-01T11:00:00.000000",
         "TIMESTMP": "2019-09-05T13:29:50.000000",
         "CHECKED_DATE": "nan",
         "TIMESTMP_UPD": "nan",
         "FINAL_DISP_DATE": 99999999,
         "FINAL_DISP_CD": "AAA",
         "SE_STATUS": "B",
         "CITY": "nan",
         "STATE": "nan",
         "STOLEN_INDIC": "False",
         "DOT": "nan",
         "_deepnote_index_column": 688743
        },
        {
         "ISN": 688721,
         "DISTRICT_CD": "QS",
         "TAG_LOC1": "F/O 142-33 122 AVE",
         "TAG_LOC2": "BET DEAD END/143 ST",
         "YEAR": "nan",
         "MAKE": "NISSAN",
         "TYPE": "4D",
         "COLOR": "WHITE",
         "TAG_REMARKS": "NO ASP SIGNS",
         "TAG_NO": 4223151,
         "TAG_DATE": 20190905,
         "TAG_TIME": "1900-01-01T10:00:00.000000",
         "TIMESTMP": "2019-09-05T13:35:10.000000",
         "CHECKED_DATE": "nan",
         "TIMESTMP_UPD": 20190906105129,
         "FINAL_DISP_DATE": 20190906,
         "FINAL_DISP_CD": "OC",
         "SE_STATUS": "B",
         "CITY": "nan",
         "STATE": "nan",
         "STOLEN_INDIC": "False",
         "DOT": "nan",
         "_deepnote_index_column": 688744
        },
        {
         "ISN": 688722,
         "DISTRICT_CD": "BKN",
         "TAG_LOC1": "691 GLENMORE AVE",
         "TAG_LOC2": "CLEVELAND ST & ASHFORD ST",
         "YEAR": "nan",
         "MAKE": "CHEVRO",
         "TYPE": "4D",
         "COLOR": "GREY",
         "TAG_REMARKS": "T/F 9AM - 10:30AM",
         "TAG_NO": 3244128,
         "TAG_DATE": 20190905,
         "TAG_TIME": "1900-01-01T22:30:00.000000",
         "TIMESTMP": "2019-09-05T23:39:19.000000",
         "CHECKED_DATE": "nan",
         "TIMESTMP_UPD": "nan",
         "FINAL_DISP_DATE": 99999999,
         "FINAL_DISP_CD": "AAA",
         "SE_STATUS": "B",
         "CITY": "nan",
         "STATE": "nan",
         "STOLEN_INDIC": "False",
         "DOT": "nan",
         "_deepnote_index_column": 688745
        },
        {
         "ISN": 688723,
         "DISTRICT_CD": "QS",
         "TAG_LOC1": "OPP 629 BEACH 68TH ST",
         "TAG_LOC2": "ALMEDA AVE AND BAYFIELD A",
         "YEAR": "nan",
         "MAKE": "TOYOTA",
         "TYPE": "4D",
         "COLOR": "BLACK",
         "TAG_REMARKS": "nan",
         "TAG_NO": 4237026,
         "TAG_DATE": 20190906,
         "TAG_TIME": "1900-01-01T20:05:00.000000",
         "TIMESTMP": "2019-09-06T04:06:10.000000",
         "CHECKED_DATE": "nan",
         "TIMESTMP_UPD": "nan",
         "FINAL_DISP_DATE": 99999999,
         "FINAL_DISP_CD": "AAA",
         "SE_STATUS": "B",
         "CITY": "nan",
         "STATE": "nan",
         "STOLEN_INDIC": "False",
         "DOT": "nan",
         "_deepnote_index_column": 688746
        },
        {
         "ISN": 688724,
         "DISTRICT_CD": "BXE",
         "TAG_LOC1": "CHESBROUGH AVE",
         "TAG_LOC2": "BLONDELL AVE",
         "YEAR": "nan",
         "MAKE": "NV",
         "TYPE": "NV",
         "COLOR": "WHITE",
         "TAG_REMARKS": "nan",
         "TAG_NO": 2227735,
         "TAG_DATE": 20190903,
         "TAG_TIME": "1900-01-01T09:00:00.000000",
         "TIMESTMP": "2019-09-06T06:32:02.000000",
         "CHECKED_DATE": "nan",
         "TIMESTMP_UPD": "nan",
         "FINAL_DISP_DATE": 99999999,
         "FINAL_DISP_CD": "AAA",
         "SE_STATUS": "B",
         "CITY": "nan",
         "STATE": "nan",
         "STOLEN_INDIC": "False",
         "DOT": "nan",
         "_deepnote_index_column": 688747
        },
        {
         "ISN": 688725,
         "DISTRICT_CD": "BKE",
         "TAG_LOC1": "1484 FLATBUSH AVENUE",
         "TAG_LOC2": "GLENWOOD ROAD",
         "YEAR": "nan",
         "MAKE": "NISSAN",
         "TYPE": "4D",
         "COLOR": "WHITE",
         "TAG_REMARKS": "nan",
         "TAG_NO": 3219499,
         "TAG_DATE": 20190906,
         "TAG_TIME": "1900-01-01T04:08:00.000000",
         "TIMESTMP": "2019-09-06T07:12:38.000000",
         "CHECKED_DATE": "nan",
         "TIMESTMP_UPD": "nan",
         "FINAL_DISP_DATE": 99999999,
         "FINAL_DISP_CD": "AAA",
         "SE_STATUS": "B",
         "CITY": "nan",
         "STATE": "nan",
         "STOLEN_INDIC": "False",
         "DOT": "nan",
         "_deepnote_index_column": 688748
        },
        {
         "ISN": 688726,
         "DISTRICT_CD": "BKN",
         "TAG_LOC1": "OPP 143 MAUJER ST",
         "TAG_LOC2": "GRAHAM",
         "YEAR": "nan",
         "MAKE": "TOYOTA",
         "TYPE": "4D",
         "COLOR": "BLACK",
         "TAG_REMARKS": "BURNED 90%",
         "TAG_NO": 3237748,
         "TAG_DATE": 20190906,
         "TAG_TIME": "1900-01-01T06:50:00.000000",
         "TIMESTMP": "2019-09-06T07:25:26.000000",
         "CHECKED_DATE": "nan",
         "TIMESTMP_UPD": "nan",
         "FINAL_DISP_DATE": 99999999,
         "FINAL_DISP_CD": "AAA",
         "SE_STATUS": "B",
         "CITY": "nan",
         "STATE": "nan",
         "STOLEN_INDIC": "False",
         "DOT": "nan",
         "_deepnote_index_column": 688749
        },
        {
         "ISN": 688727,
         "DISTRICT_CD": "BKN",
         "TAG_LOC1": "248 MCKIBBIN ST",
         "TAG_LOC2": "MCKIBBIN CT",
         "YEAR": "nan",
         "MAKE": "CADILL",
         "TYPE": "4D",
         "COLOR": "BLACK",
         "TAG_REMARKS": "nan",
         "TAG_NO": 3237747,
         "TAG_DATE": 20190906,
         "TAG_TIME": "1900-01-01T06:40:00.000000",
         "TIMESTMP": "2019-09-06T07:27:05.000000",
         "CHECKED_DATE": "nan",
         "TIMESTMP_UPD": "nan",
         "FINAL_DISP_DATE": 99999999,
         "FINAL_DISP_CD": "AAA",
         "SE_STATUS": "B",
         "CITY": "nan",
         "STATE": "nan",
         "STOLEN_INDIC": "False",
         "DOT": "nan",
         "_deepnote_index_column": 688750
        },
        {
         "ISN": 688728,
         "DISTRICT_CD": "BKE",
         "TAG_LOC1": "R/S STILLWELL AVE BET",
         "TAG_LOC2": "HARWAY AVE & W15TH PLACE",
         "YEAR": "nan",
         "MAKE": "NV",
         "TYPE": "TL",
         "COLOR": "BLACK",
         "TAG_REMARKS": "NYPD_60",
         "TAG_NO": 3239269,
         "TAG_DATE": 20190906,
         "TAG_TIME": "1900-01-01T03:15:00.000000",
         "TIMESTMP": "2019-09-06T07:39:14.000000",
         "CHECKED_DATE": "nan",
         "TIMESTMP_UPD": "nan",
         "FINAL_DISP_DATE": 99999999,
         "FINAL_DISP_CD": "AAA",
         "SE_STATUS": "B",
         "CITY": "nan",
         "STATE": "nan",
         "STOLEN_INDIC": "False",
         "DOT": "nan",
         "_deepnote_index_column": 688751
        },
        {
         "ISN": 688729,
         "DISTRICT_CD": "BKN",
         "TAG_LOC1": "L/S GLENMORE AV. BETWEEN",
         "TAG_LOC2": "CLEVELAND ST./ASHFORD ST.",
         "YEAR": "nan",
         "MAKE": "ME/BE",
         "TYPE": "2D",
         "COLOR": "GOLD",
         "TAG_REMARKS": "nan",
         "TAG_NO": 3245061,
         "TAG_DATE": 20190906,
         "TAG_TIME": "1900-01-01T05:45:00.000000",
         "TIMESTMP": "2019-09-06T07:55:33.000000",
         "CHECKED_DATE": "nan",
         "TIMESTMP_UPD": "nan",
         "FINAL_DISP_DATE": 99999999,
         "FINAL_DISP_CD": "AAA",
         "SE_STATUS": "B",
         "CITY": "nan",
         "STATE": "nan",
         "STOLEN_INDIC": "False",
         "DOT": "nan",
         "_deepnote_index_column": 688752
        },
        {
         "ISN": 688730,
         "DISTRICT_CD": "BKN",
         "TAG_LOC1": "378 PENNSYLVANIA AV. BET.",
         "TAG_LOC2": "SUTTER AV. & BLAKE AV.",
         "YEAR": "nan",
         "MAKE": "ACURA",
         "TYPE": "4D",
         "COLOR": "BLUE",
         "TAG_REMARKS": "nan",
         "TAG_NO": 3245062,
         "TAG_DATE": 20190906,
         "TAG_TIME": "1900-01-01T06:25:00.000000",
         "TIMESTMP": "2019-09-06T07:59:38.000000",
         "CHECKED_DATE": "nan",
         "TIMESTMP_UPD": "nan",
         "FINAL_DISP_DATE": 99999999,
         "FINAL_DISP_CD": "AAA",
         "SE_STATUS": "B",
         "CITY": "nan",
         "STATE": "nan",
         "STOLEN_INDIC": "False",
         "DOT": "nan",
         "_deepnote_index_column": 688753
        },
        {
         "ISN": 688731,
         "DISTRICT_CD": "BKE",
         "TAG_LOC1": "L/S EAST 93 STREET BTWN",
         "TAG_LOC2": "AVE. L & AVE. M IFO 1495",
         "YEAR": "nan",
         "MAKE": "TOYOTA",
         "TYPE": "4D",
         "COLOR": "RED",
         "TAG_REMARKS": "nan",
         "TAG_NO": 3247034,
         "TAG_DATE": 20190906,
         "TAG_TIME": "1900-01-01T08:45:00.000000",
         "TIMESTMP": "2019-09-06T09:52:36.000000",
         "CHECKED_DATE": "nan",
         "TIMESTMP_UPD": "nan",
         "FINAL_DISP_DATE": 99999999,
         "FINAL_DISP_CD": "AAA",
         "SE_STATUS": "B",
         "CITY": "nan",
         "STATE": "nan",
         "STOLEN_INDIC": "False",
         "DOT": "nan",
         "_deepnote_index_column": 688754
        },
        {
         "ISN": 688732,
         "DISTRICT_CD": "BKE",
         "TAG_LOC1": "R/S EAST 93 STREET BTWN",
         "TAG_LOC2": "AVE L & AVE M IFO 1500",
         "YEAR": "nan",
         "MAKE": "BUICK",
         "TYPE": "4D",
         "COLOR": "WHITE",
         "TAG_REMARKS": "nan",
         "TAG_NO": 3247035,
         "TAG_DATE": 20190906,
         "TAG_TIME": "1900-01-01T09:00:00.000000",
         "TIMESTMP": "2019-09-06T09:56:44.000000",
         "CHECKED_DATE": "nan",
         "TIMESTMP_UPD": "nan",
         "FINAL_DISP_DATE": 99999999,
         "FINAL_DISP_CD": "AAA",
         "SE_STATUS": "B",
         "CITY": "nan",
         "STATE": "nan",
         "STOLEN_INDIC": "False",
         "DOT": "nan",
         "_deepnote_index_column": 688755
        },
        {
         "ISN": 688733,
         "DISTRICT_CD": "BXE",
         "TAG_LOC1": "IFO 1687 BANYER PLACE",
         "TAG_LOC2": "CROES AVE",
         "YEAR": "nan",
         "MAKE": "HONDA",
         "TYPE": "4D",
         "COLOR": "GOLD",
         "TAG_REMARKS": "NO ASP",
         "TAG_NO": 2226425,
         "TAG_DATE": 20190906,
         "TAG_TIME": "1900-01-01T07:00:00.000000",
         "TIMESTMP": "2019-09-06T10:30:31.000000",
         "CHECKED_DATE": "nan",
         "TIMESTMP_UPD": "nan",
         "FINAL_DISP_DATE": 99999999,
         "FINAL_DISP_CD": "AAA",
         "SE_STATUS": "B",
         "CITY": "nan",
         "STATE": "nan",
         "STOLEN_INDIC": "False",
         "DOT": "nan",
         "_deepnote_index_column": 688756
        },
        {
         "ISN": 688734,
         "DISTRICT_CD": "BKE",
         "TAG_LOC1": "R/S W37 ST BT SURF AVE",
         "TAG_LOC2": "MERMAID AVE",
         "YEAR": "nan",
         "MAKE": "FORD",
         "TYPE": "4D",
         "COLOR": "SILVER",
         "TAG_REMARKS": "nan",
         "TAG_NO": 3234923,
         "TAG_DATE": 20190906,
         "TAG_TIME": "1900-01-01T08:45:00.000000",
         "TIMESTMP": "2019-09-06T10:57:16.000000",
         "CHECKED_DATE": "nan",
         "TIMESTMP_UPD": "nan",
         "FINAL_DISP_DATE": 99999999,
         "FINAL_DISP_CD": "AAA",
         "SE_STATUS": "B",
         "CITY": "nan",
         "STATE": "nan",
         "STOLEN_INDIC": "False",
         "DOT": "nan",
         "_deepnote_index_column": 688757
        },
        {
         "ISN": 688735,
         "DISTRICT_CD": "QN",
         "TAG_LOC1": "148-50 59 AVENUE",
         "TAG_LOC2": "nan",
         "YEAR": "nan",
         "MAKE": "GENIE",
         "TYPE": "NV",
         "COLOR": "BLUE",
         "TAG_REMARKS": "GENIE SCISSOR LIFT",
         "TAG_NO": 4222751,
         "TAG_DATE": 20190906,
         "TAG_TIME": "1900-01-01T10:00:00.000000",
         "TIMESTMP": "2019-09-06T11:13:36.000000",
         "CHECKED_DATE": "nan",
         "TIMESTMP_UPD": "nan",
         "FINAL_DISP_DATE": 99999999,
         "FINAL_DISP_CD": "AAA",
         "SE_STATUS": "B",
         "CITY": "nan",
         "STATE": "nan",
         "STOLEN_INDIC": "False",
         "DOT": "nan",
         "_deepnote_index_column": 688758
        },
        {
         "ISN": 688736,
         "DISTRICT_CD": "QW",
         "TAG_LOC1": "26-19 92 ST",
         "TAG_LOC2": "BET ASTORIA AND 31 AVE",
         "YEAR": "nan",
         "MAKE": "HONDA",
         "TYPE": "2D",
         "COLOR": "RED",
         "TAG_REMARKS": "ASP FRIDAY 0930-1100",
         "TAG_NO": 4227706,
         "TAG_DATE": 20190906,
         "TAG_TIME": "1900-01-01T10:00:00.000000",
         "TIMESTMP": "2019-09-06T11:26:55.000000",
         "CHECKED_DATE": "nan",
         "TIMESTMP_UPD": "nan",
         "FINAL_DISP_DATE": 99999999,
         "FINAL_DISP_CD": "AAA",
         "SE_STATUS": "B",
         "CITY": "nan",
         "STATE": "nan",
         "STOLEN_INDIC": "False",
         "DOT": "nan",
         "_deepnote_index_column": 688759
        },
        {
         "ISN": 688737,
         "DISTRICT_CD": "BXE",
         "TAG_LOC1": "BRUSH AVE D/E OFF OF",
         "TAG_LOC2": "BRUCKNER BLVD ON GRASS AR",
         "YEAR": "nan",
         "MAKE": "FORD",
         "TYPE": "TR",
         "COLOR": "WHITE",
         "TAG_REMARKS": "BOX TRUCK ON GRASS AREA",
         "TAG_NO": 2230449,
         "TAG_DATE": 20190906,
         "TAG_TIME": "1900-01-01T07:55:00.000000",
         "TIMESTMP": "2019-09-06T12:22:09.000000",
         "CHECKED_DATE": "nan",
         "TIMESTMP_UPD": "nan",
         "FINAL_DISP_DATE": 99999999,
         "FINAL_DISP_CD": "AAA",
         "SE_STATUS": "B",
         "CITY": "nan",
         "STATE": "nan",
         "STOLEN_INDIC": "False",
         "DOT": "nan",
         "_deepnote_index_column": 688760
        },
        {
         "ISN": 688738,
         "DISTRICT_CD": "SI",
         "TAG_LOC1": "78 WINDOM AVE",
         "TAG_LOC2": "BET ROBIN RD AND CEDAR AV",
         "YEAR": "nan",
         "MAKE": "BUICK",
         "TYPE": "4D",
         "COLOR": "MAROON",
         "TAG_REMARKS": "MAY RELOC. DUE TO MILLING",
         "TAG_NO": 5030406,
         "TAG_DATE": 20190906,
         "TAG_TIME": "1900-01-01T09:15:00.000000",
         "TIMESTMP": "2019-09-06T12:17:45.000000",
         "CHECKED_DATE": "nan",
         "TIMESTMP_UPD": "nan",
         "FINAL_DISP_DATE": 99999999,
         "FINAL_DISP_CD": "AAA",
         "SE_STATUS": "B",
         "CITY": "nan",
         "STATE": "nan",
         "STOLEN_INDIC": "False",
         "DOT": "nan",
         "_deepnote_index_column": 688761
        },
        {
         "ISN": 688739,
         "DISTRICT_CD": "BXE",
         "TAG_LOC1": "R/S LAFAYETTE AVE BTW",
         "TAG_LOC2": "CROSS BX EXWY & HUTCHINSO",
         "YEAR": "nan",
         "MAKE": "CHEVRO",
         "TYPE": "PT",
         "COLOR": "BLACK",
         "TAG_REMARKS": "nan",
         "TAG_NO": 2230448,
         "TAG_DATE": 20190906,
         "TAG_TIME": "1900-01-01T07:15:00.000000",
         "TIMESTMP": "2019-09-06T12:23:35.000000",
         "CHECKED_DATE": "nan",
         "TIMESTMP_UPD": "nan",
         "FINAL_DISP_DATE": 99999999,
         "FINAL_DISP_CD": "AAA",
         "SE_STATUS": "B",
         "CITY": "nan",
         "STATE": "nan",
         "STOLEN_INDIC": "False",
         "DOT": "nan",
         "_deepnote_index_column": 688762
        },
        {
         "ISN": 688740,
         "DISTRICT_CD": "QN",
         "TAG_LOC1": "I/F/O 33 49 161 ST B/W",
         "TAG_LOC2": "33 AVE &35 AVE",
         "YEAR": "nan",
         "MAKE": "INFINT",
         "TYPE": "4D",
         "COLOR": "GRAY",
         "TAG_REMARKS": "nan",
         "TAG_NO": 4226661,
         "TAG_DATE": 20190906,
         "TAG_TIME": "1900-01-01T12:30:00.000000",
         "TIMESTMP": "2019-09-06T12:43:24.000000",
         "CHECKED_DATE": "nan",
         "TIMESTMP_UPD": "nan",
         "FINAL_DISP_DATE": 99999999,
         "FINAL_DISP_CD": "AAA",
         "SE_STATUS": "B",
         "CITY": "nan",
         "STATE": "nan",
         "STOLEN_INDIC": "False",
         "DOT": "nan",
         "_deepnote_index_column": 688763
        },
        {
         "ISN": 688741,
         "DISTRICT_CD": "SI",
         "TAG_LOC1": "1435 TRAVIS AVE",
         "TAG_LOC2": "VICTORYBLVD- SOUTH AVE",
         "YEAR": "nan",
         "MAKE": "PIONEE",
         "TYPE": "TR",
         "COLOR": "WHITE",
         "TAG_REMARKS": "RV TRAILER IN PARKING LOT",
         "TAG_NO": 5033206,
         "TAG_DATE": 20190906,
         "TAG_TIME": "1900-01-01T10:20:00.000000",
         "TIMESTMP": "2019-09-06T13:00:07.000000",
         "CHECKED_DATE": "nan",
         "TIMESTMP_UPD": "nan",
         "FINAL_DISP_DATE": 99999999,
         "FINAL_DISP_CD": "AAA",
         "SE_STATUS": "B",
         "CITY": "nan",
         "STATE": "nan",
         "STOLEN_INDIC": "False",
         "DOT": "nan",
         "_deepnote_index_column": 688764
        },
        {
         "ISN": 688742,
         "DISTRICT_CD": "BKE",
         "TAG_LOC1": "I/F/O 2012 NEPTUNE AVE",
         "TAG_LOC2": "WEST 21 ST - WEST 20 ST",
         "YEAR": "nan",
         "MAKE": "DODGE",
         "TYPE": "2D",
         "COLOR": "WHITE",
         "TAG_REMARKS": "ASP TUE/FRI 730-800",
         "TAG_NO": 3235046,
         "TAG_DATE": 20190906,
         "TAG_TIME": "1900-01-01T06:40:00.000000",
         "TIMESTMP": "2019-09-06T13:01:37.000000",
         "CHECKED_DATE": "nan",
         "TIMESTMP_UPD": "nan",
         "FINAL_DISP_DATE": 99999999,
         "FINAL_DISP_CD": "AAA",
         "SE_STATUS": "B",
         "CITY": "nan",
         "STATE": "nan",
         "STOLEN_INDIC": "False",
         "DOT": "nan",
         "_deepnote_index_column": 688765
        }
       ]
      },
      "text/plain": "           ISN DISTRICT_CD                   TAG_LOC1  \\\n0         1648          QN   N/S 41 AVE BET MAIN ST &   \n1         1649          QW   W/S 38 AVE BET 108 & 111   \n2         1650          QW       IN LOT 14ST AND 34ST   \n3         1651          QW  S/S 39 AVE  BET 112 & 111   \n4         1652          QW  W/S 91 STREET BET 35 & 34   \n...        ...         ...                        ...   \n688761  688738          SI              78 WINDOM AVE   \n688762  688739         BXE      R/S LAFAYETTE AVE BTW   \n688763  688740          QN     I/F/O 33 49 161 ST B/W   \n688764  688741          SI            1435 TRAVIS AVE   \n688765  688742         BKE     I/F/O 2012 NEPTUNE AVE   \n\n                         TAG_LOC2    YEAR    MAKE TYPE   COLOR  \\\n0                 COLLEGE PT BLVD  1984.0  MERCUR   4D     RED   \n1                             NaN  1978.0    FORD   2D   BROWN   \n2                             NaN  1982.0  NISSAN   2D    GREY   \n3                          STREET  1980.0  TOYOTA   2D    GREY   \n4                             AVE  1982.0   DODGE   4D    GREY   \n...                           ...     ...     ...  ...     ...   \n688761  BET ROBIN RD AND CEDAR AV     NaN   BUICK   4D  MAROON   \n688762  CROSS BX EXWY & HUTCHINSO     NaN  CHEVRO   PT   BLACK   \n688763             33 AVE &35 AVE     NaN  INFINT   4D    GRAY   \n688764     VICTORYBLVD- SOUTH AVE     NaN  PIONEE   TR   WHITE   \n688765    WEST 21 ST - WEST 20 ST     NaN   DODGE   2D   WHITE   \n\n                      TAG_REMARKS   TAG_NO  ...            TIMESTMP  \\\n0       CVDASH#EK652957 NOB/UNICB  4109185  ... 1995-09-05 10:50:15   \n1                             NaN   391103  ... 1989-12-21 08:29:38   \n2                             NaN   391252  ... 1989-12-21 08:30:43   \n3                             NaN   391104  ... 1989-12-21 08:35:10   \n4                             NaN   391105  ... 1989-12-21 08:37:09   \n...                           ...      ...  ...                 ...   \n688761  MAY RELOC. DUE TO MILLING  5030406  ... 2019-09-06 12:17:45   \n688762                        NaN  2230448  ... 2019-09-06 12:23:35   \n688763                        NaN  4226661  ... 2019-09-06 12:43:24   \n688764  RV TRAILER IN PARKING LOT  5033206  ... 2019-09-06 13:00:07   \n688765        ASP TUE/FRI 730-800  3235046  ... 2019-09-06 13:01:37   \n\n       CHECKED_DATE  TIMESTMP_UPD  FINAL_DISP_DATE  FINAL_DISP_CD  SE_STATUS  \\\n0        19950906.0  1.995101e+13         19950906            RTC          N   \n1        19891221.0           NaN         19891221            RTC        NaN   \n2        19891221.0           NaN         19891221            RTC        NaN   \n3        19891221.0           NaN         19891221            RTC        NaN   \n4        19891221.0           NaN         19891221            RTC        NaN   \n...             ...           ...              ...            ...        ...   \n688761          NaN           NaN         99999999            AAA          B   \n688762          NaN           NaN         99999999            AAA          B   \n688763          NaN           NaN         99999999            AAA          B   \n688764          NaN           NaN         99999999            AAA          B   \n688765          NaN           NaN         99999999            AAA          B   \n\n       CITY STATE STOLEN_INDIC DOT  \n0       NaN   NaN        False NaN  \n1       NaN   NaN        False NaN  \n2       NaN   NaN        False NaN  \n3       NaN   NaN        False NaN  \n4       NaN   NaN        False NaN  \n...     ...   ...          ...  ..  \n688761  NaN   NaN        False NaN  \n688762  NaN   NaN        False NaN  \n688763  NaN   NaN        False NaN  \n688764  NaN   NaN        False NaN  \n688765  NaN   NaN        False NaN  \n\n[688766 rows x 22 columns]",
      "text/html": "<div>\n<style scoped>\n    .dataframe tbody tr th:only-of-type {\n        vertical-align: middle;\n    }\n\n    .dataframe tbody tr th {\n        vertical-align: top;\n    }\n\n    .dataframe thead th {\n        text-align: right;\n    }\n</style>\n<table border=\"1\" class=\"dataframe\">\n  <thead>\n    <tr style=\"text-align: right;\">\n      <th></th>\n      <th>ISN</th>\n      <th>DISTRICT_CD</th>\n      <th>TAG_LOC1</th>\n      <th>TAG_LOC2</th>\n      <th>YEAR</th>\n      <th>MAKE</th>\n      <th>TYPE</th>\n      <th>COLOR</th>\n      <th>TAG_REMARKS</th>\n      <th>TAG_NO</th>\n      <th>...</th>\n      <th>TIMESTMP</th>\n      <th>CHECKED_DATE</th>\n      <th>TIMESTMP_UPD</th>\n      <th>FINAL_DISP_DATE</th>\n      <th>FINAL_DISP_CD</th>\n      <th>SE_STATUS</th>\n      <th>CITY</th>\n      <th>STATE</th>\n      <th>STOLEN_INDIC</th>\n      <th>DOT</th>\n    </tr>\n  </thead>\n  <tbody>\n    <tr>\n      <th>0</th>\n      <td>1648</td>\n      <td>QN</td>\n      <td>N/S 41 AVE BET MAIN ST &amp;</td>\n      <td>COLLEGE PT BLVD</td>\n      <td>1984.0</td>\n      <td>MERCUR</td>\n      <td>4D</td>\n      <td>RED</td>\n      <td>CVDASH#EK652957 NOB/UNICB</td>\n      <td>4109185</td>\n      <td>...</td>\n      <td>1995-09-05 10:50:15</td>\n      <td>19950906.0</td>\n      <td>1.995101e+13</td>\n      <td>19950906</td>\n      <td>RTC</td>\n      <td>N</td>\n      <td>NaN</td>\n      <td>NaN</td>\n      <td>False</td>\n      <td>NaN</td>\n    </tr>\n    <tr>\n      <th>1</th>\n      <td>1649</td>\n      <td>QW</td>\n      <td>W/S 38 AVE BET 108 &amp; 111</td>\n      <td>NaN</td>\n      <td>1978.0</td>\n      <td>FORD</td>\n      <td>2D</td>\n      <td>BROWN</td>\n      <td>NaN</td>\n      <td>391103</td>\n      <td>...</td>\n      <td>1989-12-21 08:29:38</td>\n      <td>19891221.0</td>\n      <td>NaN</td>\n      <td>19891221</td>\n      <td>RTC</td>\n      <td>NaN</td>\n      <td>NaN</td>\n      <td>NaN</td>\n      <td>False</td>\n      <td>NaN</td>\n    </tr>\n    <tr>\n      <th>2</th>\n      <td>1650</td>\n      <td>QW</td>\n      <td>IN LOT 14ST AND 34ST</td>\n      <td>NaN</td>\n      <td>1982.0</td>\n      <td>NISSAN</td>\n      <td>2D</td>\n      <td>GREY</td>\n      <td>NaN</td>\n      <td>391252</td>\n      <td>...</td>\n      <td>1989-12-21 08:30:43</td>\n      <td>19891221.0</td>\n      <td>NaN</td>\n      <td>19891221</td>\n      <td>RTC</td>\n      <td>NaN</td>\n      <td>NaN</td>\n      <td>NaN</td>\n      <td>False</td>\n      <td>NaN</td>\n    </tr>\n    <tr>\n      <th>3</th>\n      <td>1651</td>\n      <td>QW</td>\n      <td>S/S 39 AVE  BET 112 &amp; 111</td>\n      <td>STREET</td>\n      <td>1980.0</td>\n      <td>TOYOTA</td>\n      <td>2D</td>\n      <td>GREY</td>\n      <td>NaN</td>\n      <td>391104</td>\n      <td>...</td>\n      <td>1989-12-21 08:35:10</td>\n      <td>19891221.0</td>\n      <td>NaN</td>\n      <td>19891221</td>\n      <td>RTC</td>\n      <td>NaN</td>\n      <td>NaN</td>\n      <td>NaN</td>\n      <td>False</td>\n      <td>NaN</td>\n    </tr>\n    <tr>\n      <th>4</th>\n      <td>1652</td>\n      <td>QW</td>\n      <td>W/S 91 STREET BET 35 &amp; 34</td>\n      <td>AVE</td>\n      <td>1982.0</td>\n      <td>DODGE</td>\n      <td>4D</td>\n      <td>GREY</td>\n      <td>NaN</td>\n      <td>391105</td>\n      <td>...</td>\n      <td>1989-12-21 08:37:09</td>\n      <td>19891221.0</td>\n      <td>NaN</td>\n      <td>19891221</td>\n      <td>RTC</td>\n      <td>NaN</td>\n      <td>NaN</td>\n      <td>NaN</td>\n      <td>False</td>\n      <td>NaN</td>\n    </tr>\n    <tr>\n      <th>...</th>\n      <td>...</td>\n      <td>...</td>\n      <td>...</td>\n      <td>...</td>\n      <td>...</td>\n      <td>...</td>\n      <td>...</td>\n      <td>...</td>\n      <td>...</td>\n      <td>...</td>\n      <td>...</td>\n      <td>...</td>\n      <td>...</td>\n      <td>...</td>\n      <td>...</td>\n      <td>...</td>\n      <td>...</td>\n      <td>...</td>\n      <td>...</td>\n      <td>...</td>\n      <td>...</td>\n    </tr>\n    <tr>\n      <th>688761</th>\n      <td>688738</td>\n      <td>SI</td>\n      <td>78 WINDOM AVE</td>\n      <td>BET ROBIN RD AND CEDAR AV</td>\n      <td>NaN</td>\n      <td>BUICK</td>\n      <td>4D</td>\n      <td>MAROON</td>\n      <td>MAY RELOC. DUE TO MILLING</td>\n      <td>5030406</td>\n      <td>...</td>\n      <td>2019-09-06 12:17:45</td>\n      <td>NaN</td>\n      <td>NaN</td>\n      <td>99999999</td>\n      <td>AAA</td>\n      <td>B</td>\n      <td>NaN</td>\n      <td>NaN</td>\n      <td>False</td>\n      <td>NaN</td>\n    </tr>\n    <tr>\n      <th>688762</th>\n      <td>688739</td>\n      <td>BXE</td>\n      <td>R/S LAFAYETTE AVE BTW</td>\n      <td>CROSS BX EXWY &amp; HUTCHINSO</td>\n      <td>NaN</td>\n      <td>CHEVRO</td>\n      <td>PT</td>\n      <td>BLACK</td>\n      <td>NaN</td>\n      <td>2230448</td>\n      <td>...</td>\n      <td>2019-09-06 12:23:35</td>\n      <td>NaN</td>\n      <td>NaN</td>\n      <td>99999999</td>\n      <td>AAA</td>\n      <td>B</td>\n      <td>NaN</td>\n      <td>NaN</td>\n      <td>False</td>\n      <td>NaN</td>\n    </tr>\n    <tr>\n      <th>688763</th>\n      <td>688740</td>\n      <td>QN</td>\n      <td>I/F/O 33 49 161 ST B/W</td>\n      <td>33 AVE &amp;35 AVE</td>\n      <td>NaN</td>\n      <td>INFINT</td>\n      <td>4D</td>\n      <td>GRAY</td>\n      <td>NaN</td>\n      <td>4226661</td>\n      <td>...</td>\n      <td>2019-09-06 12:43:24</td>\n      <td>NaN</td>\n      <td>NaN</td>\n      <td>99999999</td>\n      <td>AAA</td>\n      <td>B</td>\n      <td>NaN</td>\n      <td>NaN</td>\n      <td>False</td>\n      <td>NaN</td>\n    </tr>\n    <tr>\n      <th>688764</th>\n      <td>688741</td>\n      <td>SI</td>\n      <td>1435 TRAVIS AVE</td>\n      <td>VICTORYBLVD- SOUTH AVE</td>\n      <td>NaN</td>\n      <td>PIONEE</td>\n      <td>TR</td>\n      <td>WHITE</td>\n      <td>RV TRAILER IN PARKING LOT</td>\n      <td>5033206</td>\n      <td>...</td>\n      <td>2019-09-06 13:00:07</td>\n      <td>NaN</td>\n      <td>NaN</td>\n      <td>99999999</td>\n      <td>AAA</td>\n      <td>B</td>\n      <td>NaN</td>\n      <td>NaN</td>\n      <td>False</td>\n      <td>NaN</td>\n    </tr>\n    <tr>\n      <th>688765</th>\n      <td>688742</td>\n      <td>BKE</td>\n      <td>I/F/O 2012 NEPTUNE AVE</td>\n      <td>WEST 21 ST - WEST 20 ST</td>\n      <td>NaN</td>\n      <td>DODGE</td>\n      <td>2D</td>\n      <td>WHITE</td>\n      <td>ASP TUE/FRI 730-800</td>\n      <td>3235046</td>\n      <td>...</td>\n      <td>2019-09-06 13:01:37</td>\n      <td>NaN</td>\n      <td>NaN</td>\n      <td>99999999</td>\n      <td>AAA</td>\n      <td>B</td>\n      <td>NaN</td>\n      <td>NaN</td>\n      <td>False</td>\n      <td>NaN</td>\n    </tr>\n  </tbody>\n</table>\n<p>688766 rows × 22 columns</p>\n</div>"
     },
     "metadata": {}
    }
   ]
  },
  {
   "cell_type": "code",
   "source": "rename = {}\nfor i in df.columns.values:\n    if i == 'ISN':\n        rename[i]=i\n    else:\n        rename[i] = i[4:]\n",
   "metadata": {
    "tags": [],
    "cell_id": "00005-8c7d92c8-9c9d-46df-8e43-4f920e0ebc2a",
    "deepnote_to_be_reexecuted": false,
    "source_hash": "4367295e",
    "execution_start": 1627332981690,
    "execution_millis": 1,
    "deepnote_cell_type": "code"
   },
   "outputs": [],
   "execution_count": 109
  },
  {
   "cell_type": "code",
   "source": "df.rename(columns = rename, inplace=True)",
   "metadata": {
    "tags": [],
    "cell_id": "00005-82286035-6af4-420c-823c-f0b87768987e",
    "deepnote_to_be_reexecuted": false,
    "source_hash": "f852eef4",
    "execution_start": 1627332985099,
    "execution_millis": 1,
    "deepnote_cell_type": "code"
   },
   "outputs": [],
   "execution_count": 110
  },
  {
   "cell_type": "code",
   "metadata": {
    "tags": [],
    "cell_id": "00005-fef67789-940a-4bce-b8f7-a31f2433259d",
    "deepnote_to_be_reexecuted": false,
    "source_hash": "4ecf91b9",
    "execution_start": 1627333068656,
    "execution_millis": 287,
    "deepnote_cell_type": "code"
   },
   "source": "df.isna().mean()",
   "execution_count": 116,
   "outputs": [
    {
     "output_type": "execute_result",
     "execution_count": 116,
     "data": {
      "text/plain": "ISN                0.000000\nDISTRICT_CD        0.000000\nTAG_LOC1           0.000003\nTAG_LOC2           0.241994\nYEAR               0.284409\nMAKE               0.010382\nTYPE               0.000000\nCOLOR              0.000000\nTAG_REMARKS        0.611722\nTAG_NO             0.000000\nTAG_DATE           0.000000\nTAG_TIME           0.000000\nTIMESTMP           0.000000\nCHECKED_DATE       0.265145\nTIMESTMP_UPD       0.010448\nFINAL_DISP_DATE    0.000000\nFINAL_DISP_CD      0.000000\nSE_STATUS          0.150388\nCITY               0.781482\nSTATE              0.781486\nSTOLEN_INDIC       0.000000\nDOT                0.920548\ndtype: float64"
     },
     "metadata": {}
    }
   ]
  },
  {
   "cell_type": "code",
   "source": "#Cropping district codes to cover a larger area\ndf['DISTRICT_CD'] = df['DISTRICT_CD'].apply(lambda x: x[:-2])",
   "metadata": {
    "tags": [],
    "cell_id": "00006-cac28196-fb1b-43af-aea5-eee62d0e6eb3",
    "deepnote_to_be_reexecuted": false,
    "source_hash": "a7cb9d8d",
    "execution_start": 1627332994657,
    "execution_millis": 171,
    "deepnote_cell_type": "code"
   },
   "outputs": [],
   "execution_count": 112
  },
  {
   "cell_type": "code",
   "source": "#Changing stolen indicator from nan and 'Y' to True and False\ndf['STOLEN_INDIC'] = df['STOLEN_INDIC'].map({np.nan: False, 'Y': True})",
   "metadata": {
    "tags": [],
    "cell_id": "00006-662f242a-8d4a-4b7b-a51e-99e80ba38dea",
    "deepnote_to_be_reexecuted": false,
    "source_hash": "e6ade13a",
    "execution_start": 1627333058730,
    "execution_millis": 109,
    "deepnote_cell_type": "code"
   },
   "outputs": [],
   "execution_count": 114
  },
  {
   "cell_type": "code",
   "source": "#Changing the timestamp ints to datetime objects\ndf['TIMESTMP'] = pd.to_datetime(df['TIMESTMP'],format = '%Y%m%d%H%M%S', errors='coerce')",
   "metadata": {
    "tags": [],
    "cell_id": "00007-787eb2e6-ea5a-4299-a597-875ec70d9145",
    "deepnote_to_be_reexecuted": false,
    "source_hash": "717f0ad0",
    "execution_start": 1627333417839,
    "execution_millis": 2058,
    "deepnote_cell_type": "code"
   },
   "outputs": [],
   "execution_count": 123
  },
  {
   "cell_type": "code",
   "metadata": {
    "tags": [],
    "cell_id": "00007-a5d5ae24-a514-4d42-816a-d563549dccc5",
    "deepnote_to_be_reexecuted": false,
    "source_hash": "6e159428",
    "execution_start": 1627333422907,
    "execution_millis": 191,
    "deepnote_cell_type": "code"
   },
   "source": "df['DISTRICT_CD'].value_counts()[-3::-1].plot(kind='barh', color = 'lime', figsize = (10,7))\nplt.title('Top NY Districts with Derelict Cars')",
   "execution_count": 124,
   "outputs": [
    {
     "output_type": "execute_result",
     "execution_count": 124,
     "data": {
      "text/plain": "Text(0.5, 1.0, 'Top NY Districts with Derelict Cars')"
     },
     "metadata": {}
    },
    {
     "data": {
      "text/plain": "<Figure size 720x504 with 1 Axes>",
      "image/png": "[encoded data removed]"
     },
     "metadata": {
      "needs_background": "light",
      "image/png": {
       "width": 603,
       "height": 427
      }
     },
     "output_type": "display_data"
    }
   ]
  },
  {
   "cell_type": "markdown",
   "source": "Grouping by districts, we can see that the most abandoned cars are found in Bronx West, Bronx East, Brooklyn North, Queens South, and so on.",
   "metadata": {
    "tags": [],
    "cell_id": "00012-3a4d872e-e400-4bff-bfae-a387fe225987",
    "deepnote_cell_type": "markdown"
   }
  },
  {
   "cell_type": "code",
   "source": "df['TAG_TIME'] = pd.to_datetime(df['TAG_TIME'], format = '%H%M', errors='coerce')",
   "metadata": {
    "tags": [],
    "cell_id": "00012-8c5de1d1-c9eb-4041-b552-c36340bc5147",
    "deepnote_cell_type": "code"
   },
   "outputs": [],
   "execution_count": null
  },
  {
   "cell_type": "code",
   "metadata": {
    "tags": [],
    "cell_id": "00007-c0cd42f0-0593-4660-90f0-318077a7b00c",
    "deepnote_to_be_reexecuted": false,
    "source_hash": "82bcb6b8",
    "execution_start": 1627334369008,
    "execution_millis": 3287,
    "deepnote_cell_type": "code"
   },
   "source": "df['TAG_TIME'].apply(lambda x: x.hour).plot(kind = 'hist', bins = 23, color = 'lime', figsize = (10,7))\nplt.title('Time of Tagging')\nplt.xlabel('Hour of the Day')",
   "execution_count": 146,
   "outputs": [
    {
     "output_type": "execute_result",
     "execution_count": 146,
     "data": {
      "text/plain": "Text(0.5, 0, 'Hour of the Day')"
     },
     "metadata": {}
    },
    {
     "data": {
      "text/plain": "<Figure size 720x504 with 1 Axes>",
      "image/png": "[encoded data removed]"
     },
     "metadata": {
      "needs_background": "light",
      "image/png": {
       "width": 631,
       "height": 441
      }
     },
     "output_type": "display_data"
    }
   ]
  },
  {
   "cell_type": "markdown",
   "source": "It appears that most derelict cars are tagged between the hours of 7am and 1pm and drop significantly during 2pm to 6am.",
   "metadata": {
    "tags": [],
    "cell_id": "00015-51acaaac-421a-4eba-90d0-0d3cd7cae1be",
    "deepnote_cell_type": "markdown"
   }
  },
  {
   "cell_type": "code",
   "source": "df['TYPE'].value_counts()[::-1].plot(kind = 'barh', color = 'lime', figsize = (10,7))\nplt.title('Most Abandoned Car Types')",
   "metadata": {
    "tags": [],
    "cell_id": "00016-3688358f-af92-47bb-9013-fc94228ef948",
    "deepnote_to_be_reexecuted": false,
    "source_hash": "a04f9c14",
    "execution_start": 1627334839935,
    "execution_millis": 216,
    "deepnote_cell_type": "code"
   },
   "outputs": [
    {
     "output_type": "execute_result",
     "execution_count": 155,
     "data": {
      "text/plain": "Text(0.5, 1.0, 'Most Abandoned Car Types')"
     },
     "metadata": {}
    },
    {
     "data": {
      "text/plain": "<Figure size 720x504 with 1 Axes>",
      "image/png": "[encoded data removed]"
     },
     "metadata": {
      "needs_background": "light",
      "image/png": {
       "width": 595,
       "height": 427
      }
     },
     "output_type": "display_data"
    }
   ],
   "execution_count": 155
  },
  {
   "cell_type": "markdown",
   "source": "The most abandoned car types are 4 door, 2 door, and vans.",
   "metadata": {
    "tags": [],
    "cell_id": "00017-5e450066-3de6-41b5-8a20-394406ac5557",
    "deepnote_cell_type": "markdown"
   }
  },
  {
   "cell_type": "code",
   "metadata": {
    "tags": [],
    "cell_id": "00008-f6e76bc1-a20c-4228-95d3-91677f891094",
    "deepnote_to_be_reexecuted": false,
    "source_hash": "32061642",
    "execution_start": 1627335240607,
    "execution_millis": 4082,
    "deepnote_cell_type": "code"
   },
   "source": "#Calculate the age of the vehicle\ndf['CAR_AGE'] = df['TIMESTMP'].apply(lambda x: x.year) - df['YEAR']",
   "execution_count": 157,
   "outputs": []
  },
  {
   "cell_type": "code",
   "source": "#These are the outlier cars that have mis-entered information on the year\ndf[(df['CAR_AGE'] > 70) | (df['CAR_AGE'] < -1)]",
   "metadata": {
    "tags": [],
    "cell_id": "00019-b66ed234-7ac7-43df-b68b-dac224d224b0",
    "deepnote_to_be_reexecuted": false,
    "source_hash": "9b209925",
    "execution_start": 1627336087255,
    "execution_millis": 68,
    "deepnote_cell_type": "code"
   },
   "outputs": [
    {
     "output_type": "execute_result",
     "execution_count": 189,
     "data": {
      "application/vnd.deepnote.dataframe.v2+json": {
       "row_count": 2,
       "column_count": 23,
       "columns": [
        {
         "name": "ISN",
         "dtype": "int64",
         "stats": {
          "unique_count": 2,
          "nan_count": 0,
          "min": "7429",
          "max": "656631",
          "histogram": [
           {
            "bin_start": 7429,
            "bin_end": 72349.2,
            "count": 1
           },
           {
            "bin_start": 72349.2,
            "bin_end": 137269.4,
            "count": 0
           },
           {
            "bin_start": 137269.4,
            "bin_end": 202189.59999999998,
            "count": 0
           },
           {
            "bin_start": 202189.59999999998,
            "bin_end": 267109.8,
            "count": 0
           },
           {
            "bin_start": 267109.8,
            "bin_end": 332030,
            "count": 0
           },
           {
            "bin_start": 332030,
            "bin_end": 396950.19999999995,
            "count": 0
           },
           {
            "bin_start": 396950.19999999995,
            "bin_end": 461870.39999999997,
            "count": 0
           },
           {
            "bin_start": 461870.39999999997,
            "bin_end": 526790.6,
            "count": 0
           },
           {
            "bin_start": 526790.6,
            "bin_end": 591710.7999999999,
            "count": 0
           },
           {
            "bin_start": 591710.7999999999,
            "bin_end": 656631,
            "count": 1
           }
          ]
         }
        },
        {
         "name": "DISTRICT_CD",
         "dtype": "object",
         "stats": {
          "unique_count": 2,
          "nan_count": 0,
          "categories": [
           {
            "name": "TRN",
            "count": 1
           },
           {
            "name": "BKE",
            "count": 1
           }
          ]
         }
        },
        {
         "name": "TAG_LOC1",
         "dtype": "object",
         "stats": {
          "unique_count": 2,
          "nan_count": 0,
          "categories": [
           {
            "name": "3RD AVE BETW 2ND AND 3RD",
            "count": 1
           },
           {
            "name": "R/S MAPLE ST",
            "count": 1
           }
          ]
         }
        },
        {
         "name": "TAG_LOC2",
         "dtype": "object",
         "stats": {
          "unique_count": 2,
          "nan_count": 0,
          "categories": [
           {
            "name": "STREETS",
            "count": 1
           },
           {
            "name": "TROY X SCHNECTEDY",
            "count": 1
           }
          ]
         }
        },
        {
         "name": "YEAR",
         "dtype": "float64",
         "stats": {
          "unique_count": 2,
          "nan_count": 0,
          "min": "-6666.0",
          "max": "1995.0",
          "histogram": [
           {
            "bin_start": -6666,
            "bin_end": -5799.9,
            "count": 1
           },
           {
            "bin_start": -5799.9,
            "bin_end": -4933.8,
            "count": 0
           },
           {
            "bin_start": -4933.8,
            "bin_end": -4067.7,
            "count": 0
           },
           {
            "bin_start": -4067.7,
            "bin_end": -3201.6,
            "count": 0
           },
           {
            "bin_start": -3201.6,
            "bin_end": -2335.5,
            "count": 0
           },
           {
            "bin_start": -2335.5,
            "bin_end": -1469.3999999999996,
            "count": 0
           },
           {
            "bin_start": -1469.3999999999996,
            "bin_end": -603.3000000000002,
            "count": 0
           },
           {
            "bin_start": -603.3000000000002,
            "bin_end": 262.8000000000002,
            "count": 0
           },
           {
            "bin_start": 262.8000000000002,
            "bin_end": 1128.9000000000005,
            "count": 0
           },
           {
            "bin_start": 1128.9000000000005,
            "bin_end": 1995,
            "count": 1
           }
          ]
         }
        },
        {
         "name": "MAKE",
         "dtype": "object",
         "stats": {
          "unique_count": 2,
          "nan_count": 0,
          "categories": [
           {
            "name": "DATSUN",
            "count": 1
           },
           {
            "name": "INTERN",
            "count": 1
           }
          ]
         }
        },
        {
         "name": "TYPE",
         "dtype": "object",
         "stats": {
          "unique_count": 2,
          "nan_count": 0,
          "categories": [
           {
            "name": "2D",
            "count": 1
           },
           {
            "name": "BS",
            "count": 1
           }
          ]
         }
        },
        {
         "name": "COLOR",
         "dtype": "object",
         "stats": {
          "unique_count": 1,
          "nan_count": 0,
          "categories": [
           {
            "name": "YELLOW",
            "count": 2
           }
          ]
         }
        },
        {
         "name": "TAG_REMARKS",
         "dtype": "object",
         "stats": {
          "unique_count": 2,
          "nan_count": 0,
          "categories": [
           {
            "name": "ENGINE VIN",
            "count": 1
           },
           {
            "name": "SCHOOL BUS",
            "count": 1
           }
          ]
         }
        },
        {
         "name": "TAG_NO",
         "dtype": "int64",
         "stats": {
          "unique_count": 2,
          "nan_count": 0,
          "min": "3216557",
          "max": "9000022",
          "histogram": [
           {
            "bin_start": 3216557,
            "bin_end": 3794903.5,
            "count": 1
           },
           {
            "bin_start": 3794903.5,
            "bin_end": 4373250,
            "count": 0
           },
           {
            "bin_start": 4373250,
            "bin_end": 4951596.5,
            "count": 0
           },
           {
            "bin_start": 4951596.5,
            "bin_end": 5529943,
            "count": 0
           },
           {
            "bin_start": 5529943,
            "bin_end": 6108289.5,
            "count": 0
           },
           {
            "bin_start": 6108289.5,
            "bin_end": 6686636,
            "count": 0
           },
           {
            "bin_start": 6686636,
            "bin_end": 7264982.5,
            "count": 0
           },
           {
            "bin_start": 7264982.5,
            "bin_end": 7843329,
            "count": 0
           },
           {
            "bin_start": 7843329,
            "bin_end": 8421675.5,
            "count": 0
           },
           {
            "bin_start": 8421675.5,
            "bin_end": 9000022,
            "count": 1
           }
          ]
         }
        },
        {
         "name": "TAG_DATE",
         "dtype": "int64",
         "stats": {
          "unique_count": 2,
          "nan_count": 0,
          "min": "19900323",
          "max": "20151020",
          "histogram": [
           {
            "bin_start": 19900323,
            "bin_end": 19925392.7,
            "count": 1
           },
           {
            "bin_start": 19925392.7,
            "bin_end": 19950462.4,
            "count": 0
           },
           {
            "bin_start": 19950462.4,
            "bin_end": 19975532.1,
            "count": 0
           },
           {
            "bin_start": 19975532.1,
            "bin_end": 20000601.8,
            "count": 0
           },
           {
            "bin_start": 20000601.8,
            "bin_end": 20025671.5,
            "count": 0
           },
           {
            "bin_start": 20025671.5,
            "bin_end": 20050741.2,
            "count": 0
           },
           {
            "bin_start": 20050741.2,
            "bin_end": 20075810.9,
            "count": 0
           },
           {
            "bin_start": 20075810.9,
            "bin_end": 20100880.6,
            "count": 0
           },
           {
            "bin_start": 20100880.6,
            "bin_end": 20125950.3,
            "count": 0
           },
           {
            "bin_start": 20125950.3,
            "bin_end": 20151020,
            "count": 1
           }
          ]
         }
        },
        {
         "name": "TAG_TIME",
         "dtype": "datetime64[ns]",
         "stats": {
          "unique_count": 2,
          "nan_count": 0,
          "min": "1900-01-01 07:00:00",
          "max": "1900-01-01 08:00:00",
          "histogram": [
           {
            "bin_start": -2208963600000000000,
            "bin_end": -2208963240000000000,
            "count": 1
           },
           {
            "bin_start": -2208963240000000000,
            "bin_end": -2208962880000000000,
            "count": 0
           },
           {
            "bin_start": -2208962880000000000,
            "bin_end": -2208962520000000000,
            "count": 0
           },
           {
            "bin_start": -2208962520000000000,
            "bin_end": -2208962160000000000,
            "count": 0
           },
           {
            "bin_start": -2208962160000000000,
            "bin_end": -2208961800000000000,
            "count": 0
           },
           {
            "bin_start": -2208961800000000000,
            "bin_end": -2208961440000000000,
            "count": 0
           },
           {
            "bin_start": -2208961440000000000,
            "bin_end": -2208961080000000000,
            "count": 0
           },
           {
            "bin_start": -2208961080000000000,
            "bin_end": -2208960720000000000,
            "count": 0
           },
           {
            "bin_start": -2208960720000000000,
            "bin_end": -2208960360000000000,
            "count": 0
           },
           {
            "bin_start": -2208960360000000000,
            "bin_end": -2208960000000000000,
            "count": 1
           }
          ]
         }
        },
        {
         "name": "TIMESTMP",
         "dtype": "datetime64[ns]",
         "stats": {
          "unique_count": 2,
          "nan_count": 0,
          "min": "1990-03-26 10:11:11",
          "max": "2015-10-20 13:07:23",
          "histogram": [
           {
            "bin_start": 638446271000000000,
            "bin_end": 719136288200000000,
            "count": 1
           },
           {
            "bin_start": 719136288200000000,
            "bin_end": 799826305400000000,
            "count": 0
           },
           {
            "bin_start": 799826305400000000,
            "bin_end": 880516322600000000,
            "count": 0
           },
           {
            "bin_start": 880516322600000000,
            "bin_end": 961206339800000000,
            "count": 0
           },
           {
            "bin_start": 961206339800000000,
            "bin_end": 1041896357000000000,
            "count": 0
           },
           {
            "bin_start": 1041896357000000000,
            "bin_end": 1122586374200000000,
            "count": 0
           },
           {
            "bin_start": 1122586374200000000,
            "bin_end": 1203276391400000000,
            "count": 0
           },
           {
            "bin_start": 1203276391400000000,
            "bin_end": 1283966408600000000,
            "count": 0
           },
           {
            "bin_start": 1283966408600000000,
            "bin_end": 1364656425800000000,
            "count": 0
           },
           {
            "bin_start": 1364656425800000000,
            "bin_end": 1445346443000000000,
            "count": 1
           }
          ]
         }
        },
        {
         "name": "CHECKED_DATE",
         "dtype": "float64",
         "stats": {
          "unique_count": 1,
          "nan_count": 1,
          "min": "19990219.0",
          "max": "19990219.0",
          "histogram": [
           {
            "bin_start": 19990218.5,
            "bin_end": 19990218.6,
            "count": 0
           },
           {
            "bin_start": 19990218.6,
            "bin_end": 19990218.7,
            "count": 0
           },
           {
            "bin_start": 19990218.7,
            "bin_end": 19990218.8,
            "count": 0
           },
           {
            "bin_start": 19990218.8,
            "bin_end": 19990218.9,
            "count": 0
           },
           {
            "bin_start": 19990218.9,
            "bin_end": 19990219,
            "count": 0
           },
           {
            "bin_start": 19990219,
            "bin_end": 19990219.1,
            "count": 1
           },
           {
            "bin_start": 19990219.1,
            "bin_end": 19990219.2,
            "count": 0
           },
           {
            "bin_start": 19990219.2,
            "bin_end": 19990219.3,
            "count": 0
           },
           {
            "bin_start": 19990219.3,
            "bin_end": 19990219.4,
            "count": 0
           },
           {
            "bin_start": 19990219.4,
            "bin_end": 19990219.5,
            "count": 0
           }
          ]
         }
        },
        {
         "name": "TIMESTMP_UPD",
         "dtype": "float64",
         "stats": {
          "unique_count": 2,
          "nan_count": 0,
          "min": "19990219084440.0",
          "max": "20151026055608.0",
          "histogram": [
           {
            "bin_start": 19990219084440,
            "bin_end": 20006299781556.8,
            "count": 1
           },
           {
            "bin_start": 20006299781556.8,
            "bin_end": 20022380478673.6,
            "count": 0
           },
           {
            "bin_start": 20022380478673.6,
            "bin_end": 20038461175790.4,
            "count": 0
           },
           {
            "bin_start": 20038461175790.4,
            "bin_end": 20054541872907.2,
            "count": 0
           },
           {
            "bin_start": 20054541872907.2,
            "bin_end": 20070622570024,
            "count": 0
           },
           {
            "bin_start": 20070622570024,
            "bin_end": 20086703267140.8,
            "count": 0
           },
           {
            "bin_start": 20086703267140.8,
            "bin_end": 20102783964257.6,
            "count": 0
           },
           {
            "bin_start": 20102783964257.6,
            "bin_end": 20118864661374.4,
            "count": 0
           },
           {
            "bin_start": 20118864661374.4,
            "bin_end": 20134945358491.2,
            "count": 0
           },
           {
            "bin_start": 20134945358491.2,
            "bin_end": 20151026055608,
            "count": 1
           }
          ]
         }
        },
        {
         "name": "FINAL_DISP_DATE",
         "dtype": "int64",
         "stats": {
          "unique_count": 2,
          "nan_count": 0,
          "min": "19990219",
          "max": "20151026",
          "histogram": [
           {
            "bin_start": 19990219,
            "bin_end": 20006299.7,
            "count": 1
           },
           {
            "bin_start": 20006299.7,
            "bin_end": 20022380.4,
            "count": 0
           },
           {
            "bin_start": 20022380.4,
            "bin_end": 20038461.1,
            "count": 0
           },
           {
            "bin_start": 20038461.1,
            "bin_end": 20054541.8,
            "count": 0
           },
           {
            "bin_start": 20054541.8,
            "bin_end": 20070622.5,
            "count": 0
           },
           {
            "bin_start": 20070622.5,
            "bin_end": 20086703.2,
            "count": 0
           },
           {
            "bin_start": 20086703.2,
            "bin_end": 20102783.9,
            "count": 0
           },
           {
            "bin_start": 20102783.9,
            "bin_end": 20118864.6,
            "count": 0
           },
           {
            "bin_start": 20118864.6,
            "bin_end": 20134945.3,
            "count": 0
           },
           {
            "bin_start": 20134945.3,
            "bin_end": 20151026,
            "count": 1
           }
          ]
         }
        },
        {
         "name": "FINAL_DISP_CD",
         "dtype": "object",
         "stats": {
          "unique_count": 2,
          "nan_count": 0,
          "categories": [
           {
            "name": "RTC",
            "count": 1
           },
           {
            "name": "OC",
            "count": 1
           }
          ]
         }
        },
        {
         "name": "SE_STATUS",
         "dtype": "object",
         "stats": {
          "unique_count": 2,
          "nan_count": 0,
          "categories": [
           {
            "name": "A",
            "count": 1
           },
           {
            "name": "B",
            "count": 1
           }
          ]
         }
        },
        {
         "name": "CITY",
         "dtype": "object",
         "stats": {
          "unique_count": 0,
          "nan_count": 2,
          "categories": [
           {
            "name": "Missing",
            "count": 2
           }
          ]
         }
        },
        {
         "name": "STATE",
         "dtype": "object",
         "stats": {
          "unique_count": 0,
          "nan_count": 2,
          "categories": [
           {
            "name": "Missing",
            "count": 2
           }
          ]
         }
        },
        {
         "name": "STOLEN_INDIC",
         "dtype": "bool",
         "stats": {
          "unique_count": 1,
          "nan_count": 0,
          "categories": [
           {
            "name": "False",
            "count": 2
           }
          ]
         }
        },
        {
         "name": "DOT",
         "dtype": "float64",
         "stats": {
          "unique_count": 0,
          "nan_count": 2,
          "min": null,
          "max": null,
          "histogram": [
           {
            "bin_start": 0,
            "bin_end": 0.1,
            "count": 0
           },
           {
            "bin_start": 0.1,
            "bin_end": 0.2,
            "count": 0
           },
           {
            "bin_start": 0.2,
            "bin_end": 0.30000000000000004,
            "count": 0
           },
           {
            "bin_start": 0.30000000000000004,
            "bin_end": 0.4,
            "count": 0
           },
           {
            "bin_start": 0.4,
            "bin_end": 0.5,
            "count": 0
           },
           {
            "bin_start": 0.5,
            "bin_end": 0.6000000000000001,
            "count": 0
           },
           {
            "bin_start": 0.6000000000000001,
            "bin_end": 0.7000000000000001,
            "count": 0
           },
           {
            "bin_start": 0.7000000000000001,
            "bin_end": 0.8,
            "count": 0
           },
           {
            "bin_start": 0.8,
            "bin_end": 0.9,
            "count": 0
           },
           {
            "bin_start": 0.9,
            "bin_end": 1,
            "count": 0
           }
          ]
         }
        },
        {
         "name": "CAR_AGE",
         "dtype": "float64",
         "stats": {
          "unique_count": 2,
          "nan_count": 0,
          "min": "-5.0",
          "max": "8681.0",
          "histogram": [
           {
            "bin_start": -5,
            "bin_end": 863.6,
            "count": 1
           },
           {
            "bin_start": 863.6,
            "bin_end": 1732.2,
            "count": 0
           },
           {
            "bin_start": 1732.2,
            "bin_end": 2600.8,
            "count": 0
           },
           {
            "bin_start": 2600.8,
            "bin_end": 3469.4,
            "count": 0
           },
           {
            "bin_start": 3469.4,
            "bin_end": 4338,
            "count": 0
           },
           {
            "bin_start": 4338,
            "bin_end": 5206.6,
            "count": 0
           },
           {
            "bin_start": 5206.6,
            "bin_end": 6075.2,
            "count": 0
           },
           {
            "bin_start": 6075.2,
            "bin_end": 6943.8,
            "count": 0
           },
           {
            "bin_start": 6943.8,
            "bin_end": 7812.400000000001,
            "count": 0
           },
           {
            "bin_start": 7812.400000000001,
            "bin_end": 8681,
            "count": 1
           }
          ]
         }
        },
        {
         "name": "_deepnote_index_column",
         "dtype": "int64"
        }
       ],
       "rows_top": [
        {
         "ISN": 7429,
         "DISTRICT_CD": "TRN",
         "TAG_LOC1": "3RD AVE BETW 2ND AND 3RD",
         "TAG_LOC2": "STREETS",
         "YEAR": 1995,
         "MAKE": "DATSUN",
         "TYPE": "2D",
         "COLOR": "YELLOW",
         "TAG_REMARKS": "ENGINE VIN",
         "TAG_NO": 9000022,
         "TAG_DATE": 19900323,
         "TAG_TIME": "1900-01-01T08:00:00.000000",
         "TIMESTMP": "1990-03-26T10:11:11.000000",
         "CHECKED_DATE": 19990219,
         "TIMESTMP_UPD": 19990219084440,
         "FINAL_DISP_DATE": 19990219,
         "FINAL_DISP_CD": "RTC",
         "SE_STATUS": "A",
         "CITY": "nan",
         "STATE": "nan",
         "STOLEN_INDIC": "False",
         "DOT": "nan",
         "CAR_AGE": -5,
         "_deepnote_index_column": 5782
        },
        {
         "ISN": 656631,
         "DISTRICT_CD": "BKE",
         "TAG_LOC1": "R/S MAPLE ST",
         "TAG_LOC2": "TROY X SCHNECTEDY",
         "YEAR": -6666,
         "MAKE": "INTERN",
         "TYPE": "BS",
         "COLOR": "YELLOW",
         "TAG_REMARKS": "SCHOOL BUS",
         "TAG_NO": 3216557,
         "TAG_DATE": 20151020,
         "TAG_TIME": "1900-01-01T07:00:00.000000",
         "TIMESTMP": "2015-10-20T13:07:23.000000",
         "CHECKED_DATE": "nan",
         "TIMESTMP_UPD": 20151026055608,
         "FINAL_DISP_DATE": 20151026,
         "FINAL_DISP_CD": "OC",
         "SE_STATUS": "B",
         "CITY": "nan",
         "STATE": "nan",
         "STOLEN_INDIC": "False",
         "DOT": "nan",
         "CAR_AGE": 8681,
         "_deepnote_index_column": 657382
        }
       ],
       "rows_bottom": null
      },
      "text/plain": "           ISN DISTRICT_CD                  TAG_LOC1           TAG_LOC2  \\\n5782      7429         TRN  3RD AVE BETW 2ND AND 3RD            STREETS   \n657382  656631         BKE              R/S MAPLE ST  TROY X SCHNECTEDY   \n\n          YEAR    MAKE TYPE   COLOR TAG_REMARKS   TAG_NO  ...  CHECKED_DATE  \\\n5782    1995.0  DATSUN   2D  YELLOW  ENGINE VIN  9000022  ...    19990219.0   \n657382 -6666.0  INTERN   BS  YELLOW  SCHOOL BUS  3216557  ...           NaN   \n\n        TIMESTMP_UPD FINAL_DISP_DATE  FINAL_DISP_CD  SE_STATUS  CITY STATE  \\\n5782    1.999022e+13        19990219            RTC          A   NaN   NaN   \n657382  2.015103e+13        20151026             OC          B   NaN   NaN   \n\n       STOLEN_INDIC DOT CAR_AGE  \n5782          False NaN    -5.0  \n657382        False NaN  8681.0  \n\n[2 rows x 23 columns]",
      "text/html": "<div>\n<style scoped>\n    .dataframe tbody tr th:only-of-type {\n        vertical-align: middle;\n    }\n\n    .dataframe tbody tr th {\n        vertical-align: top;\n    }\n\n    .dataframe thead th {\n        text-align: right;\n    }\n</style>\n<table border=\"1\" class=\"dataframe\">\n  <thead>\n    <tr style=\"text-align: right;\">\n      <th></th>\n      <th>ISN</th>\n      <th>DISTRICT_CD</th>\n      <th>TAG_LOC1</th>\n      <th>TAG_LOC2</th>\n      <th>YEAR</th>\n      <th>MAKE</th>\n      <th>TYPE</th>\n      <th>COLOR</th>\n      <th>TAG_REMARKS</th>\n      <th>TAG_NO</th>\n      <th>...</th>\n      <th>CHECKED_DATE</th>\n      <th>TIMESTMP_UPD</th>\n      <th>FINAL_DISP_DATE</th>\n      <th>FINAL_DISP_CD</th>\n      <th>SE_STATUS</th>\n      <th>CITY</th>\n      <th>STATE</th>\n      <th>STOLEN_INDIC</th>\n      <th>DOT</th>\n      <th>CAR_AGE</th>\n    </tr>\n  </thead>\n  <tbody>\n    <tr>\n      <th>5782</th>\n      <td>7429</td>\n      <td>TRN</td>\n      <td>3RD AVE BETW 2ND AND 3RD</td>\n      <td>STREETS</td>\n      <td>1995.0</td>\n      <td>DATSUN</td>\n      <td>2D</td>\n      <td>YELLOW</td>\n      <td>ENGINE VIN</td>\n      <td>9000022</td>\n      <td>...</td>\n      <td>19990219.0</td>\n      <td>1.999022e+13</td>\n      <td>19990219</td>\n      <td>RTC</td>\n      <td>A</td>\n      <td>NaN</td>\n      <td>NaN</td>\n      <td>False</td>\n      <td>NaN</td>\n      <td>-5.0</td>\n    </tr>\n    <tr>\n      <th>657382</th>\n      <td>656631</td>\n      <td>BKE</td>\n      <td>R/S MAPLE ST</td>\n      <td>TROY X SCHNECTEDY</td>\n      <td>-6666.0</td>\n      <td>INTERN</td>\n      <td>BS</td>\n      <td>YELLOW</td>\n      <td>SCHOOL BUS</td>\n      <td>3216557</td>\n      <td>...</td>\n      <td>NaN</td>\n      <td>2.015103e+13</td>\n      <td>20151026</td>\n      <td>OC</td>\n      <td>B</td>\n      <td>NaN</td>\n      <td>NaN</td>\n      <td>False</td>\n      <td>NaN</td>\n      <td>8681.0</td>\n    </tr>\n  </tbody>\n</table>\n<p>2 rows × 23 columns</p>\n</div>"
     },
     "metadata": {}
    }
   ],
   "execution_count": 189
  },
  {
   "cell_type": "code",
   "source": "\ndf[(df['CAR_AGE']<70) & (df['CAR_AGE']>-1)]['CAR_AGE'].plot(kind = 'hist', bins = 25, color = 'lime', figsize = (10,7))\nplt.title('Age of All Stolen Cars')",
   "metadata": {
    "tags": [],
    "cell_id": "00019-cb757788-bc77-4bdf-beba-6d38ec08f1c4",
    "deepnote_to_be_reexecuted": false,
    "source_hash": "518981a4",
    "execution_start": 1627336621652,
    "execution_millis": 343,
    "deepnote_cell_type": "code"
   },
   "outputs": [
    {
     "output_type": "execute_result",
     "execution_count": 208,
     "data": {
      "text/plain": "Text(0.5, 1.0, 'Age of All Stolen Cars')"
     },
     "metadata": {}
    },
    {
     "data": {
      "text/plain": "<Figure size 720x504 with 1 Axes>",
      "image/png": "[encoded data removed]"
     },
     "metadata": {
      "needs_background": "light",
      "image/png": {
       "width": 631,
       "height": 427
      }
     },
     "output_type": "display_data"
    }
   ],
   "execution_count": 208
  },
  {
   "cell_type": "code",
   "source": "df[(df['CAR_AGE']<70) & (df['CAR_AGE']>-1) & df['STOLEN_INDIC']]['CAR_AGE'].plot(kind = 'hist', bins = 25, color = 'lime', figsize = (10,7))\nplt.title('Age of Stolen Cars')",
   "metadata": {
    "tags": [],
    "cell_id": "00021-22cc763a-0d24-4e38-bce2-66e406d94ba9",
    "deepnote_to_be_reexecuted": false,
    "source_hash": "c4f16c2d",
    "execution_start": 1627336629149,
    "execution_millis": 230,
    "deepnote_cell_type": "code"
   },
   "outputs": [
    {
     "output_type": "execute_result",
     "execution_count": 209,
     "data": {
      "text/plain": "Text(0.5, 1.0, 'Age of Stolen Cars')"
     },
     "metadata": {}
    },
    {
     "data": {
      "text/plain": "<Figure size 720x504 with 1 Axes>",
      "image/png": "[encoded data removed]"
     },
     "metadata": {
      "needs_background": "light",
      "image/png": {
       "width": 618,
       "height": 427
      }
     },
     "output_type": "display_data"
    }
   ],
   "execution_count": 209
  },
  {
   "cell_type": "markdown",
   "source": "The insight we see from these two graphs is that newer cars are the ones being stolen then abandoned while older cars (around 12+ years old) are being dumped without ever being reported as stolen.",
   "metadata": {
    "tags": [],
    "cell_id": "00022-1b8d2967-7198-438a-b2c3-64e6b456428a",
    "deepnote_cell_type": "markdown"
   }
  },
  {
   "cell_type": "code",
   "source": "",
   "metadata": {
    "tags": [],
    "cell_id": "00022-969476e0-fd06-49a9-b40e-e28c537944d5",
    "deepnote_cell_type": "code"
   },
   "outputs": [],
   "execution_count": null
  },
  {
   "cell_type": "code",
   "metadata": {
    "tags": [],
    "cell_id": "00009-6a74cba7-bd36-4175-83fb-9824ceca3df9",
    "deepnote_to_be_reexecuted": false,
    "source_hash": "57c51425",
    "execution_start": 1627335579870,
    "execution_millis": 50,
    "deepnote_cell_type": "code"
   },
   "source": "df['CAR_AGE'].describe()",
   "execution_count": 172,
   "outputs": [
    {
     "output_type": "execute_result",
     "execution_count": 172,
     "data": {
      "text/plain": "count    492875.000000\nmean         11.418646\nstd          13.579731\nmin          -5.000000\n25%           8.000000\n50%          11.000000\n75%          15.000000\nmax        8681.000000\nName: CAR_AGE, dtype: float64"
     },
     "metadata": {}
    }
   ]
  },
  {
   "cell_type": "code",
   "source": "",
   "metadata": {
    "tags": [],
    "cell_id": "00021-3c95ad08-e5af-40f3-967a-8f55abd6c3c3",
    "deepnote_cell_type": "code"
   },
   "outputs": [],
   "execution_count": null
  },
  {
   "cell_type": "code",
   "source": "",
   "metadata": {
    "tags": [],
    "cell_id": "00020-35277e50-2b3e-479b-b249-d41193a5f2b1",
    "deepnote_to_be_reexecuted": false,
    "source_hash": "b623e53d",
    "execution_start": 1627336072868,
    "execution_millis": 0,
    "deepnote_cell_type": "code"
   },
   "outputs": [],
   "execution_count": 188
  },
  {
   "cell_type": "code",
   "source": "",
   "metadata": {
    "tags": [],
    "cell_id": "00022-ce1b2f80-8f35-47db-80ae-198c5a9bf344",
    "deepnote_cell_type": "code"
   },
   "outputs": [],
   "execution_count": null
  },
  {
   "cell_type": "markdown",
   "source": "<a style='text-decoration:none;line-height:16px;display:flex;color:#5B5B62;padding:10px;justify-content:end;' href='https://deepnote.com?utm_source=created-in-deepnote-cell&projectId=a6fb1c43-fd59-4bf9-b4b7-5bddb3f2c397' target=\"_blank\">\n<img alt='Created in deepnote.com' style='display:inline;max-height:16px;margin:0px;margin-right:7.5px;' src='data:image/svg+xml;base64,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' > </img>\nCreated in <span style='font-weight:600;margin-left:4px;'>Deepnote</span></a>",
   "metadata": {
    "tags": [],
    "created_in_deepnote_cell": true,
    "deepnote_cell_type": "markdown"
   }
  }
 ],
 "nbformat": 4,
 "nbformat_minor": 2,
 "metadata": {
  "orig_nbformat": 2,
  "deepnote": {
   "is_reactive": false
  },
  "deepnote_notebook_id": "88905be2-a943-4fa2-8391-f952ccfd1600",
  "deepnote_execution_queue": []
 }
}