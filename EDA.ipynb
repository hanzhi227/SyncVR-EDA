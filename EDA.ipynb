{
 "cells": [
  {
   "cell_type": "code",
   "metadata": {
    "tags": [],
    "cell_id": "00000-2267f9a8-83ba-4bd3-91b6-56d961f21004",
    "deepnote_to_be_reexecuted": false,
    "source_hash": "cceb3d48",
    "execution_start": 1627368510984,
    "execution_millis": 1,
    "deepnote_cell_type": "code"
   },
   "source": "import numpy as np\nimport pandas as pd\nimport matplotlib.pyplot as plt\nimport seaborn as sns",
   "execution_count": 54,
   "outputs": []
  },
  {
   "cell_type": "code",
   "metadata": {
    "tags": [],
    "cell_id": "00001-a28aef5d-c210-45ac-b758-94b332404d8d",
    "deepnote_to_be_reexecuted": false,
    "source_hash": "b7be2a99",
    "execution_start": 1627368511930,
    "execution_millis": 1757,
    "deepnote_cell_type": "code"
   },
   "source": "df = pd.read_csv('/work/SyncVR-EDA/data/Derelict_Vehicle_Dispositions_-_Vehicles.csv')",
   "execution_count": 55,
   "outputs": []
  },
  {
   "cell_type": "code",
   "metadata": {
    "tags": [],
    "cell_id": "00003-de5b27cf-6d2e-40eb-b90c-747f62705133",
    "deepnote_to_be_reexecuted": false,
    "source_hash": "f804c160",
    "execution_start": 1627368514537,
    "execution_millis": 638,
    "deepnote_cell_type": "code"
   },
   "source": "df",
   "execution_count": 56,
   "outputs": [
    {
     "output_type": "execute_result",
     "execution_count": 56,
     "data": {
      "application/vnd.deepnote.dataframe.v2+json": {
       "row_count": 688766,
       "column_count": 22,
       "columns": [
        {
         "name": "ISN",
         "dtype": "int64"
        },
        {
         "name": "DVV_DISTRICT_CD",
         "dtype": "object"
        },
        {
         "name": "DVV_TAG_LOC1",
         "dtype": "object"
        },
        {
         "name": "DVV_TAG_LOC2",
         "dtype": "object"
        },
        {
         "name": "DVV_YEAR",
         "dtype": "float64"
        },
        {
         "name": "DVV_MAKE",
         "dtype": "object"
        },
        {
         "name": "DVV_TYPE",
         "dtype": "object"
        },
        {
         "name": "DVV_COLOR",
         "dtype": "object"
        },
        {
         "name": "DVV_TAG_REMARKS",
         "dtype": "object"
        },
        {
         "name": "DVV_TAG_NO",
         "dtype": "int64"
        },
        {
         "name": "DVV_TAG_DATE",
         "dtype": "int64"
        },
        {
         "name": "DVV_TAG_TIME",
         "dtype": "int64"
        },
        {
         "name": "DVV_TIMESTMP",
         "dtype": "int64"
        },
        {
         "name": "DVV_CHECKED_DATE",
         "dtype": "float64"
        },
        {
         "name": "DVV_TIMESTMP_UPD",
         "dtype": "float64"
        },
        {
         "name": "DVV_FINAL_DISP_DATE",
         "dtype": "int64"
        },
        {
         "name": "DVV_FINAL_DISP_CD",
         "dtype": "object"
        },
        {
         "name": "DVV_SE_STATUS",
         "dtype": "object"
        },
        {
         "name": "DVV_CITY",
         "dtype": "object"
        },
        {
         "name": "DVV_STATE",
         "dtype": "object"
        },
        {
         "name": "DVV_STOLEN_INDIC",
         "dtype": "object"
        },
        {
         "name": "DVV_DOT",
         "dtype": "float64"
        },
        {
         "name": "_deepnote_index_column",
         "dtype": "int64"
        }
       ],
       "rows_top": [
        {
         "ISN": 1648,
         "DVV_DISTRICT_CD": "QN07",
         "DVV_TAG_LOC1": "N/S 41 AVE BET MAIN ST &",
         "DVV_TAG_LOC2": "COLLEGE PT BLVD",
         "DVV_YEAR": 1984,
         "DVV_MAKE": "MERCUR",
         "DVV_TYPE": "4D",
         "DVV_COLOR": "RED",
         "DVV_TAG_REMARKS": "CVDASH#EK652957 NOB/UNICB",
         "DVV_TAG_NO": 4109185,
         "DVV_TAG_DATE": 19950905,
         "DVV_TAG_TIME": 900,
         "DVV_TIMESTMP": 19950905105015,
         "DVV_CHECKED_DATE": 19950906,
         "DVV_TIMESTMP_UPD": 19951005141214,
         "DVV_FINAL_DISP_DATE": 19950906,
         "DVV_FINAL_DISP_CD": "RTC",
         "DVV_SE_STATUS": "N",
         "DVV_CITY": "nan",
         "DVV_STATE": "nan",
         "DVV_STOLEN_INDIC": "nan",
         "DVV_DOT": "nan",
         "_deepnote_index_column": 0
        },
        {
         "ISN": 1649,
         "DVV_DISTRICT_CD": "QW03",
         "DVV_TAG_LOC1": "W/S 38 AVE BET 108 & 111",
         "DVV_TAG_LOC2": "nan",
         "DVV_YEAR": 1978,
         "DVV_MAKE": "FORD",
         "DVV_TYPE": "2D",
         "DVV_COLOR": "BROWN",
         "DVV_TAG_REMARKS": "nan",
         "DVV_TAG_NO": 391103,
         "DVV_TAG_DATE": 19891220,
         "DVV_TAG_TIME": 1015,
         "DVV_TIMESTMP": 19891221082938,
         "DVV_CHECKED_DATE": 19891221,
         "DVV_TIMESTMP_UPD": "nan",
         "DVV_FINAL_DISP_DATE": 19891221,
         "DVV_FINAL_DISP_CD": "RTC",
         "DVV_SE_STATUS": "nan",
         "DVV_CITY": "nan",
         "DVV_STATE": "nan",
         "DVV_STOLEN_INDIC": "nan",
         "DVV_DOT": "nan",
         "_deepnote_index_column": 1
        },
        {
         "ISN": 1650,
         "DVV_DISTRICT_CD": "QW01",
         "DVV_TAG_LOC1": "IN LOT 14ST AND 34ST",
         "DVV_TAG_LOC2": "nan",
         "DVV_YEAR": 1982,
         "DVV_MAKE": "NISSAN",
         "DVV_TYPE": "2D",
         "DVV_COLOR": "GREY",
         "DVV_TAG_REMARKS": "nan",
         "DVV_TAG_NO": 391252,
         "DVV_TAG_DATE": 19891220,
         "DVV_TAG_TIME": 1230,
         "DVV_TIMESTMP": 19891221083043,
         "DVV_CHECKED_DATE": 19891221,
         "DVV_TIMESTMP_UPD": "nan",
         "DVV_FINAL_DISP_DATE": 19891221,
         "DVV_FINAL_DISP_CD": "RTC",
         "DVV_SE_STATUS": "nan",
         "DVV_CITY": "nan",
         "DVV_STATE": "nan",
         "DVV_STOLEN_INDIC": "nan",
         "DVV_DOT": "nan",
         "_deepnote_index_column": 2
        },
        {
         "ISN": 1651,
         "DVV_DISTRICT_CD": "QW03",
         "DVV_TAG_LOC1": "S/S 39 AVE  BET 112 & 111",
         "DVV_TAG_LOC2": "STREET",
         "DVV_YEAR": 1980,
         "DVV_MAKE": "TOYOTA",
         "DVV_TYPE": "2D",
         "DVV_COLOR": "GREY",
         "DVV_TAG_REMARKS": "nan",
         "DVV_TAG_NO": 391104,
         "DVV_TAG_DATE": 19891220,
         "DVV_TAG_TIME": 1020,
         "DVV_TIMESTMP": 19891221083510,
         "DVV_CHECKED_DATE": 19891221,
         "DVV_TIMESTMP_UPD": "nan",
         "DVV_FINAL_DISP_DATE": 19891221,
         "DVV_FINAL_DISP_CD": "RTC",
         "DVV_SE_STATUS": "nan",
         "DVV_CITY": "nan",
         "DVV_STATE": "nan",
         "DVV_STOLEN_INDIC": "nan",
         "DVV_DOT": "nan",
         "_deepnote_index_column": 3
        },
        {
         "ISN": 1652,
         "DVV_DISTRICT_CD": "QW03",
         "DVV_TAG_LOC1": "W/S 91 STREET BET 35 & 34",
         "DVV_TAG_LOC2": "AVE",
         "DVV_YEAR": 1982,
         "DVV_MAKE": "DODGE",
         "DVV_TYPE": "4D",
         "DVV_COLOR": "GREY",
         "DVV_TAG_REMARKS": "nan",
         "DVV_TAG_NO": 391105,
         "DVV_TAG_DATE": 19891220,
         "DVV_TAG_TIME": 1100,
         "DVV_TIMESTMP": 19891221083709,
         "DVV_CHECKED_DATE": 19891221,
         "DVV_TIMESTMP_UPD": "nan",
         "DVV_FINAL_DISP_DATE": 19891221,
         "DVV_FINAL_DISP_CD": "RTC",
         "DVV_SE_STATUS": "nan",
         "DVV_CITY": "nan",
         "DVV_STATE": "nan",
         "DVV_STOLEN_INDIC": "nan",
         "DVV_DOT": "nan",
         "_deepnote_index_column": 4
        },
        {
         "ISN": 1653,
         "DVV_DISTRICT_CD": "QW04",
         "DVV_TAG_LOC1": "IFO 41-03 99 ST B/T 42 AV",
         "DVV_TAG_LOC2": "AND 41 AV",
         "DVV_YEAR": 1978,
         "DVV_MAKE": "CADILL",
         "DVV_TYPE": "4D",
         "DVV_COLOR": "BLUE",
         "DVV_TAG_REMARKS": "nan",
         "DVV_TAG_NO": 391839,
         "DVV_TAG_DATE": 19891220,
         "DVV_TAG_TIME": 845,
         "DVV_TIMESTMP": 19891221083819,
         "DVV_CHECKED_DATE": 19891222,
         "DVV_TIMESTMP_UPD": "nan",
         "DVV_FINAL_DISP_DATE": 19891222,
         "DVV_FINAL_DISP_CD": "RTC",
         "DVV_SE_STATUS": "nan",
         "DVV_CITY": "nan",
         "DVV_STATE": "nan",
         "DVV_STOLEN_INDIC": "nan",
         "DVV_DOT": "nan",
         "_deepnote_index_column": 5
        },
        {
         "ISN": 1654,
         "DVV_DISTRICT_CD": "QW03",
         "DVV_TAG_LOC1": "NORTHERN BLVD BET 85 & 86",
         "DVV_TAG_LOC2": "ST C/O OF 85ST",
         "DVV_YEAR": 1983,
         "DVV_MAKE": "PONTIA",
         "DVV_TYPE": "4D",
         "DVV_COLOR": "BLUE",
         "DVV_TAG_REMARKS": "nan",
         "DVV_TAG_NO": 391056,
         "DVV_TAG_DATE": 19891220,
         "DVV_TAG_TIME": 1120,
         "DVV_TIMESTMP": 19891221083851,
         "DVV_CHECKED_DATE": 19891222,
         "DVV_TIMESTMP_UPD": "nan",
         "DVV_FINAL_DISP_DATE": 19891222,
         "DVV_FINAL_DISP_CD": "RTC",
         "DVV_SE_STATUS": "nan",
         "DVV_CITY": "nan",
         "DVV_STATE": "nan",
         "DVV_STOLEN_INDIC": "nan",
         "DVV_DOT": "nan",
         "_deepnote_index_column": 6
        },
        {
         "ISN": 1655,
         "DVV_DISTRICT_CD": "QW04",
         "DVV_TAG_LOC1": "98 ST B/T 55 AVE AND",
         "DVV_TAG_LOC2": "CHRISTIE AVE",
         "DVV_YEAR": 1980,
         "DVV_MAKE": "CHEVY",
         "DVV_TYPE": "4D",
         "DVV_COLOR": "BROWN",
         "DVV_TAG_REMARKS": "nan",
         "DVV_TAG_NO": 391840,
         "DVV_TAG_DATE": 19891220,
         "DVV_TAG_TIME": 905,
         "DVV_TIMESTMP": 19891221083933,
         "DVV_CHECKED_DATE": 19891221,
         "DVV_TIMESTMP_UPD": "nan",
         "DVV_FINAL_DISP_DATE": 19891221,
         "DVV_FINAL_DISP_CD": "RTC",
         "DVV_SE_STATUS": "nan",
         "DVV_CITY": "nan",
         "DVV_STATE": "nan",
         "DVV_STOLEN_INDIC": "nan",
         "DVV_DOT": "nan",
         "_deepnote_index_column": 7
        },
        {
         "ISN": 1656,
         "DVV_DISTRICT_CD": "MW12",
         "DVV_TAG_LOC1": "EDGECOMBE AVENUE @ JUMEL",
         "DVV_TAG_LOC2": "PLACE.",
         "DVV_YEAR": 1988,
         "DVV_MAKE": "CHEVRO",
         "DVV_TYPE": "2D",
         "DVV_COLOR": "BLUE",
         "DVV_TAG_REMARKS": "TAGGED BY DVO.",
         "DVV_TAG_NO": 1012048,
         "DVV_TAG_DATE": 19910715,
         "DVV_TAG_TIME": 750,
         "DVV_TIMESTMP": 19910715113233,
         "DVV_CHECKED_DATE": 19910716,
         "DVV_TIMESTMP_UPD": 19910716102922,
         "DVV_FINAL_DISP_DATE": 19910716,
         "DVV_FINAL_DISP_CD": "RTC",
         "DVV_SE_STATUS": "A",
         "DVV_CITY": "nan",
         "DVV_STATE": "nan",
         "DVV_STOLEN_INDIC": "nan",
         "DVV_DOT": "nan",
         "_deepnote_index_column": 8
        },
        {
         "ISN": 1657,
         "DVV_DISTRICT_CD": "QW04",
         "DVV_TAG_LOC1": "R/S 60 AV B/T 99 ST AND",
         "DVV_TAG_LOC2": "CALLOWAY ST",
         "DVV_YEAR": "nan",
         "DVV_MAKE": "CHEVY",
         "DVV_TYPE": "4D",
         "DVV_COLOR": "RED",
         "DVV_TAG_REMARKS": "nan",
         "DVV_TAG_NO": 391851,
         "DVV_TAG_DATE": 19891220,
         "DVV_TAG_TIME": 915,
         "DVV_TIMESTMP": 19891222122623,
         "DVV_CHECKED_DATE": "nan",
         "DVV_TIMESTMP_UPD": "nan",
         "DVV_FINAL_DISP_DATE": 19891222,
         "DVV_FINAL_DISP_CD": "NOL",
         "DVV_SE_STATUS": "nan",
         "DVV_CITY": "nan",
         "DVV_STATE": "nan",
         "DVV_STOLEN_INDIC": "nan",
         "DVV_DOT": "nan",
         "_deepnote_index_column": 9
        },
        {
         "ISN": 1658,
         "DVV_DISTRICT_CD": "QW04",
         "DVV_TAG_LOC1": "100 ST B/ET 57 AVE AND",
         "DVV_TAG_LOC2": "LEWIS AVE",
         "DVV_YEAR": 1979,
         "DVV_MAKE": "CHEVY",
         "DVV_TYPE": "4D",
         "DVV_COLOR": "RED",
         "DVV_TAG_REMARKS": "nan",
         "DVV_TAG_NO": 391852,
         "DVV_TAG_DATE": 19891220,
         "DVV_TAG_TIME": 930,
         "DVV_TIMESTMP": 19891221084152,
         "DVV_CHECKED_DATE": 19891221,
         "DVV_TIMESTMP_UPD": "nan",
         "DVV_FINAL_DISP_DATE": 19891221,
         "DVV_FINAL_DISP_CD": "RTC",
         "DVV_SE_STATUS": "nan",
         "DVV_CITY": "nan",
         "DVV_STATE": "nan",
         "DVV_STOLEN_INDIC": "nan",
         "DVV_DOT": "nan",
         "_deepnote_index_column": 10
        },
        {
         "ISN": 1659,
         "DVV_DISTRICT_CD": "QW04",
         "DVV_TAG_LOC1": "101 ST B/ET LEWIS AND",
         "DVV_TAG_LOC2": "MARTENSE AVE",
         "DVV_YEAR": 1987,
         "DVV_MAKE": "FORD",
         "DVV_TYPE": "2D",
         "DVV_COLOR": "WHITE",
         "DVV_TAG_REMARKS": "nan",
         "DVV_TAG_NO": 391853,
         "DVV_TAG_DATE": 19891220,
         "DVV_TAG_TIME": 935,
         "DVV_TIMESTMP": 19891221084244,
         "DVV_CHECKED_DATE": 19891221,
         "DVV_TIMESTMP_UPD": "nan",
         "DVV_FINAL_DISP_DATE": 19891221,
         "DVV_FINAL_DISP_CD": "RTC",
         "DVV_SE_STATUS": "nan",
         "DVV_CITY": "nan",
         "DVV_STATE": "nan",
         "DVV_STOLEN_INDIC": "nan",
         "DVV_DOT": "nan",
         "_deepnote_index_column": 11
        },
        {
         "ISN": 1660,
         "DVV_DISTRICT_CD": "QW04",
         "DVV_TAG_LOC1": "R/S 51 AVE 97 ST.TO 96 ST",
         "DVV_TAG_LOC2": ".",
         "DVV_YEAR": 1984,
         "DVV_MAKE": "PLYMOU",
         "DVV_TYPE": "4D",
         "DVV_COLOR": "WHITE",
         "DVV_TAG_REMARKS": "nan",
         "DVV_TAG_NO": 4104257,
         "DVV_TAG_DATE": 19940909,
         "DVV_TAG_TIME": 950,
         "DVV_TIMESTMP": 19940912091557,
         "DVV_CHECKED_DATE": 19940912,
         "DVV_TIMESTMP_UPD": 19940913100858,
         "DVV_FINAL_DISP_DATE": 19940912,
         "DVV_FINAL_DISP_CD": "RTC",
         "DVV_SE_STATUS": "A",
         "DVV_CITY": "CORONA",
         "DVV_STATE": "NY",
         "DVV_STOLEN_INDIC": "nan",
         "DVV_DOT": "nan",
         "_deepnote_index_column": 12
        },
        {
         "ISN": 1661,
         "DVV_DISTRICT_CD": "QW04",
         "DVV_TAG_LOC1": "RADCLIFF AVE B/ET 101 ST",
         "DVV_TAG_LOC2": "102 ST",
         "DVV_YEAR": 1984,
         "DVV_MAKE": "HONDA",
         "DVV_TYPE": "4D",
         "DVV_COLOR": "GRAY",
         "DVV_TAG_REMARKS": "nan",
         "DVV_TAG_NO": 391854,
         "DVV_TAG_DATE": 19891220,
         "DVV_TAG_TIME": 945,
         "DVV_TIMESTMP": 19891221084354,
         "DVV_CHECKED_DATE": 19891221,
         "DVV_TIMESTMP_UPD": "nan",
         "DVV_FINAL_DISP_DATE": 19891221,
         "DVV_FINAL_DISP_CD": "RTC",
         "DVV_SE_STATUS": "nan",
         "DVV_CITY": "nan",
         "DVV_STATE": "nan",
         "DVV_STOLEN_INDIC": "nan",
         "DVV_DOT": "nan",
         "_deepnote_index_column": 13
        },
        {
         "ISN": 1662,
         "DVV_DISTRICT_CD": "QW04",
         "DVV_TAG_LOC1": "S/S 53 AVE B/ET 108 AND",
         "DVV_TAG_LOC2": "106 ST",
         "DVV_YEAR": 1981,
         "DVV_MAKE": "NISSAN",
         "DVV_TYPE": "2D",
         "DVV_COLOR": "RED",
         "DVV_TAG_REMARKS": "nan",
         "DVV_TAG_NO": 391855,
         "DVV_TAG_DATE": 19891220,
         "DVV_TAG_TIME": 950,
         "DVV_TIMESTMP": 19891221084513,
         "DVV_CHECKED_DATE": 19891222,
         "DVV_TIMESTMP_UPD": "nan",
         "DVV_FINAL_DISP_DATE": 19891222,
         "DVV_FINAL_DISP_CD": "RTC",
         "DVV_SE_STATUS": "nan",
         "DVV_CITY": "nan",
         "DVV_STATE": "nan",
         "DVV_STOLEN_INDIC": "nan",
         "DVV_DOT": "nan",
         "_deepnote_index_column": 14
        },
        {
         "ISN": 1663,
         "DVV_DISTRICT_CD": "QW04",
         "DVV_TAG_LOC1": "S/S 46 AVE B/T 108 AND",
         "DVV_TAG_LOC2": "109 ST",
         "DVV_YEAR": 1982,
         "DVV_MAKE": "DATSUN",
         "DVV_TYPE": "4D",
         "DVV_COLOR": "RED",
         "DVV_TAG_REMARKS": "=",
         "DVV_TAG_NO": 391856,
         "DVV_TAG_DATE": 19891220,
         "DVV_TAG_TIME": 1010,
         "DVV_TIMESTMP": 19891221084614,
         "DVV_CHECKED_DATE": 19891221,
         "DVV_TIMESTMP_UPD": "nan",
         "DVV_FINAL_DISP_DATE": 19891221,
         "DVV_FINAL_DISP_CD": "RTC",
         "DVV_SE_STATUS": "nan",
         "DVV_CITY": "nan",
         "DVV_STATE": "nan",
         "DVV_STOLEN_INDIC": "nan",
         "DVV_DOT": "nan",
         "_deepnote_index_column": 15
        },
        {
         "ISN": 1664,
         "DVV_DISTRICT_CD": "QW04",
         "DVV_TAG_LOC1": "N/S 46 AVE B/ET 111 AND",
         "DVV_TAG_LOC2": "109 ST",
         "DVV_YEAR": 1977,
         "DVV_MAKE": "DATSUN",
         "DVV_TYPE": "2D",
         "DVV_COLOR": "RED",
         "DVV_TAG_REMARKS": "nan",
         "DVV_TAG_NO": 391857,
         "DVV_TAG_DATE": 19891220,
         "DVV_TAG_TIME": 1015,
         "DVV_TIMESTMP": 19891221084830,
         "DVV_CHECKED_DATE": 19891222,
         "DVV_TIMESTMP_UPD": "nan",
         "DVV_FINAL_DISP_DATE": 19891222,
         "DVV_FINAL_DISP_CD": "RTC",
         "DVV_SE_STATUS": "nan",
         "DVV_CITY": "nan",
         "DVV_STATE": "nan",
         "DVV_STOLEN_INDIC": "nan",
         "DVV_DOT": "nan",
         "_deepnote_index_column": 16
        },
        {
         "ISN": 1665,
         "DVV_DISTRICT_CD": "QW04",
         "DVV_TAG_LOC1": "L/S 48 AVE B/T 108 AND",
         "DVV_TAG_LOC2": "111 ST",
         "DVV_YEAR": 1989,
         "DVV_MAKE": "CHEVY",
         "DVV_TYPE": "4D",
         "DVV_COLOR": "BLACK",
         "DVV_TAG_REMARKS": "nan",
         "DVV_TAG_NO": 391858,
         "DVV_TAG_DATE": 19891220,
         "DVV_TAG_TIME": 1025,
         "DVV_TIMESTMP": 19891221085056,
         "DVV_CHECKED_DATE": 19891221,
         "DVV_TIMESTMP_UPD": "nan",
         "DVV_FINAL_DISP_DATE": 19891221,
         "DVV_FINAL_DISP_CD": "RTC",
         "DVV_SE_STATUS": "nan",
         "DVV_CITY": "nan",
         "DVV_STATE": "nan",
         "DVV_STOLEN_INDIC": "nan",
         "DVV_DOT": "nan",
         "_deepnote_index_column": 17
        },
        {
         "ISN": 1666,
         "DVV_DISTRICT_CD": "QW04",
         "DVV_TAG_LOC1": "N/S 55 AVE B/T 96 ST",
         "DVV_TAG_LOC2": "AND JUNCTION",
         "DVV_YEAR": 1980,
         "DVV_MAKE": "CHEVY",
         "DVV_TYPE": "2D",
         "DVV_COLOR": "RED",
         "DVV_TAG_REMARKS": "nan",
         "DVV_TAG_NO": 391859,
         "DVV_TAG_DATE": 19891220,
         "DVV_TAG_TIME": 1050,
         "DVV_TIMESTMP": 19891221085231,
         "DVV_CHECKED_DATE": 19891221,
         "DVV_TIMESTMP_UPD": "nan",
         "DVV_FINAL_DISP_DATE": 19891221,
         "DVV_FINAL_DISP_CD": "RTC",
         "DVV_SE_STATUS": "nan",
         "DVV_CITY": "nan",
         "DVV_STATE": "nan",
         "DVV_STOLEN_INDIC": "nan",
         "DVV_DOT": "nan",
         "_deepnote_index_column": 18
        },
        {
         "ISN": 1667,
         "DVV_DISTRICT_CD": "QN07",
         "DVV_TAG_LOC1": "S/S CLEARVIEW X-WAY_73 AV",
         "DVV_TAG_LOC2": "EXIT  73 AVE",
         "DVV_YEAR": 1983,
         "DVV_MAKE": "TOYOTA",
         "DVV_TYPE": "4D",
         "DVV_COLOR": "GRAY",
         "DVV_TAG_REMARKS": "& BLUE",
         "DVV_TAG_NO": 385769,
         "DVV_TAG_DATE": 19891220,
         "DVV_TAG_TIME": 1850,
         "DVV_TIMESTMP": 19891221085241,
         "DVV_CHECKED_DATE": 19891222,
         "DVV_TIMESTMP_UPD": "nan",
         "DVV_FINAL_DISP_DATE": 19891222,
         "DVV_FINAL_DISP_CD": "RTC",
         "DVV_SE_STATUS": "nan",
         "DVV_CITY": "nan",
         "DVV_STATE": "nan",
         "DVV_STOLEN_INDIC": "nan",
         "DVV_DOT": "nan",
         "_deepnote_index_column": 19
        },
        {
         "ISN": 1668,
         "DVV_DISTRICT_CD": "QN07",
         "DVV_TAG_LOC1": "E/S COLLEGE PT BLVD BET",
         "DVV_TAG_LOC2": "KING RD & NORTHERN BLVD",
         "DVV_YEAR": "nan",
         "DVV_MAKE": "CHEVY",
         "DVV_TYPE": "VN",
         "DVV_COLOR": "BLUE",
         "DVV_TAG_REMARKS": "& WHITE",
         "DVV_TAG_NO": 385217,
         "DVV_TAG_DATE": 19891220,
         "DVV_TAG_TIME": 1825,
         "DVV_TIMESTMP": 19891226134409,
         "DVV_CHECKED_DATE": "nan",
         "DVV_TIMESTMP_UPD": "nan",
         "DVV_FINAL_DISP_DATE": 19891226,
         "DVV_FINAL_DISP_CD": "NOL",
         "DVV_SE_STATUS": "nan",
         "DVV_CITY": "nan",
         "DVV_STATE": "nan",
         "DVV_STOLEN_INDIC": "nan",
         "DVV_DOT": "nan",
         "_deepnote_index_column": 20
        },
        {
         "ISN": 1669,
         "DVV_DISTRICT_CD": "QN07",
         "DVV_TAG_LOC1": "W/S 127 ST BET 25 & 26",
         "DVV_TAG_LOC2": "AVES",
         "DVV_YEAR": 1980,
         "DVV_MAKE": "BUICK",
         "DVV_TYPE": "2D",
         "DVV_COLOR": "WHITE",
         "DVV_TAG_REMARKS": "nan",
         "DVV_TAG_NO": 385218,
         "DVV_TAG_DATE": 19891220,
         "DVV_TAG_TIME": 1845,
         "DVV_TIMESTMP": 19891221085523,
         "DVV_CHECKED_DATE": 19891221,
         "DVV_TIMESTMP_UPD": "nan",
         "DVV_FINAL_DISP_DATE": 19891221,
         "DVV_FINAL_DISP_CD": "RTC",
         "DVV_SE_STATUS": "nan",
         "DVV_CITY": "nan",
         "DVV_STATE": "nan",
         "DVV_STOLEN_INDIC": "nan",
         "DVV_DOT": "nan",
         "_deepnote_index_column": 21
        }
       ],
       "rows_bottom": [
        {
         "ISN": 688720,
         "DVV_DISTRICT_CD": "QS12",
         "DVV_TAG_LOC1": "OPP 189-08_99TH AVENUE",
         "DVV_TAG_LOC2": "nan",
         "DVV_YEAR": "nan",
         "DVV_MAKE": "FREIGH",
         "DVV_TYPE": "TR",
         "DVV_COLOR": "BLACK",
         "DVV_TAG_REMARKS": "nan",
         "DVV_TAG_NO": 4225413,
         "DVV_TAG_DATE": 20190905,
         "DVV_TAG_TIME": 1100,
         "DVV_TIMESTMP": 20190905132950,
         "DVV_CHECKED_DATE": "nan",
         "DVV_TIMESTMP_UPD": "nan",
         "DVV_FINAL_DISP_DATE": 99999999,
         "DVV_FINAL_DISP_CD": "AAA",
         "DVV_SE_STATUS": "B",
         "DVV_CITY": "nan",
         "DVV_STATE": "nan",
         "DVV_STOLEN_INDIC": "nan",
         "DVV_DOT": "nan",
         "_deepnote_index_column": 688743
        },
        {
         "ISN": 688721,
         "DVV_DISTRICT_CD": "QS12",
         "DVV_TAG_LOC1": "F/O 142-33 122 AVE",
         "DVV_TAG_LOC2": "BET DEAD END/143 ST",
         "DVV_YEAR": "nan",
         "DVV_MAKE": "NISSAN",
         "DVV_TYPE": "4D",
         "DVV_COLOR": "WHITE",
         "DVV_TAG_REMARKS": "NO ASP SIGNS",
         "DVV_TAG_NO": 4223151,
         "DVV_TAG_DATE": 20190905,
         "DVV_TAG_TIME": 1000,
         "DVV_TIMESTMP": 20190905133510,
         "DVV_CHECKED_DATE": "nan",
         "DVV_TIMESTMP_UPD": 20190906105129,
         "DVV_FINAL_DISP_DATE": 20190906,
         "DVV_FINAL_DISP_CD": "OC",
         "DVV_SE_STATUS": "B",
         "DVV_CITY": "nan",
         "DVV_STATE": "nan",
         "DVV_STOLEN_INDIC": "nan",
         "DVV_DOT": "nan",
         "_deepnote_index_column": 688744
        },
        {
         "ISN": 688722,
         "DVV_DISTRICT_CD": "BKN05",
         "DVV_TAG_LOC1": "691 GLENMORE AVE",
         "DVV_TAG_LOC2": "CLEVELAND ST & ASHFORD ST",
         "DVV_YEAR": "nan",
         "DVV_MAKE": "CHEVRO",
         "DVV_TYPE": "4D",
         "DVV_COLOR": "GREY",
         "DVV_TAG_REMARKS": "T/F 9AM - 10:30AM",
         "DVV_TAG_NO": 3244128,
         "DVV_TAG_DATE": 20190905,
         "DVV_TAG_TIME": 2230,
         "DVV_TIMESTMP": 20190905233919,
         "DVV_CHECKED_DATE": "nan",
         "DVV_TIMESTMP_UPD": "nan",
         "DVV_FINAL_DISP_DATE": 99999999,
         "DVV_FINAL_DISP_CD": "AAA",
         "DVV_SE_STATUS": "B",
         "DVV_CITY": "nan",
         "DVV_STATE": "nan",
         "DVV_STOLEN_INDIC": "nan",
         "DVV_DOT": "nan",
         "_deepnote_index_column": 688745
        },
        {
         "ISN": 688723,
         "DVV_DISTRICT_CD": "QS14",
         "DVV_TAG_LOC1": "OPP 629 BEACH 68TH ST",
         "DVV_TAG_LOC2": "ALMEDA AVE AND BAYFIELD A",
         "DVV_YEAR": "nan",
         "DVV_MAKE": "TOYOTA",
         "DVV_TYPE": "4D",
         "DVV_COLOR": "BLACK",
         "DVV_TAG_REMARKS": "nan",
         "DVV_TAG_NO": 4237026,
         "DVV_TAG_DATE": 20190906,
         "DVV_TAG_TIME": 205,
         "DVV_TIMESTMP": 20190906040610,
         "DVV_CHECKED_DATE": "nan",
         "DVV_TIMESTMP_UPD": "nan",
         "DVV_FINAL_DISP_DATE": 99999999,
         "DVV_FINAL_DISP_CD": "AAA",
         "DVV_SE_STATUS": "B",
         "DVV_CITY": "nan",
         "DVV_STATE": "nan",
         "DVV_STOLEN_INDIC": "nan",
         "DVV_DOT": "nan",
         "_deepnote_index_column": 688746
        },
        {
         "ISN": 688724,
         "DVV_DISTRICT_CD": "BXE10",
         "DVV_TAG_LOC1": "CHESBROUGH AVE",
         "DVV_TAG_LOC2": "BLONDELL AVE",
         "DVV_YEAR": "nan",
         "DVV_MAKE": "NV",
         "DVV_TYPE": "NV",
         "DVV_COLOR": "WHITE",
         "DVV_TAG_REMARKS": "nan",
         "DVV_TAG_NO": 2227735,
         "DVV_TAG_DATE": 20190903,
         "DVV_TAG_TIME": 900,
         "DVV_TIMESTMP": 20190906063202,
         "DVV_CHECKED_DATE": "nan",
         "DVV_TIMESTMP_UPD": "nan",
         "DVV_FINAL_DISP_DATE": 99999999,
         "DVV_FINAL_DISP_CD": "AAA",
         "DVV_SE_STATUS": "B",
         "DVV_CITY": "nan",
         "DVV_STATE": "nan",
         "DVV_STOLEN_INDIC": "nan",
         "DVV_DOT": "nan",
         "_deepnote_index_column": 688747
        },
        {
         "ISN": 688725,
         "DVV_DISTRICT_CD": "BKE14",
         "DVV_TAG_LOC1": "1484 FLATBUSH AVENUE",
         "DVV_TAG_LOC2": "GLENWOOD ROAD",
         "DVV_YEAR": "nan",
         "DVV_MAKE": "NISSAN",
         "DVV_TYPE": "4D",
         "DVV_COLOR": "WHITE",
         "DVV_TAG_REMARKS": "nan",
         "DVV_TAG_NO": 3219499,
         "DVV_TAG_DATE": 20190906,
         "DVV_TAG_TIME": 408,
         "DVV_TIMESTMP": 20190906071238,
         "DVV_CHECKED_DATE": "nan",
         "DVV_TIMESTMP_UPD": "nan",
         "DVV_FINAL_DISP_DATE": 99999999,
         "DVV_FINAL_DISP_CD": "AAA",
         "DVV_SE_STATUS": "B",
         "DVV_CITY": "nan",
         "DVV_STATE": "nan",
         "DVV_STOLEN_INDIC": "nan",
         "DVV_DOT": "nan",
         "_deepnote_index_column": 688748
        },
        {
         "ISN": 688726,
         "DVV_DISTRICT_CD": "BKN01",
         "DVV_TAG_LOC1": "OPP 143 MAUJER ST",
         "DVV_TAG_LOC2": "GRAHAM",
         "DVV_YEAR": "nan",
         "DVV_MAKE": "TOYOTA",
         "DVV_TYPE": "4D",
         "DVV_COLOR": "BLACK",
         "DVV_TAG_REMARKS": "BURNED 90%",
         "DVV_TAG_NO": 3237748,
         "DVV_TAG_DATE": 20190906,
         "DVV_TAG_TIME": 650,
         "DVV_TIMESTMP": 20190906072526,
         "DVV_CHECKED_DATE": "nan",
         "DVV_TIMESTMP_UPD": "nan",
         "DVV_FINAL_DISP_DATE": 99999999,
         "DVV_FINAL_DISP_CD": "AAA",
         "DVV_SE_STATUS": "B",
         "DVV_CITY": "nan",
         "DVV_STATE": "nan",
         "DVV_STOLEN_INDIC": "nan",
         "DVV_DOT": "nan",
         "_deepnote_index_column": 688749
        },
        {
         "ISN": 688727,
         "DVV_DISTRICT_CD": "BKN01",
         "DVV_TAG_LOC1": "248 MCKIBBIN ST",
         "DVV_TAG_LOC2": "MCKIBBIN CT",
         "DVV_YEAR": "nan",
         "DVV_MAKE": "CADILL",
         "DVV_TYPE": "4D",
         "DVV_COLOR": "BLACK",
         "DVV_TAG_REMARKS": "nan",
         "DVV_TAG_NO": 3237747,
         "DVV_TAG_DATE": 20190906,
         "DVV_TAG_TIME": 640,
         "DVV_TIMESTMP": 20190906072705,
         "DVV_CHECKED_DATE": "nan",
         "DVV_TIMESTMP_UPD": "nan",
         "DVV_FINAL_DISP_DATE": 99999999,
         "DVV_FINAL_DISP_CD": "AAA",
         "DVV_SE_STATUS": "B",
         "DVV_CITY": "nan",
         "DVV_STATE": "nan",
         "DVV_STOLEN_INDIC": "nan",
         "DVV_DOT": "nan",
         "_deepnote_index_column": 688750
        },
        {
         "ISN": 688728,
         "DVV_DISTRICT_CD": "BKE13",
         "DVV_TAG_LOC1": "R/S STILLWELL AVE BET",
         "DVV_TAG_LOC2": "HARWAY AVE & W15TH PLACE",
         "DVV_YEAR": "nan",
         "DVV_MAKE": "NV",
         "DVV_TYPE": "TL",
         "DVV_COLOR": "BLACK",
         "DVV_TAG_REMARKS": "NYPD_60",
         "DVV_TAG_NO": 3239269,
         "DVV_TAG_DATE": 20190906,
         "DVV_TAG_TIME": 315,
         "DVV_TIMESTMP": 20190906073914,
         "DVV_CHECKED_DATE": "nan",
         "DVV_TIMESTMP_UPD": "nan",
         "DVV_FINAL_DISP_DATE": 99999999,
         "DVV_FINAL_DISP_CD": "AAA",
         "DVV_SE_STATUS": "B",
         "DVV_CITY": "nan",
         "DVV_STATE": "nan",
         "DVV_STOLEN_INDIC": "nan",
         "DVV_DOT": "nan",
         "_deepnote_index_column": 688751
        },
        {
         "ISN": 688729,
         "DVV_DISTRICT_CD": "BKN05",
         "DVV_TAG_LOC1": "L/S GLENMORE AV. BETWEEN",
         "DVV_TAG_LOC2": "CLEVELAND ST./ASHFORD ST.",
         "DVV_YEAR": "nan",
         "DVV_MAKE": "ME/BE",
         "DVV_TYPE": "2D",
         "DVV_COLOR": "GOLD",
         "DVV_TAG_REMARKS": "nan",
         "DVV_TAG_NO": 3245061,
         "DVV_TAG_DATE": 20190906,
         "DVV_TAG_TIME": 545,
         "DVV_TIMESTMP": 20190906075533,
         "DVV_CHECKED_DATE": "nan",
         "DVV_TIMESTMP_UPD": "nan",
         "DVV_FINAL_DISP_DATE": 99999999,
         "DVV_FINAL_DISP_CD": "AAA",
         "DVV_SE_STATUS": "B",
         "DVV_CITY": "nan",
         "DVV_STATE": "nan",
         "DVV_STOLEN_INDIC": "nan",
         "DVV_DOT": "nan",
         "_deepnote_index_column": 688752
        },
        {
         "ISN": 688730,
         "DVV_DISTRICT_CD": "BKN05",
         "DVV_TAG_LOC1": "378 PENNSYLVANIA AV. BET.",
         "DVV_TAG_LOC2": "SUTTER AV. & BLAKE AV.",
         "DVV_YEAR": "nan",
         "DVV_MAKE": "ACURA",
         "DVV_TYPE": "4D",
         "DVV_COLOR": "BLUE",
         "DVV_TAG_REMARKS": "nan",
         "DVV_TAG_NO": 3245062,
         "DVV_TAG_DATE": 20190906,
         "DVV_TAG_TIME": 625,
         "DVV_TIMESTMP": 20190906075938,
         "DVV_CHECKED_DATE": "nan",
         "DVV_TIMESTMP_UPD": "nan",
         "DVV_FINAL_DISP_DATE": 99999999,
         "DVV_FINAL_DISP_CD": "AAA",
         "DVV_SE_STATUS": "B",
         "DVV_CITY": "nan",
         "DVV_STATE": "nan",
         "DVV_STOLEN_INDIC": "nan",
         "DVV_DOT": "nan",
         "_deepnote_index_column": 688753
        },
        {
         "ISN": 688731,
         "DVV_DISTRICT_CD": "BKE18",
         "DVV_TAG_LOC1": "L/S EAST 93 STREET BTWN",
         "DVV_TAG_LOC2": "AVE. L & AVE. M IFO 1495",
         "DVV_YEAR": "nan",
         "DVV_MAKE": "TOYOTA",
         "DVV_TYPE": "4D",
         "DVV_COLOR": "RED",
         "DVV_TAG_REMARKS": "nan",
         "DVV_TAG_NO": 3247034,
         "DVV_TAG_DATE": 20190906,
         "DVV_TAG_TIME": 845,
         "DVV_TIMESTMP": 20190906095236,
         "DVV_CHECKED_DATE": "nan",
         "DVV_TIMESTMP_UPD": "nan",
         "DVV_FINAL_DISP_DATE": 99999999,
         "DVV_FINAL_DISP_CD": "AAA",
         "DVV_SE_STATUS": "B",
         "DVV_CITY": "nan",
         "DVV_STATE": "nan",
         "DVV_STOLEN_INDIC": "nan",
         "DVV_DOT": "nan",
         "_deepnote_index_column": 688754
        },
        {
         "ISN": 688732,
         "DVV_DISTRICT_CD": "BKE18",
         "DVV_TAG_LOC1": "R/S EAST 93 STREET BTWN",
         "DVV_TAG_LOC2": "AVE L & AVE M IFO 1500",
         "DVV_YEAR": "nan",
         "DVV_MAKE": "BUICK",
         "DVV_TYPE": "4D",
         "DVV_COLOR": "WHITE",
         "DVV_TAG_REMARKS": "nan",
         "DVV_TAG_NO": 3247035,
         "DVV_TAG_DATE": 20190906,
         "DVV_TAG_TIME": 900,
         "DVV_TIMESTMP": 20190906095644,
         "DVV_CHECKED_DATE": "nan",
         "DVV_TIMESTMP_UPD": "nan",
         "DVV_FINAL_DISP_DATE": 99999999,
         "DVV_FINAL_DISP_CD": "AAA",
         "DVV_SE_STATUS": "B",
         "DVV_CITY": "nan",
         "DVV_STATE": "nan",
         "DVV_STOLEN_INDIC": "nan",
         "DVV_DOT": "nan",
         "_deepnote_index_column": 688755
        },
        {
         "ISN": 688733,
         "DVV_DISTRICT_CD": "BXE09",
         "DVV_TAG_LOC1": "IFO 1687 BANYER PLACE",
         "DVV_TAG_LOC2": "CROES AVE",
         "DVV_YEAR": "nan",
         "DVV_MAKE": "HONDA",
         "DVV_TYPE": "4D",
         "DVV_COLOR": "GOLD",
         "DVV_TAG_REMARKS": "NO ASP",
         "DVV_TAG_NO": 2226425,
         "DVV_TAG_DATE": 20190906,
         "DVV_TAG_TIME": 700,
         "DVV_TIMESTMP": 20190906103031,
         "DVV_CHECKED_DATE": "nan",
         "DVV_TIMESTMP_UPD": "nan",
         "DVV_FINAL_DISP_DATE": 99999999,
         "DVV_FINAL_DISP_CD": "AAA",
         "DVV_SE_STATUS": "B",
         "DVV_CITY": "nan",
         "DVV_STATE": "nan",
         "DVV_STOLEN_INDIC": "nan",
         "DVV_DOT": "nan",
         "_deepnote_index_column": 688756
        },
        {
         "ISN": 688734,
         "DVV_DISTRICT_CD": "BKE13",
         "DVV_TAG_LOC1": "R/S W37 ST BT SURF AVE",
         "DVV_TAG_LOC2": "MERMAID AVE",
         "DVV_YEAR": "nan",
         "DVV_MAKE": "FORD",
         "DVV_TYPE": "4D",
         "DVV_COLOR": "SILVER",
         "DVV_TAG_REMARKS": "nan",
         "DVV_TAG_NO": 3234923,
         "DVV_TAG_DATE": 20190906,
         "DVV_TAG_TIME": 845,
         "DVV_TIMESTMP": 20190906105716,
         "DVV_CHECKED_DATE": "nan",
         "DVV_TIMESTMP_UPD": "nan",
         "DVV_FINAL_DISP_DATE": 99999999,
         "DVV_FINAL_DISP_CD": "AAA",
         "DVV_SE_STATUS": "B",
         "DVV_CITY": "nan",
         "DVV_STATE": "nan",
         "DVV_STOLEN_INDIC": "nan",
         "DVV_DOT": "nan",
         "_deepnote_index_column": 688757
        },
        {
         "ISN": 688735,
         "DVV_DISTRICT_CD": "QN07",
         "DVV_TAG_LOC1": "148-50 59 AVENUE",
         "DVV_TAG_LOC2": "nan",
         "DVV_YEAR": "nan",
         "DVV_MAKE": "GENIE",
         "DVV_TYPE": "NV",
         "DVV_COLOR": "BLUE",
         "DVV_TAG_REMARKS": "GENIE SCISSOR LIFT",
         "DVV_TAG_NO": 4222751,
         "DVV_TAG_DATE": 20190906,
         "DVV_TAG_TIME": 1000,
         "DVV_TIMESTMP": 20190906111336,
         "DVV_CHECKED_DATE": "nan",
         "DVV_TIMESTMP_UPD": "nan",
         "DVV_FINAL_DISP_DATE": 99999999,
         "DVV_FINAL_DISP_CD": "AAA",
         "DVV_SE_STATUS": "B",
         "DVV_CITY": "nan",
         "DVV_STATE": "nan",
         "DVV_STOLEN_INDIC": "nan",
         "DVV_DOT": "nan",
         "_deepnote_index_column": 688758
        },
        {
         "ISN": 688736,
         "DVV_DISTRICT_CD": "QW03",
         "DVV_TAG_LOC1": "26-19 92 ST",
         "DVV_TAG_LOC2": "BET ASTORIA AND 31 AVE",
         "DVV_YEAR": "nan",
         "DVV_MAKE": "HONDA",
         "DVV_TYPE": "2D",
         "DVV_COLOR": "RED",
         "DVV_TAG_REMARKS": "ASP FRIDAY 0930-1100",
         "DVV_TAG_NO": 4227706,
         "DVV_TAG_DATE": 20190906,
         "DVV_TAG_TIME": 1000,
         "DVV_TIMESTMP": 20190906112655,
         "DVV_CHECKED_DATE": "nan",
         "DVV_TIMESTMP_UPD": "nan",
         "DVV_FINAL_DISP_DATE": 99999999,
         "DVV_FINAL_DISP_CD": "AAA",
         "DVV_SE_STATUS": "B",
         "DVV_CITY": "nan",
         "DVV_STATE": "nan",
         "DVV_STOLEN_INDIC": "nan",
         "DVV_DOT": "nan",
         "_deepnote_index_column": 688759
        },
        {
         "ISN": 688737,
         "DVV_DISTRICT_CD": "BXE10",
         "DVV_TAG_LOC1": "BRUSH AVE D/E OFF OF",
         "DVV_TAG_LOC2": "BRUCKNER BLVD ON GRASS AR",
         "DVV_YEAR": "nan",
         "DVV_MAKE": "FORD",
         "DVV_TYPE": "TR",
         "DVV_COLOR": "WHITE",
         "DVV_TAG_REMARKS": "BOX TRUCK ON GRASS AREA",
         "DVV_TAG_NO": 2230449,
         "DVV_TAG_DATE": 20190906,
         "DVV_TAG_TIME": 755,
         "DVV_TIMESTMP": 20190906122209,
         "DVV_CHECKED_DATE": "nan",
         "DVV_TIMESTMP_UPD": "nan",
         "DVV_FINAL_DISP_DATE": 99999999,
         "DVV_FINAL_DISP_CD": "AAA",
         "DVV_SE_STATUS": "B",
         "DVV_CITY": "nan",
         "DVV_STATE": "nan",
         "DVV_STOLEN_INDIC": "nan",
         "DVV_DOT": "nan",
         "_deepnote_index_column": 688760
        },
        {
         "ISN": 688738,
         "DVV_DISTRICT_CD": "SI02",
         "DVV_TAG_LOC1": "78 WINDOM AVE",
         "DVV_TAG_LOC2": "BET ROBIN RD AND CEDAR AV",
         "DVV_YEAR": "nan",
         "DVV_MAKE": "BUICK",
         "DVV_TYPE": "4D",
         "DVV_COLOR": "MAROON",
         "DVV_TAG_REMARKS": "MAY RELOC. DUE TO MILLING",
         "DVV_TAG_NO": 5030406,
         "DVV_TAG_DATE": 20190906,
         "DVV_TAG_TIME": 915,
         "DVV_TIMESTMP": 20190906121745,
         "DVV_CHECKED_DATE": "nan",
         "DVV_TIMESTMP_UPD": "nan",
         "DVV_FINAL_DISP_DATE": 99999999,
         "DVV_FINAL_DISP_CD": "AAA",
         "DVV_SE_STATUS": "B",
         "DVV_CITY": "nan",
         "DVV_STATE": "nan",
         "DVV_STOLEN_INDIC": "nan",
         "DVV_DOT": "nan",
         "_deepnote_index_column": 688761
        },
        {
         "ISN": 688739,
         "DVV_DISTRICT_CD": "BXE10",
         "DVV_TAG_LOC1": "R/S LAFAYETTE AVE BTW",
         "DVV_TAG_LOC2": "CROSS BX EXWY & HUTCHINSO",
         "DVV_YEAR": "nan",
         "DVV_MAKE": "CHEVRO",
         "DVV_TYPE": "PT",
         "DVV_COLOR": "BLACK",
         "DVV_TAG_REMARKS": "nan",
         "DVV_TAG_NO": 2230448,
         "DVV_TAG_DATE": 20190906,
         "DVV_TAG_TIME": 715,
         "DVV_TIMESTMP": 20190906122335,
         "DVV_CHECKED_DATE": "nan",
         "DVV_TIMESTMP_UPD": "nan",
         "DVV_FINAL_DISP_DATE": 99999999,
         "DVV_FINAL_DISP_CD": "AAA",
         "DVV_SE_STATUS": "B",
         "DVV_CITY": "nan",
         "DVV_STATE": "nan",
         "DVV_STOLEN_INDIC": "nan",
         "DVV_DOT": "nan",
         "_deepnote_index_column": 688762
        },
        {
         "ISN": 688740,
         "DVV_DISTRICT_CD": "QN07",
         "DVV_TAG_LOC1": "I/F/O 33 49 161 ST B/W",
         "DVV_TAG_LOC2": "33 AVE &35 AVE",
         "DVV_YEAR": "nan",
         "DVV_MAKE": "INFINT",
         "DVV_TYPE": "4D",
         "DVV_COLOR": "GRAY",
         "DVV_TAG_REMARKS": "nan",
         "DVV_TAG_NO": 4226661,
         "DVV_TAG_DATE": 20190906,
         "DVV_TAG_TIME": 1230,
         "DVV_TIMESTMP": 20190906124324,
         "DVV_CHECKED_DATE": "nan",
         "DVV_TIMESTMP_UPD": "nan",
         "DVV_FINAL_DISP_DATE": 99999999,
         "DVV_FINAL_DISP_CD": "AAA",
         "DVV_SE_STATUS": "B",
         "DVV_CITY": "nan",
         "DVV_STATE": "nan",
         "DVV_STOLEN_INDIC": "nan",
         "DVV_DOT": "nan",
         "_deepnote_index_column": 688763
        },
        {
         "ISN": 688741,
         "DVV_DISTRICT_CD": "SI02",
         "DVV_TAG_LOC1": "1435 TRAVIS AVE",
         "DVV_TAG_LOC2": "VICTORYBLVD- SOUTH AVE",
         "DVV_YEAR": "nan",
         "DVV_MAKE": "PIONEE",
         "DVV_TYPE": "TR",
         "DVV_COLOR": "WHITE",
         "DVV_TAG_REMARKS": "RV TRAILER IN PARKING LOT",
         "DVV_TAG_NO": 5033206,
         "DVV_TAG_DATE": 20190906,
         "DVV_TAG_TIME": 1020,
         "DVV_TIMESTMP": 20190906130007,
         "DVV_CHECKED_DATE": "nan",
         "DVV_TIMESTMP_UPD": "nan",
         "DVV_FINAL_DISP_DATE": 99999999,
         "DVV_FINAL_DISP_CD": "AAA",
         "DVV_SE_STATUS": "B",
         "DVV_CITY": "nan",
         "DVV_STATE": "nan",
         "DVV_STOLEN_INDIC": "nan",
         "DVV_DOT": "nan",
         "_deepnote_index_column": 688764
        },
        {
         "ISN": 688742,
         "DVV_DISTRICT_CD": "BKE13",
         "DVV_TAG_LOC1": "I/F/O 2012 NEPTUNE AVE",
         "DVV_TAG_LOC2": "WEST 21 ST - WEST 20 ST",
         "DVV_YEAR": "nan",
         "DVV_MAKE": "DODGE",
         "DVV_TYPE": "2D",
         "DVV_COLOR": "WHITE",
         "DVV_TAG_REMARKS": "ASP TUE/FRI 730-800",
         "DVV_TAG_NO": 3235046,
         "DVV_TAG_DATE": 20190906,
         "DVV_TAG_TIME": 640,
         "DVV_TIMESTMP": 20190906130137,
         "DVV_CHECKED_DATE": "nan",
         "DVV_TIMESTMP_UPD": "nan",
         "DVV_FINAL_DISP_DATE": 99999999,
         "DVV_FINAL_DISP_CD": "AAA",
         "DVV_SE_STATUS": "B",
         "DVV_CITY": "nan",
         "DVV_STATE": "nan",
         "DVV_STOLEN_INDIC": "nan",
         "DVV_DOT": "nan",
         "_deepnote_index_column": 688765
        }
       ]
      },
      "text/plain": "           ISN DVV_DISTRICT_CD               DVV_TAG_LOC1  \\\n0         1648            QN07   N/S 41 AVE BET MAIN ST &   \n1         1649            QW03   W/S 38 AVE BET 108 & 111   \n2         1650            QW01       IN LOT 14ST AND 34ST   \n3         1651            QW03  S/S 39 AVE  BET 112 & 111   \n4         1652            QW03  W/S 91 STREET BET 35 & 34   \n...        ...             ...                        ...   \n688761  688738            SI02              78 WINDOM AVE   \n688762  688739           BXE10      R/S LAFAYETTE AVE BTW   \n688763  688740            QN07     I/F/O 33 49 161 ST B/W   \n688764  688741            SI02            1435 TRAVIS AVE   \n688765  688742           BKE13     I/F/O 2012 NEPTUNE AVE   \n\n                     DVV_TAG_LOC2  DVV_YEAR DVV_MAKE DVV_TYPE DVV_COLOR  \\\n0                 COLLEGE PT BLVD    1984.0   MERCUR       4D       RED   \n1                             NaN    1978.0     FORD       2D     BROWN   \n2                             NaN    1982.0   NISSAN       2D      GREY   \n3                          STREET    1980.0   TOYOTA       2D      GREY   \n4                             AVE    1982.0    DODGE       4D      GREY   \n...                           ...       ...      ...      ...       ...   \n688761  BET ROBIN RD AND CEDAR AV       NaN    BUICK       4D    MAROON   \n688762  CROSS BX EXWY & HUTCHINSO       NaN   CHEVRO       PT     BLACK   \n688763             33 AVE &35 AVE       NaN   INFINT       4D      GRAY   \n688764     VICTORYBLVD- SOUTH AVE       NaN   PIONEE       TR     WHITE   \n688765    WEST 21 ST - WEST 20 ST       NaN    DODGE       2D     WHITE   \n\n                  DVV_TAG_REMARKS  DVV_TAG_NO  ...    DVV_TIMESTMP  \\\n0       CVDASH#EK652957 NOB/UNICB     4109185  ...  19950905105015   \n1                             NaN      391103  ...  19891221082938   \n2                             NaN      391252  ...  19891221083043   \n3                             NaN      391104  ...  19891221083510   \n4                             NaN      391105  ...  19891221083709   \n...                           ...         ...  ...             ...   \n688761  MAY RELOC. DUE TO MILLING     5030406  ...  20190906121745   \n688762                        NaN     2230448  ...  20190906122335   \n688763                        NaN     4226661  ...  20190906124324   \n688764  RV TRAILER IN PARKING LOT     5033206  ...  20190906130007   \n688765        ASP TUE/FRI 730-800     3235046  ...  20190906130137   \n\n        DVV_CHECKED_DATE  DVV_TIMESTMP_UPD  DVV_FINAL_DISP_DATE  \\\n0             19950906.0      1.995101e+13             19950906   \n1             19891221.0               NaN             19891221   \n2             19891221.0               NaN             19891221   \n3             19891221.0               NaN             19891221   \n4             19891221.0               NaN             19891221   \n...                  ...               ...                  ...   \n688761               NaN               NaN             99999999   \n688762               NaN               NaN             99999999   \n688763               NaN               NaN             99999999   \n688764               NaN               NaN             99999999   \n688765               NaN               NaN             99999999   \n\n        DVV_FINAL_DISP_CD  DVV_SE_STATUS DVV_CITY DVV_STATE DVV_STOLEN_INDIC  \\\n0                     RTC              N      NaN       NaN              NaN   \n1                     RTC            NaN      NaN       NaN              NaN   \n2                     RTC            NaN      NaN       NaN              NaN   \n3                     RTC            NaN      NaN       NaN              NaN   \n4                     RTC            NaN      NaN       NaN              NaN   \n...                   ...            ...      ...       ...              ...   \n688761                AAA              B      NaN       NaN              NaN   \n688762                AAA              B      NaN       NaN              NaN   \n688763                AAA              B      NaN       NaN              NaN   \n688764                AAA              B      NaN       NaN              NaN   \n688765                AAA              B      NaN       NaN              NaN   \n\n       DVV_DOT  \n0          NaN  \n1          NaN  \n2          NaN  \n3          NaN  \n4          NaN  \n...        ...  \n688761     NaN  \n688762     NaN  \n688763     NaN  \n688764     NaN  \n688765     NaN  \n\n[688766 rows x 22 columns]",
      "text/html": "<div>\n<style scoped>\n    .dataframe tbody tr th:only-of-type {\n        vertical-align: middle;\n    }\n\n    .dataframe tbody tr th {\n        vertical-align: top;\n    }\n\n    .dataframe thead th {\n        text-align: right;\n    }\n</style>\n<table border=\"1\" class=\"dataframe\">\n  <thead>\n    <tr style=\"text-align: right;\">\n      <th></th>\n      <th>ISN</th>\n      <th>DVV_DISTRICT_CD</th>\n      <th>DVV_TAG_LOC1</th>\n      <th>DVV_TAG_LOC2</th>\n      <th>DVV_YEAR</th>\n      <th>DVV_MAKE</th>\n      <th>DVV_TYPE</th>\n      <th>DVV_COLOR</th>\n      <th>DVV_TAG_REMARKS</th>\n      <th>DVV_TAG_NO</th>\n      <th>...</th>\n      <th>DVV_TIMESTMP</th>\n      <th>DVV_CHECKED_DATE</th>\n      <th>DVV_TIMESTMP_UPD</th>\n      <th>DVV_FINAL_DISP_DATE</th>\n      <th>DVV_FINAL_DISP_CD</th>\n      <th>DVV_SE_STATUS</th>\n      <th>DVV_CITY</th>\n      <th>DVV_STATE</th>\n      <th>DVV_STOLEN_INDIC</th>\n      <th>DVV_DOT</th>\n    </tr>\n  </thead>\n  <tbody>\n    <tr>\n      <th>0</th>\n      <td>1648</td>\n      <td>QN07</td>\n      <td>N/S 41 AVE BET MAIN ST &amp;</td>\n      <td>COLLEGE PT BLVD</td>\n      <td>1984.0</td>\n      <td>MERCUR</td>\n      <td>4D</td>\n      <td>RED</td>\n      <td>CVDASH#EK652957 NOB/UNICB</td>\n      <td>4109185</td>\n      <td>...</td>\n      <td>19950905105015</td>\n      <td>19950906.0</td>\n      <td>1.995101e+13</td>\n      <td>19950906</td>\n      <td>RTC</td>\n      <td>N</td>\n      <td>NaN</td>\n      <td>NaN</td>\n      <td>NaN</td>\n      <td>NaN</td>\n    </tr>\n    <tr>\n      <th>1</th>\n      <td>1649</td>\n      <td>QW03</td>\n      <td>W/S 38 AVE BET 108 &amp; 111</td>\n      <td>NaN</td>\n      <td>1978.0</td>\n      <td>FORD</td>\n      <td>2D</td>\n      <td>BROWN</td>\n      <td>NaN</td>\n      <td>391103</td>\n      <td>...</td>\n      <td>19891221082938</td>\n      <td>19891221.0</td>\n      <td>NaN</td>\n      <td>19891221</td>\n      <td>RTC</td>\n      <td>NaN</td>\n      <td>NaN</td>\n      <td>NaN</td>\n      <td>NaN</td>\n      <td>NaN</td>\n    </tr>\n    <tr>\n      <th>2</th>\n      <td>1650</td>\n      <td>QW01</td>\n      <td>IN LOT 14ST AND 34ST</td>\n      <td>NaN</td>\n      <td>1982.0</td>\n      <td>NISSAN</td>\n      <td>2D</td>\n      <td>GREY</td>\n      <td>NaN</td>\n      <td>391252</td>\n      <td>...</td>\n      <td>19891221083043</td>\n      <td>19891221.0</td>\n      <td>NaN</td>\n      <td>19891221</td>\n      <td>RTC</td>\n      <td>NaN</td>\n      <td>NaN</td>\n      <td>NaN</td>\n      <td>NaN</td>\n      <td>NaN</td>\n    </tr>\n    <tr>\n      <th>3</th>\n      <td>1651</td>\n      <td>QW03</td>\n      <td>S/S 39 AVE  BET 112 &amp; 111</td>\n      <td>STREET</td>\n      <td>1980.0</td>\n      <td>TOYOTA</td>\n      <td>2D</td>\n      <td>GREY</td>\n      <td>NaN</td>\n      <td>391104</td>\n      <td>...</td>\n      <td>19891221083510</td>\n      <td>19891221.0</td>\n      <td>NaN</td>\n      <td>19891221</td>\n      <td>RTC</td>\n      <td>NaN</td>\n      <td>NaN</td>\n      <td>NaN</td>\n      <td>NaN</td>\n      <td>NaN</td>\n    </tr>\n    <tr>\n      <th>4</th>\n      <td>1652</td>\n      <td>QW03</td>\n      <td>W/S 91 STREET BET 35 &amp; 34</td>\n      <td>AVE</td>\n      <td>1982.0</td>\n      <td>DODGE</td>\n      <td>4D</td>\n      <td>GREY</td>\n      <td>NaN</td>\n      <td>391105</td>\n      <td>...</td>\n      <td>19891221083709</td>\n      <td>19891221.0</td>\n      <td>NaN</td>\n      <td>19891221</td>\n      <td>RTC</td>\n      <td>NaN</td>\n      <td>NaN</td>\n      <td>NaN</td>\n      <td>NaN</td>\n      <td>NaN</td>\n    </tr>\n    <tr>\n      <th>...</th>\n      <td>...</td>\n      <td>...</td>\n      <td>...</td>\n      <td>...</td>\n      <td>...</td>\n      <td>...</td>\n      <td>...</td>\n      <td>...</td>\n      <td>...</td>\n      <td>...</td>\n      <td>...</td>\n      <td>...</td>\n      <td>...</td>\n      <td>...</td>\n      <td>...</td>\n      <td>...</td>\n      <td>...</td>\n      <td>...</td>\n      <td>...</td>\n      <td>...</td>\n      <td>...</td>\n    </tr>\n    <tr>\n      <th>688761</th>\n      <td>688738</td>\n      <td>SI02</td>\n      <td>78 WINDOM AVE</td>\n      <td>BET ROBIN RD AND CEDAR AV</td>\n      <td>NaN</td>\n      <td>BUICK</td>\n      <td>4D</td>\n      <td>MAROON</td>\n      <td>MAY RELOC. DUE TO MILLING</td>\n      <td>5030406</td>\n      <td>...</td>\n      <td>20190906121745</td>\n      <td>NaN</td>\n      <td>NaN</td>\n      <td>99999999</td>\n      <td>AAA</td>\n      <td>B</td>\n      <td>NaN</td>\n      <td>NaN</td>\n      <td>NaN</td>\n      <td>NaN</td>\n    </tr>\n    <tr>\n      <th>688762</th>\n      <td>688739</td>\n      <td>BXE10</td>\n      <td>R/S LAFAYETTE AVE BTW</td>\n      <td>CROSS BX EXWY &amp; HUTCHINSO</td>\n      <td>NaN</td>\n      <td>CHEVRO</td>\n      <td>PT</td>\n      <td>BLACK</td>\n      <td>NaN</td>\n      <td>2230448</td>\n      <td>...</td>\n      <td>20190906122335</td>\n      <td>NaN</td>\n      <td>NaN</td>\n      <td>99999999</td>\n      <td>AAA</td>\n      <td>B</td>\n      <td>NaN</td>\n      <td>NaN</td>\n      <td>NaN</td>\n      <td>NaN</td>\n    </tr>\n    <tr>\n      <th>688763</th>\n      <td>688740</td>\n      <td>QN07</td>\n      <td>I/F/O 33 49 161 ST B/W</td>\n      <td>33 AVE &amp;35 AVE</td>\n      <td>NaN</td>\n      <td>INFINT</td>\n      <td>4D</td>\n      <td>GRAY</td>\n      <td>NaN</td>\n      <td>4226661</td>\n      <td>...</td>\n      <td>20190906124324</td>\n      <td>NaN</td>\n      <td>NaN</td>\n      <td>99999999</td>\n      <td>AAA</td>\n      <td>B</td>\n      <td>NaN</td>\n      <td>NaN</td>\n      <td>NaN</td>\n      <td>NaN</td>\n    </tr>\n    <tr>\n      <th>688764</th>\n      <td>688741</td>\n      <td>SI02</td>\n      <td>1435 TRAVIS AVE</td>\n      <td>VICTORYBLVD- SOUTH AVE</td>\n      <td>NaN</td>\n      <td>PIONEE</td>\n      <td>TR</td>\n      <td>WHITE</td>\n      <td>RV TRAILER IN PARKING LOT</td>\n      <td>5033206</td>\n      <td>...</td>\n      <td>20190906130007</td>\n      <td>NaN</td>\n      <td>NaN</td>\n      <td>99999999</td>\n      <td>AAA</td>\n      <td>B</td>\n      <td>NaN</td>\n      <td>NaN</td>\n      <td>NaN</td>\n      <td>NaN</td>\n    </tr>\n    <tr>\n      <th>688765</th>\n      <td>688742</td>\n      <td>BKE13</td>\n      <td>I/F/O 2012 NEPTUNE AVE</td>\n      <td>WEST 21 ST - WEST 20 ST</td>\n      <td>NaN</td>\n      <td>DODGE</td>\n      <td>2D</td>\n      <td>WHITE</td>\n      <td>ASP TUE/FRI 730-800</td>\n      <td>3235046</td>\n      <td>...</td>\n      <td>20190906130137</td>\n      <td>NaN</td>\n      <td>NaN</td>\n      <td>99999999</td>\n      <td>AAA</td>\n      <td>B</td>\n      <td>NaN</td>\n      <td>NaN</td>\n      <td>NaN</td>\n      <td>NaN</td>\n    </tr>\n  </tbody>\n</table>\n<p>688766 rows × 22 columns</p>\n</div>"
     },
     "metadata": {}
    }
   ]
  },
  {
   "cell_type": "code",
   "source": "#Renaming all the columns to remove redundant 'DVV_' prefix\nrename = {}\nfor i in df.columns.values:\n    if i == 'ISN':\n        rename[i]=i\n    else:\n        rename[i] = i[4:]\n",
   "metadata": {
    "tags": [],
    "cell_id": "00005-8c7d92c8-9c9d-46df-8e43-4f920e0ebc2a",
    "deepnote_to_be_reexecuted": false,
    "source_hash": "cd6834ff",
    "execution_start": 1627368516119,
    "execution_millis": 5,
    "deepnote_cell_type": "code"
   },
   "outputs": [],
   "execution_count": 57
  },
  {
   "cell_type": "code",
   "source": "df.rename(columns = rename, inplace=True)",
   "metadata": {
    "tags": [],
    "cell_id": "00005-82286035-6af4-420c-823c-f0b87768987e",
    "deepnote_to_be_reexecuted": false,
    "source_hash": "f852eef4",
    "execution_start": 1627368516618,
    "execution_millis": 2,
    "deepnote_cell_type": "code"
   },
   "outputs": [],
   "execution_count": 58
  },
  {
   "cell_type": "code",
   "metadata": {
    "tags": [],
    "cell_id": "00005-fef67789-940a-4bce-b8f7-a31f2433259d",
    "deepnote_to_be_reexecuted": false,
    "source_hash": "46d562a6",
    "execution_start": 1627368517103,
    "execution_millis": 287,
    "deepnote_cell_type": "code"
   },
   "source": "#Checking nan perentages by column\ndf.isna().mean()",
   "execution_count": 59,
   "outputs": [
    {
     "output_type": "execute_result",
     "execution_count": 59,
     "data": {
      "text/plain": "ISN                0.000000\nDISTRICT_CD        0.000000\nTAG_LOC1           0.000003\nTAG_LOC2           0.241994\nYEAR               0.284409\nMAKE               0.010382\nTYPE               0.000000\nCOLOR              0.000000\nTAG_REMARKS        0.611722\nTAG_NO             0.000000\nTAG_DATE           0.000000\nTAG_TIME           0.000000\nTIMESTMP           0.000000\nCHECKED_DATE       0.265145\nTIMESTMP_UPD       0.010448\nFINAL_DISP_DATE    0.000000\nFINAL_DISP_CD      0.000000\nSE_STATUS          0.150388\nCITY               0.781482\nSTATE              0.781486\nSTOLEN_INDIC       0.920548\nDOT                0.920548\ndtype: float64"
     },
     "metadata": {}
    }
   ]
  },
  {
   "cell_type": "code",
   "source": "#Cropping district codes to cover a larger area\ndf['DISTRICT_CD'] = df['DISTRICT_CD'].apply(lambda x: x[:-2])",
   "metadata": {
    "tags": [],
    "cell_id": "00006-cac28196-fb1b-43af-aea5-eee62d0e6eb3",
    "deepnote_to_be_reexecuted": false,
    "source_hash": "17650287",
    "execution_start": 1627345669248,
    "execution_millis": 172,
    "deepnote_cell_type": "code"
   },
   "outputs": [],
   "execution_count": 7
  },
  {
   "cell_type": "code",
   "source": "#Changing stolen indicator from nan and 'Y' to True and False\ndf['STOLEN_INDIC'] = df['STOLEN_INDIC'].map({np.nan: False, 'Y': True})",
   "metadata": {
    "tags": [],
    "cell_id": "00006-662f242a-8d4a-4b7b-a51e-99e80ba38dea",
    "deepnote_to_be_reexecuted": false,
    "source_hash": "e6ade13a",
    "execution_start": 1627368553880,
    "execution_millis": 99,
    "deepnote_cell_type": "code"
   },
   "outputs": [],
   "execution_count": 60
  },
  {
   "cell_type": "code",
   "source": "stolen_pct = df['STOLEN_INDIC'].mean()\n\nlabels = ['Reported Stolen', 'Not Reported Stolen']\n\n#define Seaborn color palette to use\ncolors = sns.color_palette('pastel')[3:5]\n\n#create pie chart\nplt.pie([stolen_pct,1-stolen_pct], labels = labels, colors = colors, autopct='%.0f%%')\nplt.title('Percentages of Stolen Vehicles')\nplt.show()",
   "metadata": {
    "tags": [],
    "cell_id": "00008-2b50f3bc-1f36-4935-9710-1599acc435a8",
    "deepnote_to_be_reexecuted": false,
    "source_hash": "7717aa2a",
    "execution_start": 1627368846683,
    "execution_millis": 96,
    "deepnote_cell_type": "code"
   },
   "outputs": [
    {
     "data": {
      "text/plain": "<Figure size 432x288 with 1 Axes>",
      "image/png": "[encoded data removed]"
     },
     "metadata": {
      "image/png": {
       "width": 380,
       "height": 247
      }
     },
     "output_type": "display_data"
    }
   ],
   "execution_count": 68
  },
  {
   "cell_type": "code",
   "source": "#Changing the timestamp ints to datetime objects\ndf['TIMESTMP'] = pd.to_datetime(df['TIMESTMP'],format = '%Y%m%d%H%M%S', errors='coerce')",
   "metadata": {
    "tags": [],
    "cell_id": "00007-787eb2e6-ea5a-4299-a597-875ec70d9145",
    "deepnote_to_be_reexecuted": false,
    "source_hash": "717f0ad0",
    "execution_start": 1627345669562,
    "execution_millis": 2095,
    "deepnote_cell_type": "code"
   },
   "outputs": [],
   "execution_count": 9
  },
  {
   "cell_type": "code",
   "metadata": {
    "tags": [],
    "cell_id": "00007-a5d5ae24-a514-4d42-816a-d563549dccc5",
    "deepnote_to_be_reexecuted": false,
    "source_hash": "6e159428",
    "execution_start": 1627345671734,
    "execution_millis": 261,
    "deepnote_cell_type": "code"
   },
   "source": "df['DISTRICT_CD'].value_counts()[-3::-1].plot(kind='barh', color = 'lime', figsize = (10,7))\nplt.title('Top NY Districts with Derelict Cars')",
   "execution_count": 10,
   "outputs": [
    {
     "output_type": "execute_result",
     "execution_count": 10,
     "data": {
      "text/plain": "Text(0.5, 1.0, 'Top NY Districts with Derelict Cars')"
     },
     "metadata": {}
    },
    {
     "data": {
      "text/plain": "<Figure size 720x504 with 1 Axes>",
      "image/png": "[encoded data removed]"
     },
     "metadata": {
      "needs_background": "light",
      "image/png": {
       "width": 603,
       "height": 427
      }
     },
     "output_type": "display_data"
    }
   ]
  },
  {
   "cell_type": "markdown",
   "source": "Grouping by districts, we can see that the most abandoned cars are found in Bronx West, Bronx East, Brooklyn North, Queens South, and so on.",
   "metadata": {
    "tags": [],
    "cell_id": "00012-3a4d872e-e400-4bff-bfae-a387fe225987",
    "deepnote_cell_type": "markdown"
   }
  },
  {
   "cell_type": "code",
   "source": "#Formatting the TAG_TIME column to be of datetime object\ndf['TAG_TIME'] = pd.to_datetime(df['TAG_TIME'], format = '%H%M', errors='coerce')",
   "metadata": {
    "tags": [],
    "cell_id": "00012-8c5de1d1-c9eb-4041-b552-c36340bc5147",
    "deepnote_to_be_reexecuted": false,
    "source_hash": "4a7f3ee7",
    "execution_start": 1627345671997,
    "execution_millis": 28,
    "deepnote_cell_type": "code"
   },
   "outputs": [],
   "execution_count": 11
  },
  {
   "cell_type": "code",
   "metadata": {
    "tags": [],
    "cell_id": "00007-c0cd42f0-0593-4660-90f0-318077a7b00c",
    "deepnote_to_be_reexecuted": false,
    "source_hash": "82bcb6b8",
    "execution_start": 1627345672030,
    "execution_millis": 3015,
    "deepnote_cell_type": "code"
   },
   "source": "df['TAG_TIME'].apply(lambda x: x.hour).plot(kind = 'hist', bins = 23, color = 'lime', figsize = (10,7))\nplt.title('Time of Tagging')\nplt.xlabel('Hour of the Day')",
   "execution_count": 12,
   "outputs": [
    {
     "output_type": "execute_result",
     "execution_count": 12,
     "data": {
      "text/plain": "Text(0.5, 0, 'Hour of the Day')"
     },
     "metadata": {}
    },
    {
     "data": {
      "text/plain": "<Figure size 720x504 with 1 Axes>",
      "image/png": "[encoded data removed]"
     },
     "metadata": {
      "needs_background": "light",
      "image/png": {
       "width": 631,
       "height": 441
      }
     },
     "output_type": "display_data"
    }
   ]
  },
  {
   "cell_type": "markdown",
   "source": "It appears that most derelict cars are tagged between the hours of 7am and 1pm and drop significantly during 2pm to 6am.",
   "metadata": {
    "tags": [],
    "cell_id": "00015-51acaaac-421a-4eba-90d0-0d3cd7cae1be",
    "deepnote_cell_type": "markdown"
   }
  },
  {
   "cell_type": "code",
   "source": "df['MAKE'].value_counts()[:10][::-1].plot(kind = 'barh', color = 'lime', figsize = (10,7))\nplt.title('Most Abandoned Car Makes')",
   "metadata": {
    "tags": [],
    "cell_id": "00016-d53cae09-5efa-436b-ae74-4caebfb0c634",
    "deepnote_to_be_reexecuted": false,
    "source_hash": "7a7fa6b",
    "execution_start": 1627345675091,
    "execution_millis": 181,
    "deepnote_cell_type": "code"
   },
   "outputs": [
    {
     "output_type": "execute_result",
     "execution_count": 13,
     "data": {
      "text/plain": "Text(0.5, 1.0, 'Most Abandoned Car Makes')"
     },
     "metadata": {}
    },
    {
     "data": {
      "text/plain": "<Figure size 720x504 with 1 Axes>",
      "image/png": "[encoded data removed]"
     },
     "metadata": {
      "needs_background": "light",
      "image/png": {
       "width": 618,
       "height": 427
      }
     },
     "output_type": "display_data"
    }
   ],
   "execution_count": 13
  },
  {
   "cell_type": "code",
   "source": "df['TYPE'].value_counts()[::-1].plot(kind = 'barh', color = 'lime', figsize = (10,7))\nplt.title('Most Abandoned Car Types')",
   "metadata": {
    "tags": [],
    "cell_id": "00016-3688358f-af92-47bb-9013-fc94228ef948",
    "deepnote_to_be_reexecuted": false,
    "source_hash": "a04f9c14",
    "execution_start": 1627345675336,
    "execution_millis": 204,
    "deepnote_cell_type": "code"
   },
   "outputs": [
    {
     "output_type": "execute_result",
     "execution_count": 14,
     "data": {
      "text/plain": "Text(0.5, 1.0, 'Most Abandoned Car Types')"
     },
     "metadata": {}
    },
    {
     "data": {
      "text/plain": "<Figure size 720x504 with 1 Axes>",
      "image/png": "[encoded data removed]"
     },
     "metadata": {
      "needs_background": "light",
      "image/png": {
       "width": 595,
       "height": 427
      }
     },
     "output_type": "display_data"
    }
   ],
   "execution_count": 14
  },
  {
   "cell_type": "markdown",
   "source": "The most abandoned car types are 4 door, 2 door, and vans.",
   "metadata": {
    "tags": [],
    "cell_id": "00017-5e450066-3de6-41b5-8a20-394406ac5557",
    "deepnote_cell_type": "markdown"
   }
  },
  {
   "cell_type": "code",
   "source": "df['COLOR'].value_counts()[:10][::-1].plot(kind = 'barh', color = 'lime', figsize = (10,7))\nplt.title('Most Abandoned Car Colors')",
   "metadata": {
    "tags": [],
    "cell_id": "00018-77970969-227e-47a1-b6c7-6208b7b14965",
    "deepnote_to_be_reexecuted": false,
    "source_hash": "8c814b17",
    "execution_start": 1627369350095,
    "execution_millis": 185,
    "deepnote_cell_type": "code"
   },
   "outputs": [
    {
     "output_type": "execute_result",
     "execution_count": 72,
     "data": {
      "text/plain": "Text(0.5, 1.0, 'Most Abandoned Car Colors')"
     },
     "metadata": {}
    },
    {
     "data": {
      "text/plain": "<Figure size 720x504 with 1 Axes>",
      "image/png": "[encoded data removed]"
     },
     "metadata": {
      "needs_background": "light",
      "image/png": {
       "width": 618,
       "height": 427
      }
     },
     "output_type": "display_data"
    }
   ],
   "execution_count": 72
  },
  {
   "cell_type": "code",
   "metadata": {
    "tags": [],
    "cell_id": "00008-f6e76bc1-a20c-4228-95d3-91677f891094",
    "deepnote_to_be_reexecuted": false,
    "source_hash": "32061642",
    "execution_start": 1627345675537,
    "execution_millis": 2704,
    "deepnote_cell_type": "code"
   },
   "source": "#Calculate the age of the vehicle\ndf['CAR_AGE'] = df['TIMESTMP'].apply(lambda x: x.year) - df['YEAR']",
   "execution_count": 15,
   "outputs": []
  },
  {
   "cell_type": "code",
   "source": "#These are the outlier cars that have mis-entered information on the year\ndf[(df['CAR_AGE'] > 70) | (df['CAR_AGE'] < -1)]",
   "metadata": {
    "tags": [],
    "cell_id": "00019-b66ed234-7ac7-43df-b68b-dac224d224b0",
    "deepnote_to_be_reexecuted": false,
    "source_hash": "9b209925",
    "execution_start": 1627345678245,
    "execution_millis": 86,
    "deepnote_cell_type": "code"
   },
   "outputs": [
    {
     "output_type": "execute_result",
     "execution_count": 16,
     "data": {
      "application/vnd.deepnote.dataframe.v2+json": {
       "row_count": 2,
       "column_count": 23,
       "columns": [
        {
         "name": "ISN",
         "dtype": "int64",
         "stats": {
          "unique_count": 2,
          "nan_count": 0,
          "min": "7429",
          "max": "656631",
          "histogram": [
           {
            "bin_start": 7429,
            "bin_end": 72349.2,
            "count": 1
           },
           {
            "bin_start": 72349.2,
            "bin_end": 137269.4,
            "count": 0
           },
           {
            "bin_start": 137269.4,
            "bin_end": 202189.59999999998,
            "count": 0
           },
           {
            "bin_start": 202189.59999999998,
            "bin_end": 267109.8,
            "count": 0
           },
           {
            "bin_start": 267109.8,
            "bin_end": 332030,
            "count": 0
           },
           {
            "bin_start": 332030,
            "bin_end": 396950.19999999995,
            "count": 0
           },
           {
            "bin_start": 396950.19999999995,
            "bin_end": 461870.39999999997,
            "count": 0
           },
           {
            "bin_start": 461870.39999999997,
            "bin_end": 526790.6,
            "count": 0
           },
           {
            "bin_start": 526790.6,
            "bin_end": 591710.7999999999,
            "count": 0
           },
           {
            "bin_start": 591710.7999999999,
            "bin_end": 656631,
            "count": 1
           }
          ]
         }
        },
        {
         "name": "DISTRICT_CD",
         "dtype": "object",
         "stats": {
          "unique_count": 2,
          "nan_count": 0,
          "categories": [
           {
            "name": "TRN",
            "count": 1
           },
           {
            "name": "BKE",
            "count": 1
           }
          ]
         }
        },
        {
         "name": "TAG_LOC1",
         "dtype": "object",
         "stats": {
          "unique_count": 2,
          "nan_count": 0,
          "categories": [
           {
            "name": "3RD AVE BETW 2ND AND 3RD",
            "count": 1
           },
           {
            "name": "R/S MAPLE ST",
            "count": 1
           }
          ]
         }
        },
        {
         "name": "TAG_LOC2",
         "dtype": "object",
         "stats": {
          "unique_count": 2,
          "nan_count": 0,
          "categories": [
           {
            "name": "STREETS",
            "count": 1
           },
           {
            "name": "TROY X SCHNECTEDY",
            "count": 1
           }
          ]
         }
        },
        {
         "name": "YEAR",
         "dtype": "float64",
         "stats": {
          "unique_count": 2,
          "nan_count": 0,
          "min": "-6666.0",
          "max": "1995.0",
          "histogram": [
           {
            "bin_start": -6666,
            "bin_end": -5799.9,
            "count": 1
           },
           {
            "bin_start": -5799.9,
            "bin_end": -4933.8,
            "count": 0
           },
           {
            "bin_start": -4933.8,
            "bin_end": -4067.7,
            "count": 0
           },
           {
            "bin_start": -4067.7,
            "bin_end": -3201.6,
            "count": 0
           },
           {
            "bin_start": -3201.6,
            "bin_end": -2335.5,
            "count": 0
           },
           {
            "bin_start": -2335.5,
            "bin_end": -1469.3999999999996,
            "count": 0
           },
           {
            "bin_start": -1469.3999999999996,
            "bin_end": -603.3000000000002,
            "count": 0
           },
           {
            "bin_start": -603.3000000000002,
            "bin_end": 262.8000000000002,
            "count": 0
           },
           {
            "bin_start": 262.8000000000002,
            "bin_end": 1128.9000000000005,
            "count": 0
           },
           {
            "bin_start": 1128.9000000000005,
            "bin_end": 1995,
            "count": 1
           }
          ]
         }
        },
        {
         "name": "MAKE",
         "dtype": "object",
         "stats": {
          "unique_count": 2,
          "nan_count": 0,
          "categories": [
           {
            "name": "DATSUN",
            "count": 1
           },
           {
            "name": "INTERN",
            "count": 1
           }
          ]
         }
        },
        {
         "name": "TYPE",
         "dtype": "object",
         "stats": {
          "unique_count": 2,
          "nan_count": 0,
          "categories": [
           {
            "name": "2D",
            "count": 1
           },
           {
            "name": "BS",
            "count": 1
           }
          ]
         }
        },
        {
         "name": "COLOR",
         "dtype": "object",
         "stats": {
          "unique_count": 1,
          "nan_count": 0,
          "categories": [
           {
            "name": "YELLOW",
            "count": 2
           }
          ]
         }
        },
        {
         "name": "TAG_REMARKS",
         "dtype": "object",
         "stats": {
          "unique_count": 2,
          "nan_count": 0,
          "categories": [
           {
            "name": "ENGINE VIN",
            "count": 1
           },
           {
            "name": "SCHOOL BUS",
            "count": 1
           }
          ]
         }
        },
        {
         "name": "TAG_NO",
         "dtype": "int64",
         "stats": {
          "unique_count": 2,
          "nan_count": 0,
          "min": "3216557",
          "max": "9000022",
          "histogram": [
           {
            "bin_start": 3216557,
            "bin_end": 3794903.5,
            "count": 1
           },
           {
            "bin_start": 3794903.5,
            "bin_end": 4373250,
            "count": 0
           },
           {
            "bin_start": 4373250,
            "bin_end": 4951596.5,
            "count": 0
           },
           {
            "bin_start": 4951596.5,
            "bin_end": 5529943,
            "count": 0
           },
           {
            "bin_start": 5529943,
            "bin_end": 6108289.5,
            "count": 0
           },
           {
            "bin_start": 6108289.5,
            "bin_end": 6686636,
            "count": 0
           },
           {
            "bin_start": 6686636,
            "bin_end": 7264982.5,
            "count": 0
           },
           {
            "bin_start": 7264982.5,
            "bin_end": 7843329,
            "count": 0
           },
           {
            "bin_start": 7843329,
            "bin_end": 8421675.5,
            "count": 0
           },
           {
            "bin_start": 8421675.5,
            "bin_end": 9000022,
            "count": 1
           }
          ]
         }
        },
        {
         "name": "TAG_DATE",
         "dtype": "int64",
         "stats": {
          "unique_count": 2,
          "nan_count": 0,
          "min": "19900323",
          "max": "20151020",
          "histogram": [
           {
            "bin_start": 19900323,
            "bin_end": 19925392.7,
            "count": 1
           },
           {
            "bin_start": 19925392.7,
            "bin_end": 19950462.4,
            "count": 0
           },
           {
            "bin_start": 19950462.4,
            "bin_end": 19975532.1,
            "count": 0
           },
           {
            "bin_start": 19975532.1,
            "bin_end": 20000601.8,
            "count": 0
           },
           {
            "bin_start": 20000601.8,
            "bin_end": 20025671.5,
            "count": 0
           },
           {
            "bin_start": 20025671.5,
            "bin_end": 20050741.2,
            "count": 0
           },
           {
            "bin_start": 20050741.2,
            "bin_end": 20075810.9,
            "count": 0
           },
           {
            "bin_start": 20075810.9,
            "bin_end": 20100880.6,
            "count": 0
           },
           {
            "bin_start": 20100880.6,
            "bin_end": 20125950.3,
            "count": 0
           },
           {
            "bin_start": 20125950.3,
            "bin_end": 20151020,
            "count": 1
           }
          ]
         }
        },
        {
         "name": "TAG_TIME",
         "dtype": "datetime64[ns]",
         "stats": {
          "unique_count": 2,
          "nan_count": 0,
          "min": "1900-01-01 07:00:00",
          "max": "1900-01-01 08:00:00",
          "histogram": [
           {
            "bin_start": -2208963600000000000,
            "bin_end": -2208963240000000000,
            "count": 1
           },
           {
            "bin_start": -2208963240000000000,
            "bin_end": -2208962880000000000,
            "count": 0
           },
           {
            "bin_start": -2208962880000000000,
            "bin_end": -2208962520000000000,
            "count": 0
           },
           {
            "bin_start": -2208962520000000000,
            "bin_end": -2208962160000000000,
            "count": 0
           },
           {
            "bin_start": -2208962160000000000,
            "bin_end": -2208961800000000000,
            "count": 0
           },
           {
            "bin_start": -2208961800000000000,
            "bin_end": -2208961440000000000,
            "count": 0
           },
           {
            "bin_start": -2208961440000000000,
            "bin_end": -2208961080000000000,
            "count": 0
           },
           {
            "bin_start": -2208961080000000000,
            "bin_end": -2208960720000000000,
            "count": 0
           },
           {
            "bin_start": -2208960720000000000,
            "bin_end": -2208960360000000000,
            "count": 0
           },
           {
            "bin_start": -2208960360000000000,
            "bin_end": -2208960000000000000,
            "count": 1
           }
          ]
         }
        },
        {
         "name": "TIMESTMP",
         "dtype": "datetime64[ns]",
         "stats": {
          "unique_count": 2,
          "nan_count": 0,
          "min": "1990-03-26 10:11:11",
          "max": "2015-10-20 13:07:23",
          "histogram": [
           {
            "bin_start": 638446271000000000,
            "bin_end": 719136288200000000,
            "count": 1
           },
           {
            "bin_start": 719136288200000000,
            "bin_end": 799826305400000000,
            "count": 0
           },
           {
            "bin_start": 799826305400000000,
            "bin_end": 880516322600000000,
            "count": 0
           },
           {
            "bin_start": 880516322600000000,
            "bin_end": 961206339800000000,
            "count": 0
           },
           {
            "bin_start": 961206339800000000,
            "bin_end": 1041896357000000000,
            "count": 0
           },
           {
            "bin_start": 1041896357000000000,
            "bin_end": 1122586374200000000,
            "count": 0
           },
           {
            "bin_start": 1122586374200000000,
            "bin_end": 1203276391400000000,
            "count": 0
           },
           {
            "bin_start": 1203276391400000000,
            "bin_end": 1283966408600000000,
            "count": 0
           },
           {
            "bin_start": 1283966408600000000,
            "bin_end": 1364656425800000000,
            "count": 0
           },
           {
            "bin_start": 1364656425800000000,
            "bin_end": 1445346443000000000,
            "count": 1
           }
          ]
         }
        },
        {
         "name": "CHECKED_DATE",
         "dtype": "float64",
         "stats": {
          "unique_count": 1,
          "nan_count": 1,
          "min": "19990219.0",
          "max": "19990219.0",
          "histogram": [
           {
            "bin_start": 19990218.5,
            "bin_end": 19990218.6,
            "count": 0
           },
           {
            "bin_start": 19990218.6,
            "bin_end": 19990218.7,
            "count": 0
           },
           {
            "bin_start": 19990218.7,
            "bin_end": 19990218.8,
            "count": 0
           },
           {
            "bin_start": 19990218.8,
            "bin_end": 19990218.9,
            "count": 0
           },
           {
            "bin_start": 19990218.9,
            "bin_end": 19990219,
            "count": 0
           },
           {
            "bin_start": 19990219,
            "bin_end": 19990219.1,
            "count": 1
           },
           {
            "bin_start": 19990219.1,
            "bin_end": 19990219.2,
            "count": 0
           },
           {
            "bin_start": 19990219.2,
            "bin_end": 19990219.3,
            "count": 0
           },
           {
            "bin_start": 19990219.3,
            "bin_end": 19990219.4,
            "count": 0
           },
           {
            "bin_start": 19990219.4,
            "bin_end": 19990219.5,
            "count": 0
           }
          ]
         }
        },
        {
         "name": "TIMESTMP_UPD",
         "dtype": "float64",
         "stats": {
          "unique_count": 2,
          "nan_count": 0,
          "min": "19990219084440.0",
          "max": "20151026055608.0",
          "histogram": [
           {
            "bin_start": 19990219084440,
            "bin_end": 20006299781556.8,
            "count": 1
           },
           {
            "bin_start": 20006299781556.8,
            "bin_end": 20022380478673.6,
            "count": 0
           },
           {
            "bin_start": 20022380478673.6,
            "bin_end": 20038461175790.4,
            "count": 0
           },
           {
            "bin_start": 20038461175790.4,
            "bin_end": 20054541872907.2,
            "count": 0
           },
           {
            "bin_start": 20054541872907.2,
            "bin_end": 20070622570024,
            "count": 0
           },
           {
            "bin_start": 20070622570024,
            "bin_end": 20086703267140.8,
            "count": 0
           },
           {
            "bin_start": 20086703267140.8,
            "bin_end": 20102783964257.6,
            "count": 0
           },
           {
            "bin_start": 20102783964257.6,
            "bin_end": 20118864661374.4,
            "count": 0
           },
           {
            "bin_start": 20118864661374.4,
            "bin_end": 20134945358491.2,
            "count": 0
           },
           {
            "bin_start": 20134945358491.2,
            "bin_end": 20151026055608,
            "count": 1
           }
          ]
         }
        },
        {
         "name": "FINAL_DISP_DATE",
         "dtype": "int64",
         "stats": {
          "unique_count": 2,
          "nan_count": 0,
          "min": "19990219",
          "max": "20151026",
          "histogram": [
           {
            "bin_start": 19990219,
            "bin_end": 20006299.7,
            "count": 1
           },
           {
            "bin_start": 20006299.7,
            "bin_end": 20022380.4,
            "count": 0
           },
           {
            "bin_start": 20022380.4,
            "bin_end": 20038461.1,
            "count": 0
           },
           {
            "bin_start": 20038461.1,
            "bin_end": 20054541.8,
            "count": 0
           },
           {
            "bin_start": 20054541.8,
            "bin_end": 20070622.5,
            "count": 0
           },
           {
            "bin_start": 20070622.5,
            "bin_end": 20086703.2,
            "count": 0
           },
           {
            "bin_start": 20086703.2,
            "bin_end": 20102783.9,
            "count": 0
           },
           {
            "bin_start": 20102783.9,
            "bin_end": 20118864.6,
            "count": 0
           },
           {
            "bin_start": 20118864.6,
            "bin_end": 20134945.3,
            "count": 0
           },
           {
            "bin_start": 20134945.3,
            "bin_end": 20151026,
            "count": 1
           }
          ]
         }
        },
        {
         "name": "FINAL_DISP_CD",
         "dtype": "object",
         "stats": {
          "unique_count": 2,
          "nan_count": 0,
          "categories": [
           {
            "name": "RTC",
            "count": 1
           },
           {
            "name": "OC",
            "count": 1
           }
          ]
         }
        },
        {
         "name": "SE_STATUS",
         "dtype": "object",
         "stats": {
          "unique_count": 2,
          "nan_count": 0,
          "categories": [
           {
            "name": "A",
            "count": 1
           },
           {
            "name": "B",
            "count": 1
           }
          ]
         }
        },
        {
         "name": "CITY",
         "dtype": "object",
         "stats": {
          "unique_count": 0,
          "nan_count": 2,
          "categories": [
           {
            "name": "Missing",
            "count": 2
           }
          ]
         }
        },
        {
         "name": "STATE",
         "dtype": "object",
         "stats": {
          "unique_count": 0,
          "nan_count": 2,
          "categories": [
           {
            "name": "Missing",
            "count": 2
           }
          ]
         }
        },
        {
         "name": "STOLEN_INDIC",
         "dtype": "bool",
         "stats": {
          "unique_count": 1,
          "nan_count": 0,
          "categories": [
           {
            "name": "False",
            "count": 2
           }
          ]
         }
        },
        {
         "name": "DOT",
         "dtype": "float64",
         "stats": {
          "unique_count": 0,
          "nan_count": 2,
          "min": null,
          "max": null,
          "histogram": [
           {
            "bin_start": 0,
            "bin_end": 0.1,
            "count": 0
           },
           {
            "bin_start": 0.1,
            "bin_end": 0.2,
            "count": 0
           },
           {
            "bin_start": 0.2,
            "bin_end": 0.30000000000000004,
            "count": 0
           },
           {
            "bin_start": 0.30000000000000004,
            "bin_end": 0.4,
            "count": 0
           },
           {
            "bin_start": 0.4,
            "bin_end": 0.5,
            "count": 0
           },
           {
            "bin_start": 0.5,
            "bin_end": 0.6000000000000001,
            "count": 0
           },
           {
            "bin_start": 0.6000000000000001,
            "bin_end": 0.7000000000000001,
            "count": 0
           },
           {
            "bin_start": 0.7000000000000001,
            "bin_end": 0.8,
            "count": 0
           },
           {
            "bin_start": 0.8,
            "bin_end": 0.9,
            "count": 0
           },
           {
            "bin_start": 0.9,
            "bin_end": 1,
            "count": 0
           }
          ]
         }
        },
        {
         "name": "CAR_AGE",
         "dtype": "float64",
         "stats": {
          "unique_count": 2,
          "nan_count": 0,
          "min": "-5.0",
          "max": "8681.0",
          "histogram": [
           {
            "bin_start": -5,
            "bin_end": 863.6,
            "count": 1
           },
           {
            "bin_start": 863.6,
            "bin_end": 1732.2,
            "count": 0
           },
           {
            "bin_start": 1732.2,
            "bin_end": 2600.8,
            "count": 0
           },
           {
            "bin_start": 2600.8,
            "bin_end": 3469.4,
            "count": 0
           },
           {
            "bin_start": 3469.4,
            "bin_end": 4338,
            "count": 0
           },
           {
            "bin_start": 4338,
            "bin_end": 5206.6,
            "count": 0
           },
           {
            "bin_start": 5206.6,
            "bin_end": 6075.2,
            "count": 0
           },
           {
            "bin_start": 6075.2,
            "bin_end": 6943.8,
            "count": 0
           },
           {
            "bin_start": 6943.8,
            "bin_end": 7812.400000000001,
            "count": 0
           },
           {
            "bin_start": 7812.400000000001,
            "bin_end": 8681,
            "count": 1
           }
          ]
         }
        },
        {
         "name": "_deepnote_index_column",
         "dtype": "int64"
        }
       ],
       "rows_top": [
        {
         "ISN": 7429,
         "DISTRICT_CD": "TRN",
         "TAG_LOC1": "3RD AVE BETW 2ND AND 3RD",
         "TAG_LOC2": "STREETS",
         "YEAR": 1995,
         "MAKE": "DATSUN",
         "TYPE": "2D",
         "COLOR": "YELLOW",
         "TAG_REMARKS": "ENGINE VIN",
         "TAG_NO": 9000022,
         "TAG_DATE": 19900323,
         "TAG_TIME": "1900-01-01T08:00:00.000000",
         "TIMESTMP": "1990-03-26T10:11:11.000000",
         "CHECKED_DATE": 19990219,
         "TIMESTMP_UPD": 19990219084440,
         "FINAL_DISP_DATE": 19990219,
         "FINAL_DISP_CD": "RTC",
         "SE_STATUS": "A",
         "CITY": "nan",
         "STATE": "nan",
         "STOLEN_INDIC": "False",
         "DOT": "nan",
         "CAR_AGE": -5,
         "_deepnote_index_column": 5782
        },
        {
         "ISN": 656631,
         "DISTRICT_CD": "BKE",
         "TAG_LOC1": "R/S MAPLE ST",
         "TAG_LOC2": "TROY X SCHNECTEDY",
         "YEAR": -6666,
         "MAKE": "INTERN",
         "TYPE": "BS",
         "COLOR": "YELLOW",
         "TAG_REMARKS": "SCHOOL BUS",
         "TAG_NO": 3216557,
         "TAG_DATE": 20151020,
         "TAG_TIME": "1900-01-01T07:00:00.000000",
         "TIMESTMP": "2015-10-20T13:07:23.000000",
         "CHECKED_DATE": "nan",
         "TIMESTMP_UPD": 20151026055608,
         "FINAL_DISP_DATE": 20151026,
         "FINAL_DISP_CD": "OC",
         "SE_STATUS": "B",
         "CITY": "nan",
         "STATE": "nan",
         "STOLEN_INDIC": "False",
         "DOT": "nan",
         "CAR_AGE": 8681,
         "_deepnote_index_column": 657382
        }
       ],
       "rows_bottom": null
      },
      "text/plain": "           ISN DISTRICT_CD                  TAG_LOC1           TAG_LOC2  \\\n5782      7429         TRN  3RD AVE BETW 2ND AND 3RD            STREETS   \n657382  656631         BKE              R/S MAPLE ST  TROY X SCHNECTEDY   \n\n          YEAR    MAKE TYPE   COLOR TAG_REMARKS   TAG_NO  ...  CHECKED_DATE  \\\n5782    1995.0  DATSUN   2D  YELLOW  ENGINE VIN  9000022  ...    19990219.0   \n657382 -6666.0  INTERN   BS  YELLOW  SCHOOL BUS  3216557  ...           NaN   \n\n        TIMESTMP_UPD FINAL_DISP_DATE  FINAL_DISP_CD  SE_STATUS  CITY STATE  \\\n5782    1.999022e+13        19990219            RTC          A   NaN   NaN   \n657382  2.015103e+13        20151026             OC          B   NaN   NaN   \n\n       STOLEN_INDIC DOT CAR_AGE  \n5782          False NaN    -5.0  \n657382        False NaN  8681.0  \n\n[2 rows x 23 columns]",
      "text/html": "<div>\n<style scoped>\n    .dataframe tbody tr th:only-of-type {\n        vertical-align: middle;\n    }\n\n    .dataframe tbody tr th {\n        vertical-align: top;\n    }\n\n    .dataframe thead th {\n        text-align: right;\n    }\n</style>\n<table border=\"1\" class=\"dataframe\">\n  <thead>\n    <tr style=\"text-align: right;\">\n      <th></th>\n      <th>ISN</th>\n      <th>DISTRICT_CD</th>\n      <th>TAG_LOC1</th>\n      <th>TAG_LOC2</th>\n      <th>YEAR</th>\n      <th>MAKE</th>\n      <th>TYPE</th>\n      <th>COLOR</th>\n      <th>TAG_REMARKS</th>\n      <th>TAG_NO</th>\n      <th>...</th>\n      <th>CHECKED_DATE</th>\n      <th>TIMESTMP_UPD</th>\n      <th>FINAL_DISP_DATE</th>\n      <th>FINAL_DISP_CD</th>\n      <th>SE_STATUS</th>\n      <th>CITY</th>\n      <th>STATE</th>\n      <th>STOLEN_INDIC</th>\n      <th>DOT</th>\n      <th>CAR_AGE</th>\n    </tr>\n  </thead>\n  <tbody>\n    <tr>\n      <th>5782</th>\n      <td>7429</td>\n      <td>TRN</td>\n      <td>3RD AVE BETW 2ND AND 3RD</td>\n      <td>STREETS</td>\n      <td>1995.0</td>\n      <td>DATSUN</td>\n      <td>2D</td>\n      <td>YELLOW</td>\n      <td>ENGINE VIN</td>\n      <td>9000022</td>\n      <td>...</td>\n      <td>19990219.0</td>\n      <td>1.999022e+13</td>\n      <td>19990219</td>\n      <td>RTC</td>\n      <td>A</td>\n      <td>NaN</td>\n      <td>NaN</td>\n      <td>False</td>\n      <td>NaN</td>\n      <td>-5.0</td>\n    </tr>\n    <tr>\n      <th>657382</th>\n      <td>656631</td>\n      <td>BKE</td>\n      <td>R/S MAPLE ST</td>\n      <td>TROY X SCHNECTEDY</td>\n      <td>-6666.0</td>\n      <td>INTERN</td>\n      <td>BS</td>\n      <td>YELLOW</td>\n      <td>SCHOOL BUS</td>\n      <td>3216557</td>\n      <td>...</td>\n      <td>NaN</td>\n      <td>2.015103e+13</td>\n      <td>20151026</td>\n      <td>OC</td>\n      <td>B</td>\n      <td>NaN</td>\n      <td>NaN</td>\n      <td>False</td>\n      <td>NaN</td>\n      <td>8681.0</td>\n    </tr>\n  </tbody>\n</table>\n<p>2 rows × 23 columns</p>\n</div>"
     },
     "metadata": {}
    }
   ],
   "execution_count": 16
  },
  {
   "cell_type": "code",
   "source": "#Lets get rid of this anomaly\ndf = df[(df['CAR_AGE'] < 70) & (df['CAR_AGE'] >= -1)]",
   "metadata": {
    "tags": [],
    "cell_id": "00024-a5c08d7e-c6b2-4e1c-8921-e7d8353e4b5d",
    "deepnote_to_be_reexecuted": false,
    "source_hash": "63e61a4d",
    "execution_start": 1627345678329,
    "execution_millis": 81,
    "deepnote_cell_type": "code"
   },
   "outputs": [],
   "execution_count": 17
  },
  {
   "cell_type": "code",
   "source": "df.groupby([df['TIMESTMP'].dt.year]).count()['ISN'].plot(color = 'b', figsize = (10,7));\nplt.title('Abandoned Cars by Year Tagged in New York City')",
   "metadata": {
    "tags": [],
    "cell_id": "00020-2cdb265d-1af5-4390-8d15-cc077ac0db5b",
    "deepnote_to_be_reexecuted": false,
    "source_hash": "d976c604",
    "execution_start": 1627345678413,
    "execution_millis": 448,
    "deepnote_cell_type": "code"
   },
   "outputs": [
    {
     "output_type": "execute_result",
     "execution_count": 18,
     "data": {
      "text/plain": "Text(0.5, 1.0, 'Abandoned Cars by Year Tagged in New York City')"
     },
     "metadata": {}
    },
    {
     "data": {
      "text/plain": "<Figure size 720x504 with 1 Axes>",
      "image/png": "[encoded data removed]"
     },
     "metadata": {
      "needs_background": "light",
      "image/png": {
       "width": 614,
       "height": 441
      }
     },
     "output_type": "display_data"
    }
   ],
   "execution_count": 18
  },
  {
   "cell_type": "code",
   "source": "df.groupby('YEAR').count()['ISN'].plot(color = 'r', figsize = (10,7));\nplt.title('Abandoned Cars by Car Manufactured Year in New York City')",
   "metadata": {
    "tags": [],
    "cell_id": "00025-77c17e73-a7b8-4ba4-8992-e3bd6e88d26f",
    "deepnote_to_be_reexecuted": false,
    "source_hash": "d79907a2",
    "execution_start": 1627345678925,
    "execution_millis": 412,
    "deepnote_cell_type": "code"
   },
   "outputs": [
    {
     "output_type": "execute_result",
     "execution_count": 19,
     "data": {
      "text/plain": "Text(0.5, 1.0, 'Abandoned Cars by Car Manufactured Year in New York City')"
     },
     "metadata": {}
    },
    {
     "data": {
      "text/plain": "<Figure size 720x504 with 1 Axes>",
      "image/png": "[encoded data removed]"
     },
     "metadata": {
      "needs_background": "light",
      "image/png": {
       "width": 610,
       "height": 441
      }
     },
     "output_type": "display_data"
    }
   ],
   "execution_count": 19
  },
  {
   "cell_type": "markdown",
   "source": "There seems to be a huge amount of 1972 derelict cars. Quite the strange anomaly.",
   "metadata": {
    "tags": [],
    "cell_id": "00024-5e022014-a8d1-466a-ba9d-e7f81d53bcda",
    "deepnote_cell_type": "markdown"
   }
  },
  {
   "cell_type": "code",
   "source": "df[df['YEAR'] == 1972]['MAKE'].value_counts()[:10][::-1].plot(kind = 'barh', color = 'lime', figsize = (10,7))\nplt.title('Most Abandoned Car Brands in 1972')",
   "metadata": {
    "tags": [],
    "cell_id": "00026-946ee072-69b3-4799-b2d5-10c68093ed96",
    "deepnote_to_be_reexecuted": false,
    "source_hash": "bb8c2ac5",
    "execution_start": 1627345679333,
    "execution_millis": 217,
    "deepnote_cell_type": "code"
   },
   "outputs": [
    {
     "output_type": "execute_result",
     "execution_count": 20,
     "data": {
      "text/plain": "Text(0.5, 1.0, 'Most Abandoned Car Brands in 1972')"
     },
     "metadata": {}
    },
    {
     "data": {
      "text/plain": "<Figure size 720x504 with 1 Axes>",
      "image/png": "[encoded data removed]"
     },
     "metadata": {
      "needs_background": "light",
      "image/png": {
       "width": 625,
       "height": 427
      }
     },
     "output_type": "display_data"
    }
   ],
   "execution_count": 20
  },
  {
   "cell_type": "code",
   "source": "df.groupby(['YEAR','MAKE']).count()['ISN'].sort_values(ascending = False)[:10][::-1].plot(kind = 'barh', color = 'lime', figsize = (10,7))\nplt.title('Top 10 Most Abandoned Make Per Year Year')",
   "metadata": {
    "tags": [],
    "cell_id": "00026-61d950aa-0ee8-44f5-8411-cb03eb9d0c75",
    "deepnote_to_be_reexecuted": false,
    "source_hash": "7cfce321",
    "execution_start": 1627346989195,
    "execution_millis": 475,
    "deepnote_cell_type": "code"
   },
   "outputs": [
    {
     "output_type": "execute_result",
     "execution_count": 53,
     "data": {
      "text/plain": "Text(0.5, 1.0, 'Top 10 Most Abandoned Make Per Year Year')"
     },
     "metadata": {}
    },
    {
     "data": {
      "text/plain": "<Figure size 720x504 with 1 Axes>",
      "image/png": "[encoded data removed]"
     },
     "metadata": {
      "needs_background": "light",
      "image/png": {
       "width": 680,
       "height": 427
      }
     },
     "output_type": "display_data"
    }
   ],
   "execution_count": 53
  },
  {
   "cell_type": "code",
   "source": "\ndf[(df['CAR_AGE']<70) & (df['CAR_AGE']>-1)]['CAR_AGE'].plot(kind = 'hist', bins = 25, color = 'lime', figsize = (10,7))\nplt.title('Age of All Derelict Cars')",
   "metadata": {
    "tags": [],
    "cell_id": "00019-cb757788-bc77-4bdf-beba-6d38ec08f1c4",
    "deepnote_to_be_reexecuted": false,
    "source_hash": "bd1776da",
    "execution_start": 1627345706014,
    "execution_millis": 329,
    "deepnote_cell_type": "code"
   },
   "outputs": [
    {
     "output_type": "execute_result",
     "execution_count": 27,
     "data": {
      "text/plain": "Text(0.5, 1.0, 'Age of All Derelict Cars')"
     },
     "metadata": {}
    },
    {
     "data": {
      "text/plain": "<Figure size 720x504 with 1 Axes>",
      "image/png": "[encoded data removed]"
     },
     "metadata": {
      "needs_background": "light",
      "image/png": {
       "width": 631,
       "height": 427
      }
     },
     "output_type": "display_data"
    }
   ],
   "execution_count": 27
  },
  {
   "cell_type": "code",
   "source": "df[(df['CAR_AGE']<70) & (df['CAR_AGE']>-1) & df['STOLEN_INDIC']]['CAR_AGE'].plot(kind = 'hist', bins = 25, color = 'lime', figsize = (10,7))\nplt.title('Age of Stolen Derelict Cars')",
   "metadata": {
    "tags": [],
    "cell_id": "00021-22cc763a-0d24-4e38-bce2-66e406d94ba9",
    "deepnote_to_be_reexecuted": false,
    "source_hash": "cc8523f9",
    "execution_start": 1627345715163,
    "execution_millis": 226,
    "deepnote_cell_type": "code"
   },
   "outputs": [
    {
     "output_type": "execute_result",
     "execution_count": 28,
     "data": {
      "text/plain": "Text(0.5, 1.0, 'Age of Stolen Derelict Cars')"
     },
     "metadata": {}
    },
    {
     "data": {
      "text/plain": "<Figure size 720x504 with 1 Axes>",
      "image/png": "[encoded data removed]"
     },
     "metadata": {
      "needs_background": "light",
      "image/png": {
       "width": 618,
       "height": 427
      }
     },
     "output_type": "display_data"
    }
   ],
   "execution_count": 28
  },
  {
   "cell_type": "code",
   "source": "",
   "metadata": {
    "tags": [],
    "cell_id": "00029-02d2ee2f-5882-4492-8828-d494ea335bf2",
    "deepnote_cell_type": "code"
   },
   "outputs": [],
   "execution_count": null
  },
  {
   "cell_type": "markdown",
   "source": "The insight we see from these two graphs is that newer cars are the ones being stolen then abandoned while older cars (around 12+ years old) are being dumped without ever being reported as stolen. Let us confirm this with some bootstrapping.",
   "metadata": {
    "tags": [],
    "cell_id": "00022-1b8d2967-7198-438a-b2c3-64e6b456428a",
    "deepnote_cell_type": "markdown"
   }
  },
  {
   "cell_type": "code",
   "source": "top10 = df.groupby(['MAKE']).count()['ISN'].sort_values(ascending = False)[:10].index.values",
   "metadata": {
    "tags": [],
    "cell_id": "00031-daec5b8d-ea00-4dfe-8784-f16819c2779d",
    "deepnote_to_be_reexecuted": false,
    "source_hash": "8238e22a",
    "execution_start": 1627345793933,
    "execution_millis": 218,
    "deepnote_cell_type": "code"
   },
   "outputs": [],
   "execution_count": 32
  },
  {
   "cell_type": "code",
   "source": "top10df = df[df['MAKE'].isin(top10)]",
   "metadata": {
    "tags": [],
    "cell_id": "00032-0783ff2b-1751-4ab7-a451-1ee4020248b0",
    "deepnote_to_be_reexecuted": false,
    "source_hash": "f97215",
    "execution_start": 1627345946201,
    "execution_millis": 46,
    "deepnote_cell_type": "code"
   },
   "outputs": [],
   "execution_count": 35
  },
  {
   "cell_type": "code",
   "source": "f, ax = plt.subplots(figsize=(10, 7))\nsns.boxplot(x = 'CAR_AGE', y = 'MAKE', data = top10df)\nplt.title('Derelict Car Age Distribution')",
   "metadata": {
    "tags": [],
    "cell_id": "00034-6d2773cd-c06e-4eb3-9c3b-69883431cc51",
    "deepnote_to_be_reexecuted": false,
    "source_hash": "136f0da2",
    "execution_start": 1627346568721,
    "execution_millis": 686,
    "deepnote_cell_type": "code"
   },
   "outputs": [
    {
     "output_type": "execute_result",
     "execution_count": 52,
     "data": {
      "text/plain": "Text(0.5, 1.0, 'Derelict Car Age Distribution')"
     },
     "metadata": {}
    },
    {
     "data": {
      "text/plain": "<Figure size 720x504 with 1 Axes>",
      "image/png": "[encoded data removed]"
     },
     "metadata": {
      "needs_background": "light",
      "image/png": {
       "width": 632,
       "height": 442
      }
     },
     "output_type": "display_data"
    }
   ],
   "execution_count": 52
  },
  {
   "cell_type": "code",
   "source": "pd.plotting.bootstrap_plot(df[(df['CAR_AGE']<70) & (df['CAR_AGE']>-1) & df['STOLEN_INDIC']]['CAR_AGE'], color = 'r')",
   "metadata": {
    "tags": [],
    "cell_id": "00022-969476e0-fd06-49a9-b40e-e28c537944d5",
    "deepnote_to_be_reexecuted": false,
    "source_hash": "9e6da031",
    "execution_start": 1627345681175,
    "execution_millis": 949,
    "deepnote_cell_type": "code"
   },
   "outputs": [
    {
     "output_type": "execute_result",
     "execution_count": 25,
     "data": {
      "text/plain": "<Figure size 432x288 with 6 Axes>",
      "image/png": "[encoded data removed]"
     },
     "metadata": {
      "image/png": {
       "width": 424,
       "height": 280
      }
     }
    },
    {
     "data": {
      "text/plain": "<Figure size 432x288 with 6 Axes>",
      "image/png": "[encoded data removed]"
     },
     "metadata": {
      "needs_background": "light",
      "image/png": {
       "width": 424,
       "height": 280
      }
     },
     "output_type": "display_data"
    }
   ],
   "execution_count": 25
  },
  {
   "cell_type": "code",
   "source": "pd.plotting.bootstrap_plot(df[(df['CAR_AGE']<70) & (df['CAR_AGE']>-1) & ~(df['STOLEN_INDIC'])]['CAR_AGE'], color = 'lime')\n\n",
   "metadata": {
    "tags": [],
    "cell_id": "00024-16547fc5-78dd-4887-b90d-b9ea3d2c509b",
    "deepnote_to_be_reexecuted": false,
    "source_hash": "e4fcc659",
    "execution_start": 1627345682126,
    "execution_millis": 1138,
    "deepnote_cell_type": "code"
   },
   "outputs": [
    {
     "output_type": "execute_result",
     "execution_count": 26,
     "data": {
      "text/plain": "<Figure size 432x288 with 6 Axes>",
      "image/png": "[encoded data removed]"
     },
     "metadata": {
      "image/png": {
       "width": 424,
       "height": 280
      }
     }
    },
    {
     "data": {
      "text/plain": "<Figure size 432x288 with 6 Axes>",
      "image/png": "[encoded data removed]"
     },
     "metadata": {
      "needs_background": "light",
      "image/png": {
       "width": 424,
       "height": 280
      }
     },
     "output_type": "display_data"
    }
   ],
   "execution_count": 26
  },
  {
   "cell_type": "markdown",
   "source": "From the bootstrapped results we can see that the mean and median age for stolen cars is 7.5 with high confidence. It is also interesting to see there is a bimodal median for the non-stolen cars at 11 and 12 thus reinforcing that the mean age for non-stolen cars centers heavily around 11 and 12 years old.\n\nAlso the 95% Confidence Interval for both bootstraps show there is statistical significance in the claim that non-stolen derelict cars are generally older than stolen derelict cars.",
   "metadata": {
    "tags": [],
    "cell_id": "00025-2e20aed6-0bf4-4ff7-943f-bd50cc90ac12",
    "deepnote_cell_type": "markdown"
   }
  },
  {
   "cell_type": "markdown",
   "source": "<a style='text-decoration:none;line-height:16px;display:flex;color:#5B5B62;padding:10px;justify-content:end;' href='https://deepnote.com?utm_source=created-in-deepnote-cell&projectId=a6fb1c43-fd59-4bf9-b4b7-5bddb3f2c397' target=\"_blank\">\n<img alt='Created in deepnote.com' style='display:inline;max-height:16px;margin:0px;margin-right:7.5px;' src='data:image/svg+xml;base64,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' > </img>\nCreated in <span style='font-weight:600;margin-left:4px;'>Deepnote</span></a>",
   "metadata": {
    "tags": [],
    "created_in_deepnote_cell": true,
    "deepnote_cell_type": "markdown"
   }
  }
 ],
 "nbformat": 4,
 "nbformat_minor": 2,
 "metadata": {
  "orig_nbformat": 2,
  "deepnote": {
   "is_reactive": false
  },
  "deepnote_notebook_id": "88905be2-a943-4fa2-8391-f952ccfd1600",
  "deepnote_execution_queue": []
 }
}